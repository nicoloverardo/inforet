{
 "cells": [
  {
   "cell_type": "markdown",
   "metadata": {
    "collapsed": true,
    "pycharm": {
     "name": "#%%\n"
    }
   },
   "source": [
    "# Statistical language models"
   ]
  },
  {
   "cell_type": "code",
   "execution_count": 1,
   "metadata": {},
   "outputs": [],
   "source": [
    "import numpy as np\n",
    "import pandas as pd\n",
    "from tqdm import tqdm_notebook"
   ]
  },
  {
   "cell_type": "code",
   "execution_count": 2,
   "metadata": {},
   "outputs": [],
   "source": [
    "import nltk"
   ]
  },
  {
   "cell_type": "code",
   "execution_count": 3,
   "metadata": {},
   "outputs": [],
   "source": [
    "from langmodels.corpora.moviedialog import MovieDialogCollection"
   ]
  },
  {
   "cell_type": "code",
   "execution_count": 4,
   "metadata": {},
   "outputs": [],
   "source": [
    "db_name = 'movie-dialogs'\n",
    "collection = 'lines'\n",
    "m = {'$match': {'character.movie.id': 'm42'}}\n",
    "p = {'$project': {'_id': 0, 'id': 1, 'text': 1}}\n",
    "s = {'$sort': {'id': 1}}\n",
    "pipeline = [m, p, s]"
   ]
  },
  {
   "cell_type": "code",
   "execution_count": 5,
   "metadata": {},
   "outputs": [],
   "source": [
    "m42 = MovieDialogCollection(db_name, collection, \n",
    "                              use_pos=False, pipeline=pipeline)"
   ]
  },
  {
   "cell_type": "code",
   "execution_count": 6,
   "metadata": {},
   "outputs": [],
   "source": [
    "s1 = 'The train for Marseilles leaves at five'\n",
    "s2 = \"A train to Marseilles and Lyon leaves five o'clock\""
   ]
  },
  {
   "cell_type": "code",
   "execution_count": 7,
   "metadata": {},
   "outputs": [
    {
     "data": {
      "text/plain": [
       "0"
      ]
     },
     "execution_count": 7,
     "metadata": {},
     "output_type": "execute_result"
    }
   ],
   "source": [
    "len([x for x in nltk.ngrams(m42.tokenize(s1), 2) \n",
    "     if x in nltk.ngrams(m42.tokenize(s2), 2)])"
   ]
  },
  {
   "cell_type": "code",
   "execution_count": 8,
   "metadata": {},
   "outputs": [
    {
     "data": {
      "text/plain": [
       "0"
      ]
     },
     "execution_count": 8,
     "metadata": {},
     "output_type": "execute_result"
    }
   ],
   "source": [
    "len([x for x in nltk.ngrams(m42.tokenize(s1), 3) \n",
    "     if x in nltk.ngrams(m42.tokenize(s2), 3)])"
   ]
  },
  {
   "cell_type": "markdown",
   "metadata": {},
   "source": [
    "## Skip grams"
   ]
  },
  {
   "cell_type": "code",
   "execution_count": 9,
   "metadata": {},
   "outputs": [],
   "source": [
    "def skip(sequence, n=2, s=2):\n",
    "    k_grams = []\n",
    "    for i in range(len(sequence)):\n",
    "        for z in range(s):\n",
    "            seq = [sequence[i]] + sequence[i+z+1:i+z+n]\n",
    "            if len(seq) == n and seq not in k_grams:\n",
    "                k_grams.append(tuple(seq))\n",
    "    return k_grams       "
   ]
  },
  {
   "cell_type": "code",
   "execution_count": 10,
   "metadata": {},
   "outputs": [],
   "source": [
    "t1 = m42.tokenize(s1)\n",
    "t2 = m42.tokenize(s2)"
   ]
  },
  {
   "cell_type": "code",
   "execution_count": 11,
   "metadata": {},
   "outputs": [
    {
     "name": "stdout",
     "output_type": "stream",
     "text": [
      "['the', 'train', 'for', 'marseilles', 'leaves', 'at', 'five']\n"
     ]
    }
   ],
   "source": [
    "print(t1)"
   ]
  },
  {
   "cell_type": "code",
   "execution_count": 12,
   "metadata": {},
   "outputs": [
    {
     "name": "stdout",
     "output_type": "stream",
     "text": [
      "[('the', 'train'), ('the', 'for'), ('the', 'marseilles'), ('train', 'for'), ('train', 'marseilles'), ('train', 'leaves'), ('for', 'marseilles'), ('for', 'leaves'), ('for', 'at'), ('marseilles', 'leaves'), ('marseilles', 'at'), ('marseilles', 'five'), ('leaves', 'at'), ('leaves', 'five'), ('at', 'five')]\n"
     ]
    }
   ],
   "source": [
    "print(skip(t1, n=2, s=3))"
   ]
  },
  {
   "cell_type": "code",
   "execution_count": 13,
   "metadata": {},
   "outputs": [
    {
     "name": "stdout",
     "output_type": "stream",
     "text": [
      "('train', 'marseilles')\n",
      "('marseilles', 'leaves')\n",
      "('leaves', 'five')\n"
     ]
    }
   ],
   "source": [
    "for e in [x for x in skip(t1, n=2, s=3) \n",
    "          if x in skip(t2, n=2, s=3)]:\n",
    "    print(e)"
   ]
  },
  {
   "cell_type": "markdown",
   "metadata": {},
   "source": [
    "## Contextual models"
   ]
  },
  {
   "cell_type": "code",
   "execution_count": 14,
   "metadata": {},
   "outputs": [],
   "source": [
    "from collections import defaultdict"
   ]
  },
  {
   "cell_type": "code",
   "execution_count": 15,
   "metadata": {},
   "outputs": [],
   "source": [
    "context = defaultdict(lambda: defaultdict(lambda: 0))\n",
    "for doc, line in m42:\n",
    "    for a, b in skip(m42.tokenize(line), n=2, s=3):\n",
    "        context[a][b] += 1"
   ]
  },
  {
   "cell_type": "code",
   "execution_count": 16,
   "metadata": {},
   "outputs": [],
   "source": [
    "C = pd.DataFrame(context).T\n",
    "C.fillna(0, inplace=True)"
   ]
  },
  {
   "cell_type": "code",
   "execution_count": 17,
   "metadata": {},
   "outputs": [
    {
     "data": {
      "text/html": [
       "<div>\n",
       "<style scoped>\n",
       "    .dataframe tbody tr th:only-of-type {\n",
       "        vertical-align: middle;\n",
       "    }\n",
       "\n",
       "    .dataframe tbody tr th {\n",
       "        vertical-align: top;\n",
       "    }\n",
       "\n",
       "    .dataframe thead th {\n",
       "        text-align: right;\n",
       "    }\n",
       "</style>\n",
       "<table border=\"1\" class=\"dataframe\">\n",
       "  <thead>\n",
       "    <tr style=\"text-align: right;\">\n",
       "      <th></th>\n",
       "      <th>france</th>\n",
       "      <th>welcomes</th>\n",
       "      <th>you</th>\n",
       "      <th>any</th>\n",
       "      <th>violation</th>\n",
       "      <th>to</th>\n",
       "      <th>of</th>\n",
       "      <th>all</th>\n",
       "      <th>can</th>\n",
       "      <th>casablanca</th>\n",
       "      <th>...</th>\n",
       "      <th>arising</th>\n",
       "      <th>entertainment</th>\n",
       "      <th>faithful</th>\n",
       "      <th>though</th>\n",
       "      <th>published</th>\n",
       "      <th>apprehended</th>\n",
       "      <th>occur</th>\n",
       "      <th>diplomatist</th>\n",
       "      <th>norwegian</th>\n",
       "      <th>ma'am</th>\n",
       "    </tr>\n",
       "  </thead>\n",
       "  <tbody>\n",
       "    <tr>\n",
       "      <th>unoccupied</th>\n",
       "      <td>2.0</td>\n",
       "      <td>1.0</td>\n",
       "      <td>1.0</td>\n",
       "      <td>1.0</td>\n",
       "      <td>1.0</td>\n",
       "      <td>0.0</td>\n",
       "      <td>0.0</td>\n",
       "      <td>0.0</td>\n",
       "      <td>0.0</td>\n",
       "      <td>0.0</td>\n",
       "      <td>...</td>\n",
       "      <td>0.0</td>\n",
       "      <td>0.0</td>\n",
       "      <td>0.0</td>\n",
       "      <td>0.0</td>\n",
       "      <td>0.0</td>\n",
       "      <td>0.0</td>\n",
       "      <td>0.0</td>\n",
       "      <td>0.0</td>\n",
       "      <td>0.0</td>\n",
       "      <td>0.0</td>\n",
       "    </tr>\n",
       "    <tr>\n",
       "      <th>france</th>\n",
       "      <td>0.0</td>\n",
       "      <td>1.0</td>\n",
       "      <td>2.0</td>\n",
       "      <td>1.0</td>\n",
       "      <td>1.0</td>\n",
       "      <td>1.0</td>\n",
       "      <td>1.0</td>\n",
       "      <td>1.0</td>\n",
       "      <td>1.0</td>\n",
       "      <td>0.0</td>\n",
       "      <td>...</td>\n",
       "      <td>0.0</td>\n",
       "      <td>0.0</td>\n",
       "      <td>0.0</td>\n",
       "      <td>0.0</td>\n",
       "      <td>0.0</td>\n",
       "      <td>0.0</td>\n",
       "      <td>0.0</td>\n",
       "      <td>0.0</td>\n",
       "      <td>0.0</td>\n",
       "      <td>0.0</td>\n",
       "    </tr>\n",
       "    <tr>\n",
       "      <th>welcomes</th>\n",
       "      <td>0.0</td>\n",
       "      <td>0.0</td>\n",
       "      <td>1.0</td>\n",
       "      <td>0.0</td>\n",
       "      <td>0.0</td>\n",
       "      <td>1.0</td>\n",
       "      <td>0.0</td>\n",
       "      <td>0.0</td>\n",
       "      <td>0.0</td>\n",
       "      <td>1.0</td>\n",
       "      <td>...</td>\n",
       "      <td>0.0</td>\n",
       "      <td>0.0</td>\n",
       "      <td>0.0</td>\n",
       "      <td>0.0</td>\n",
       "      <td>0.0</td>\n",
       "      <td>0.0</td>\n",
       "      <td>0.0</td>\n",
       "      <td>0.0</td>\n",
       "      <td>0.0</td>\n",
       "      <td>0.0</td>\n",
       "    </tr>\n",
       "    <tr>\n",
       "      <th>you</th>\n",
       "      <td>0.0</td>\n",
       "      <td>0.0</td>\n",
       "      <td>25.0</td>\n",
       "      <td>6.0</td>\n",
       "      <td>0.0</td>\n",
       "      <td>53.0</td>\n",
       "      <td>16.0</td>\n",
       "      <td>2.0</td>\n",
       "      <td>7.0</td>\n",
       "      <td>7.0</td>\n",
       "      <td>...</td>\n",
       "      <td>0.0</td>\n",
       "      <td>0.0</td>\n",
       "      <td>0.0</td>\n",
       "      <td>0.0</td>\n",
       "      <td>0.0</td>\n",
       "      <td>0.0</td>\n",
       "      <td>0.0</td>\n",
       "      <td>0.0</td>\n",
       "      <td>0.0</td>\n",
       "      <td>0.0</td>\n",
       "    </tr>\n",
       "    <tr>\n",
       "      <th>to</th>\n",
       "      <td>1.0</td>\n",
       "      <td>0.0</td>\n",
       "      <td>51.0</td>\n",
       "      <td>0.0</td>\n",
       "      <td>0.0</td>\n",
       "      <td>12.0</td>\n",
       "      <td>9.0</td>\n",
       "      <td>2.0</td>\n",
       "      <td>0.0</td>\n",
       "      <td>15.0</td>\n",
       "      <td>...</td>\n",
       "      <td>0.0</td>\n",
       "      <td>0.0</td>\n",
       "      <td>0.0</td>\n",
       "      <td>0.0</td>\n",
       "      <td>0.0</td>\n",
       "      <td>0.0</td>\n",
       "      <td>0.0</td>\n",
       "      <td>0.0</td>\n",
       "      <td>0.0</td>\n",
       "      <td>0.0</td>\n",
       "    </tr>\n",
       "  </tbody>\n",
       "</table>\n",
       "<p>5 rows × 1351 columns</p>\n",
       "</div>"
      ],
      "text/plain": [
       "            france  welcomes   you  any  violation    to    of  all  can  \\\n",
       "unoccupied     2.0       1.0   1.0  1.0        1.0   0.0   0.0  0.0  0.0   \n",
       "france         0.0       1.0   2.0  1.0        1.0   1.0   1.0  1.0  1.0   \n",
       "welcomes       0.0       0.0   1.0  0.0        0.0   1.0   0.0  0.0  0.0   \n",
       "you            0.0       0.0  25.0  6.0        0.0  53.0  16.0  2.0  7.0   \n",
       "to             1.0       0.0  51.0  0.0        0.0  12.0   9.0  2.0  0.0   \n",
       "\n",
       "            casablanca  ...  arising  entertainment  faithful  though  \\\n",
       "unoccupied         0.0  ...      0.0            0.0       0.0     0.0   \n",
       "france             0.0  ...      0.0            0.0       0.0     0.0   \n",
       "welcomes           1.0  ...      0.0            0.0       0.0     0.0   \n",
       "you                7.0  ...      0.0            0.0       0.0     0.0   \n",
       "to                15.0  ...      0.0            0.0       0.0     0.0   \n",
       "\n",
       "            published  apprehended  occur  diplomatist  norwegian  ma'am  \n",
       "unoccupied        0.0          0.0    0.0          0.0        0.0    0.0  \n",
       "france            0.0          0.0    0.0          0.0        0.0    0.0  \n",
       "welcomes          0.0          0.0    0.0          0.0        0.0    0.0  \n",
       "you               0.0          0.0    0.0          0.0        0.0    0.0  \n",
       "to                0.0          0.0    0.0          0.0        0.0    0.0  \n",
       "\n",
       "[5 rows x 1351 columns]"
      ]
     },
     "execution_count": 17,
     "metadata": {},
     "output_type": "execute_result"
    }
   ],
   "source": [
    "C.head()"
   ]
  },
  {
   "cell_type": "markdown",
   "metadata": {},
   "source": [
    "### Keep only words that appear in both the dimensions"
   ]
  },
  {
   "cell_type": "code",
   "execution_count": 18,
   "metadata": {},
   "outputs": [],
   "source": [
    "words = [w for w in C.columns if w not in C.index]\n",
    "words += [w for w in C.index if w not in C.columns]"
   ]
  },
  {
   "cell_type": "code",
   "execution_count": 19,
   "metadata": {},
   "outputs": [
    {
     "data": {
      "text/plain": [
       "118"
      ]
     },
     "execution_count": 19,
     "metadata": {},
     "output_type": "execute_result"
    }
   ],
   "source": [
    "len(words)"
   ]
  },
  {
   "cell_type": "code",
   "execution_count": 20,
   "metadata": {},
   "outputs": [],
   "source": [
    "C.drop(words, axis=0, inplace=True, errors='ignore')\n",
    "C.drop(words, axis=1, inplace=True, errors='ignore')"
   ]
  },
  {
   "cell_type": "code",
   "execution_count": 21,
   "metadata": {},
   "outputs": [
    {
     "data": {
      "text/plain": [
       "(1244, 1244)"
      ]
     },
     "execution_count": 21,
     "metadata": {},
     "output_type": "execute_result"
    }
   ],
   "source": [
    "C.shape"
   ]
  },
  {
   "cell_type": "code",
   "execution_count": 22,
   "metadata": {},
   "outputs": [
    {
     "data": {
      "text/html": [
       "<div>\n",
       "<style scoped>\n",
       "    .dataframe tbody tr th:only-of-type {\n",
       "        vertical-align: middle;\n",
       "    }\n",
       "\n",
       "    .dataframe tbody tr th {\n",
       "        vertical-align: top;\n",
       "    }\n",
       "\n",
       "    .dataframe thead th {\n",
       "        text-align: right;\n",
       "    }\n",
       "</style>\n",
       "<table border=\"1\" class=\"dataframe\">\n",
       "  <thead>\n",
       "    <tr style=\"text-align: right;\">\n",
       "      <th></th>\n",
       "      <th>france</th>\n",
       "      <th>welcomes</th>\n",
       "      <th>you</th>\n",
       "      <th>any</th>\n",
       "      <th>violation</th>\n",
       "      <th>to</th>\n",
       "      <th>of</th>\n",
       "      <th>all</th>\n",
       "      <th>can</th>\n",
       "      <th>casablanca</th>\n",
       "      <th>...</th>\n",
       "      <th>says</th>\n",
       "      <th>arising</th>\n",
       "      <th>entertainment</th>\n",
       "      <th>faithful</th>\n",
       "      <th>though</th>\n",
       "      <th>published</th>\n",
       "      <th>apprehended</th>\n",
       "      <th>occur</th>\n",
       "      <th>norwegian</th>\n",
       "      <th>ma'am</th>\n",
       "    </tr>\n",
       "  </thead>\n",
       "  <tbody>\n",
       "    <tr>\n",
       "      <th>unoccupied</th>\n",
       "      <td>2.0</td>\n",
       "      <td>1.0</td>\n",
       "      <td>1.0</td>\n",
       "      <td>1.0</td>\n",
       "      <td>1.0</td>\n",
       "      <td>0.0</td>\n",
       "      <td>0.0</td>\n",
       "      <td>0.0</td>\n",
       "      <td>0.0</td>\n",
       "      <td>0.0</td>\n",
       "      <td>...</td>\n",
       "      <td>0.0</td>\n",
       "      <td>0.0</td>\n",
       "      <td>0.0</td>\n",
       "      <td>0.0</td>\n",
       "      <td>0.0</td>\n",
       "      <td>0.0</td>\n",
       "      <td>0.0</td>\n",
       "      <td>0.0</td>\n",
       "      <td>0.0</td>\n",
       "      <td>0.0</td>\n",
       "    </tr>\n",
       "    <tr>\n",
       "      <th>france</th>\n",
       "      <td>0.0</td>\n",
       "      <td>1.0</td>\n",
       "      <td>2.0</td>\n",
       "      <td>1.0</td>\n",
       "      <td>1.0</td>\n",
       "      <td>1.0</td>\n",
       "      <td>1.0</td>\n",
       "      <td>1.0</td>\n",
       "      <td>1.0</td>\n",
       "      <td>0.0</td>\n",
       "      <td>...</td>\n",
       "      <td>0.0</td>\n",
       "      <td>0.0</td>\n",
       "      <td>0.0</td>\n",
       "      <td>0.0</td>\n",
       "      <td>0.0</td>\n",
       "      <td>0.0</td>\n",
       "      <td>0.0</td>\n",
       "      <td>0.0</td>\n",
       "      <td>0.0</td>\n",
       "      <td>0.0</td>\n",
       "    </tr>\n",
       "    <tr>\n",
       "      <th>welcomes</th>\n",
       "      <td>0.0</td>\n",
       "      <td>0.0</td>\n",
       "      <td>1.0</td>\n",
       "      <td>0.0</td>\n",
       "      <td>0.0</td>\n",
       "      <td>1.0</td>\n",
       "      <td>0.0</td>\n",
       "      <td>0.0</td>\n",
       "      <td>0.0</td>\n",
       "      <td>1.0</td>\n",
       "      <td>...</td>\n",
       "      <td>0.0</td>\n",
       "      <td>0.0</td>\n",
       "      <td>0.0</td>\n",
       "      <td>0.0</td>\n",
       "      <td>0.0</td>\n",
       "      <td>0.0</td>\n",
       "      <td>0.0</td>\n",
       "      <td>0.0</td>\n",
       "      <td>0.0</td>\n",
       "      <td>0.0</td>\n",
       "    </tr>\n",
       "    <tr>\n",
       "      <th>you</th>\n",
       "      <td>0.0</td>\n",
       "      <td>0.0</td>\n",
       "      <td>25.0</td>\n",
       "      <td>6.0</td>\n",
       "      <td>0.0</td>\n",
       "      <td>53.0</td>\n",
       "      <td>16.0</td>\n",
       "      <td>2.0</td>\n",
       "      <td>7.0</td>\n",
       "      <td>7.0</td>\n",
       "      <td>...</td>\n",
       "      <td>0.0</td>\n",
       "      <td>0.0</td>\n",
       "      <td>0.0</td>\n",
       "      <td>0.0</td>\n",
       "      <td>0.0</td>\n",
       "      <td>0.0</td>\n",
       "      <td>0.0</td>\n",
       "      <td>0.0</td>\n",
       "      <td>0.0</td>\n",
       "      <td>0.0</td>\n",
       "    </tr>\n",
       "    <tr>\n",
       "      <th>to</th>\n",
       "      <td>1.0</td>\n",
       "      <td>0.0</td>\n",
       "      <td>51.0</td>\n",
       "      <td>0.0</td>\n",
       "      <td>0.0</td>\n",
       "      <td>12.0</td>\n",
       "      <td>9.0</td>\n",
       "      <td>2.0</td>\n",
       "      <td>0.0</td>\n",
       "      <td>15.0</td>\n",
       "      <td>...</td>\n",
       "      <td>0.0</td>\n",
       "      <td>0.0</td>\n",
       "      <td>0.0</td>\n",
       "      <td>0.0</td>\n",
       "      <td>0.0</td>\n",
       "      <td>0.0</td>\n",
       "      <td>0.0</td>\n",
       "      <td>0.0</td>\n",
       "      <td>0.0</td>\n",
       "      <td>0.0</td>\n",
       "    </tr>\n",
       "  </tbody>\n",
       "</table>\n",
       "<p>5 rows × 1244 columns</p>\n",
       "</div>"
      ],
      "text/plain": [
       "            france  welcomes   you  any  violation    to    of  all  can  \\\n",
       "unoccupied     2.0       1.0   1.0  1.0        1.0   0.0   0.0  0.0  0.0   \n",
       "france         0.0       1.0   2.0  1.0        1.0   1.0   1.0  1.0  1.0   \n",
       "welcomes       0.0       0.0   1.0  0.0        0.0   1.0   0.0  0.0  0.0   \n",
       "you            0.0       0.0  25.0  6.0        0.0  53.0  16.0  2.0  7.0   \n",
       "to             1.0       0.0  51.0  0.0        0.0  12.0   9.0  2.0  0.0   \n",
       "\n",
       "            casablanca  ...  says  arising  entertainment  faithful  though  \\\n",
       "unoccupied         0.0  ...   0.0      0.0            0.0       0.0     0.0   \n",
       "france             0.0  ...   0.0      0.0            0.0       0.0     0.0   \n",
       "welcomes           1.0  ...   0.0      0.0            0.0       0.0     0.0   \n",
       "you                7.0  ...   0.0      0.0            0.0       0.0     0.0   \n",
       "to                15.0  ...   0.0      0.0            0.0       0.0     0.0   \n",
       "\n",
       "            published  apprehended  occur  norwegian  ma'am  \n",
       "unoccupied        0.0          0.0    0.0        0.0    0.0  \n",
       "france            0.0          0.0    0.0        0.0    0.0  \n",
       "welcomes          0.0          0.0    0.0        0.0    0.0  \n",
       "you               0.0          0.0    0.0        0.0    0.0  \n",
       "to                0.0          0.0    0.0        0.0    0.0  \n",
       "\n",
       "[5 rows x 1244 columns]"
      ]
     },
     "execution_count": 22,
     "metadata": {},
     "output_type": "execute_result"
    }
   ],
   "source": [
    "C.head()"
   ]
  },
  {
   "cell_type": "code",
   "execution_count": 23,
   "metadata": {},
   "outputs": [],
   "source": [
    "from sklearn.metrics.pairwise import cosine_similarity"
   ]
  },
  {
   "cell_type": "code",
   "execution_count": 24,
   "metadata": {},
   "outputs": [],
   "source": [
    "sigma = cosine_similarity(C, C)"
   ]
  },
  {
   "cell_type": "code",
   "execution_count": 25,
   "metadata": {},
   "outputs": [],
   "source": [
    "j = list(C.index).index('train')"
   ]
  },
  {
   "cell_type": "code",
   "execution_count": 26,
   "metadata": {},
   "outputs": [
    {
     "name": "stdout",
     "output_type": "stream",
     "text": [
      "train\n",
      "soon\n",
      "immediately\n",
      "living\n",
      "sick\n"
     ]
    }
   ],
   "source": [
    "for i, x in sorted(enumerate(sigma[j]), key=lambda y: -y[1])[:5]:\n",
    "    print(C.index[i])"
   ]
  },
  {
   "cell_type": "markdown",
   "metadata": {},
   "source": [
    "## Matrix factorization"
   ]
  },
  {
   "cell_type": "code",
   "execution_count": 27,
   "metadata": {},
   "outputs": [],
   "source": [
    "from sklearn.decomposition import TruncatedSVD"
   ]
  },
  {
   "cell_type": "code",
   "execution_count": 28,
   "metadata": {},
   "outputs": [],
   "source": [
    "S = TruncatedSVD(n_components=100)"
   ]
  },
  {
   "cell_type": "code",
   "execution_count": 29,
   "metadata": {},
   "outputs": [],
   "source": [
    "Cs = S.fit_transform(C)"
   ]
  },
  {
   "cell_type": "code",
   "execution_count": 30,
   "metadata": {},
   "outputs": [
    {
     "data": {
      "text/plain": [
       "(1244, 100)"
      ]
     },
     "execution_count": 30,
     "metadata": {},
     "output_type": "execute_result"
    }
   ],
   "source": [
    "Cs.shape"
   ]
  },
  {
   "cell_type": "code",
   "execution_count": 31,
   "metadata": {},
   "outputs": [],
   "source": [
    "sigma = cosine_similarity(Cs, Cs)"
   ]
  },
  {
   "cell_type": "code",
   "execution_count": 32,
   "metadata": {},
   "outputs": [],
   "source": [
    "j = list(C.index).index('train')"
   ]
  },
  {
   "cell_type": "code",
   "execution_count": 33,
   "metadata": {},
   "outputs": [
    {
     "name": "stdout",
     "output_type": "stream",
     "text": [
      "train\n",
      "abdul\n",
      "soon\n",
      "knowledge\n",
      "immediately\n"
     ]
    }
   ],
   "source": [
    "for i, x in sorted(enumerate(sigma[j]), key=lambda y: -y[1])[:5]:\n",
    "    print(C.index[i])"
   ]
  },
  {
   "cell_type": "markdown",
   "metadata": {},
   "source": [
    "## LDA"
   ]
  },
  {
   "cell_type": "code",
   "execution_count": 34,
   "metadata": {},
   "outputs": [],
   "source": [
    "from sklearn.decomposition import LatentDirichletAllocation"
   ]
  },
  {
   "cell_type": "code",
   "execution_count": 35,
   "metadata": {},
   "outputs": [],
   "source": [
    "r = {'$match': {'character.movie.genres': 'war'}}\n",
    "tm = MovieDialogCollection(db_name, collection, \n",
    "                           use_pos=False,\n",
    "                           drop_stopwords=True,\n",
    "                           pipeline=[r, p, s],\n",
    "                           pos_filter=['NOUN'],\n",
    "                           lemma=True\n",
    "                          )"
   ]
  },
  {
   "cell_type": "code",
   "execution_count": 65,
   "metadata": {},
   "outputs": [],
   "source": [
    "lda = LatentDirichletAllocation(n_components=50)"
   ]
  },
  {
   "cell_type": "code",
   "execution_count": 37,
   "metadata": {},
   "outputs": [],
   "source": [
    "I = defaultdict(lambda: defaultdict(lambda: 0))\n",
    "docs = []\n",
    "for doc, tokens in tm.get_tokens():\n",
    "    docs.append(doc)\n",
    "    for token in tokens:\n",
    "        I[doc][token] += 1"
   ]
  },
  {
   "cell_type": "code",
   "execution_count": 38,
   "metadata": {},
   "outputs": [],
   "source": [
    "X = pd.DataFrame(I).T\n",
    "X.fillna(0, inplace=True)"
   ]
  },
  {
   "cell_type": "code",
   "execution_count": 40,
   "metadata": {},
   "outputs": [
    {
     "data": {
      "text/plain": [
       "(7073, 4244)"
      ]
     },
     "execution_count": 40,
     "metadata": {},
     "output_type": "execute_result"
    }
   ],
   "source": [
    "X.shape"
   ]
  },
  {
   "cell_type": "markdown",
   "metadata": {},
   "source": [
    "### Document distribution over documents"
   ]
  },
  {
   "cell_type": "code",
   "execution_count": 66,
   "metadata": {},
   "outputs": [],
   "source": [
    "theta = lda.fit_transform(X)"
   ]
  },
  {
   "cell_type": "code",
   "execution_count": 67,
   "metadata": {},
   "outputs": [
    {
     "data": {
      "text/plain": [
       "(7073, 50)"
      ]
     },
     "execution_count": 67,
     "metadata": {},
     "output_type": "execute_result"
    }
   ],
   "source": [
    "theta.shape"
   ]
  },
  {
   "cell_type": "markdown",
   "metadata": {},
   "source": [
    "### Word distribution over topics"
   ]
  },
  {
   "cell_type": "code",
   "execution_count": 68,
   "metadata": {},
   "outputs": [],
   "source": [
    "phi = lda.components_ / lda.components_.sum(axis=1)[:, np.newaxis]"
   ]
  },
  {
   "cell_type": "code",
   "execution_count": 69,
   "metadata": {},
   "outputs": [
    {
     "data": {
      "text/plain": [
       "(50, 4244)"
      ]
     },
     "execution_count": 69,
     "metadata": {},
     "output_type": "execute_result"
    }
   ],
   "source": [
    "phi.shape"
   ]
  },
  {
   "cell_type": "markdown",
   "metadata": {},
   "source": [
    "### Get most relevant documents per topic"
   ]
  },
  {
   "cell_type": "code",
   "execution_count": 73,
   "metadata": {},
   "outputs": [],
   "source": [
    "documents = dict([(d, t) for d, t in tm])\n",
    "topic = 1"
   ]
  },
  {
   "cell_type": "code",
   "execution_count": 74,
   "metadata": {},
   "outputs": [
    {
     "name": "stdout",
     "output_type": "stream",
     "text": [
      "4192 0.859999999999999\n",
      "What do you do in the joint besides pimp? \n",
      "\n",
      "6874 0.8366666666666466\n",
      "She'll never forgive me! \n",
      "\n",
      "4222 0.8203732644422244\n",
      "Let's get his clothes off quick. \n",
      "\n",
      "4999 0.8039999999999722\n",
      "I sent telegrams, I guess the military traffic held them up. \n",
      "\n",
      "7042 0.8039999999999508\n",
      "You will remember the name? Von Scherbach? VON SCHER-BACH! \n",
      "\n"
     ]
    }
   ],
   "source": [
    "for i, x in sorted(enumerate(theta[:,topic]), key=lambda y: -y[1])[:5]:\n",
    "    print(i, x)\n",
    "    print(documents[docs[i]], '\\n')"
   ]
  },
  {
   "cell_type": "markdown",
   "metadata": {},
   "source": [
    "### Get most relevant words per topic"
   ]
  },
  {
   "cell_type": "code",
   "execution_count": 75,
   "metadata": {},
   "outputs": [
    {
     "name": "stdout",
     "output_type": "stream",
     "text": [
      "37 0.347526097853741\n",
      "sir \n",
      "\n",
      "40 0.05967234120950544\n",
      "lord \n",
      "\n",
      "271 0.04346697422513307\n",
      "thank \n",
      "\n",
      "431 0.02282598214856176\n",
      "lady \n",
      "\n",
      "771 0.022410885193540186\n",
      "tree \n",
      "\n"
     ]
    }
   ],
   "source": [
    "for i, x in sorted(enumerate(phi[topic,:]), key=lambda y: -y[1])[:5]:\n",
    "    print(i, x)\n",
    "    print(X.columns[i], '\\n')"
   ]
  },
  {
   "cell_type": "code",
   "execution_count": null,
   "metadata": {},
   "outputs": [],
   "source": []
  }
 ],
 "metadata": {
  "kernelspec": {
   "display_name": "Python 3",
   "language": "python",
   "name": "python3"
  },
  "language_info": {
   "codemirror_mode": {
    "name": "ipython",
    "version": 3
   },
   "file_extension": ".py",
   "mimetype": "text/x-python",
   "name": "python",
   "nbconvert_exporter": "python",
   "pygments_lexer": "ipython3",
   "version": "3.7.4"
  },
  "pycharm": {
   "stem_cell": {
    "cell_type": "raw",
    "metadata": {
     "collapsed": false
    },
    "source": []
   }
  },
  "toc": {
   "base_numbering": 1,
   "nav_menu": {},
   "number_sections": true,
   "sideBar": true,
   "skip_h1_title": true,
   "title_cell": "Table of Contents",
   "title_sidebar": "Contents",
   "toc_cell": false,
   "toc_position": {},
   "toc_section_display": true,
   "toc_window_display": false
  }
 },
 "nbformat": 4,
 "nbformat_minor": 1
}
