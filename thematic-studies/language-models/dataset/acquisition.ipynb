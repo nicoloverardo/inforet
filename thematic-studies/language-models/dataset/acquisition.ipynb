{
 "cells": [
  {
   "cell_type": "markdown",
   "metadata": {},
   "source": [
    "# Dataset acquisition\n",
    "Data from the Cornell Movie-Dialogs Corpus [https://www.cs.cornell.edu/~cristian/Cornell_Movie-Dialogs_Corpus.html](https://www.cs.cornell.edu/~cristian/Cornell_Movie-Dialogs_Corpus.html)\n",
    "<pre><code>\n",
    "@InProceedings{Danescu-Niculescu-Mizil+Lee:11a,\n",
    "  author={Cristian Danescu-Niculescu-Mizil and Lillian Lee},\n",
    "  title={Chameleons in imagined conversations: \n",
    "  A new approach to understanding coordination of linguistic style in dialogs.},\n",
    "  booktitle={Proceedings of the \n",
    "        Workshop on Cognitive Modeling and Computational Linguistics, ACL 2011},\n",
    "  year={2011}\n",
    "}\n",
    "</code></pre>\n",
    "From README.txt\n",
    "\n",
    "## Brief description:\n",
    "\n",
    "This corpus contains a metadata-rich collection of fictional conversations extracted from raw movie scripts:\n",
    "\n",
    "- 220,579 conversational exchanges between 10,292 pairs of movie characters\n",
    "- involves 9,035 characters from 617 movies\n",
    "- in total 304,713 utterances\n",
    "- movie metadata included:\n",
    "\t- genres\n",
    "\t- release year\n",
    "\t- IMDB rating\n",
    "\t- number of IMDB votes\n",
    "\t- IMDB rating\n",
    "- character metadata included:\n",
    "\t- gender (for 3,774 characters)\n",
    "\t- position on movie credits (3,321 characters)\n",
    "\n",
    "\n",
    "## Files description:\n",
    "\n",
    "In all files the field separator is `\" +++$+++ \"`\n",
    "\n",
    "### movie_titles_metadata.txt\n",
    "contains information about each movie title\n",
    "- fields: \n",
    "    - movieID, \n",
    "    - movie title,\n",
    "    - movie year, \n",
    "    - IMDB rating,\n",
    "    - no. IMDB votes,\n",
    "    - genres in the format `['genre1','genre2',…,'genreN']`\n",
    "\n",
    "### movie_characters_metadata.txt\n",
    "contains information about each movie character\n",
    "- fields:\n",
    "    - characterID\n",
    "    - character name\n",
    "    - movieID\n",
    "    - movie title\n",
    "    - gender (\"?\" for unlabeled cases)\n",
    "    - position in credits (\"?\" for unlabeled cases) \n",
    "\n",
    "### movie_lines.txt\n",
    "contains the actual text of each utterance\n",
    "- fields:\n",
    "    - lineID\n",
    "    - characterID (who uttered this phrase)\n",
    "    - movieID\n",
    "    - character name\n",
    "    - text of the utterance\n",
    "\n",
    "### movie_conversations.txt\n",
    "the structure of the conversations\n",
    "- fields\n",
    "    - characterID of the first character involved in the conversation\n",
    "    - characterID of the second character involved in the conversation\n",
    "    - movieID of the movie in which the conversation occurred\n",
    "    - list of the utterances that make the conversation, in chronological \n",
    "        order: `['lineID1','lineID2',…,'lineIDN']`\n",
    "        has to be matched with movie_lines.txt to reconstruct the actual content\n",
    "\n",
    "### raw_script_urls.txt\n",
    "the urls from which the raw sources were retrieved"
   ]
  },
  {
   "cell_type": "code",
   "execution_count": 1,
   "metadata": {},
   "outputs": [],
   "source": [
    "import numpy as np\n",
    "import pandas as pd\n",
    "from tqdm import tqdm_notebook"
   ]
  },
  {
   "cell_type": "code",
   "execution_count": 2,
   "metadata": {},
   "outputs": [],
   "source": [
    "sep = ' \\+\\+\\+\\$\\+\\+\\+ '"
   ]
  },
  {
   "cell_type": "code",
   "execution_count": 3,
   "metadata": {},
   "outputs": [],
   "source": [
    "tolist = lambda x: [w.strip(\"'\") for w in x.lstrip('[]').rstrip(']').split(', ')]"
   ]
  },
  {
   "cell_type": "markdown",
   "metadata": {},
   "source": [
    "## Movies"
   ]
  },
  {
   "cell_type": "code",
   "execution_count": 4,
   "metadata": {},
   "outputs": [],
   "source": [
    "movies_file = 'data/movie_titles_metadata.txt'\n",
    "columns = ['title', 'year', 'rating', 'votes', 'genres']\n",
    "movies_raw = pd.read_csv(movies_file, sep=sep, engine='python', header=None, \n",
    "                     index_col=0, names=columns)\n",
    "movies = movies_raw[columns[:-1]]\n",
    "genres = [(i, w) for i, row in movies_raw.iterrows() for w in tolist(row.genres)]"
   ]
  },
  {
   "cell_type": "markdown",
   "metadata": {},
   "source": [
    "## Characters"
   ]
  },
  {
   "cell_type": "code",
   "execution_count": 5,
   "metadata": {},
   "outputs": [],
   "source": [
    "characters_file = 'data/movie_characters_metadata.txt'\n",
    "columns = ['name', 'movie', 'title', 'gender', 'pos']\n",
    "characters = pd.read_csv(characters_file, sep=sep, engine='python', \n",
    "                         header=None, names=columns, index_col=0)"
   ]
  },
  {
   "cell_type": "code",
   "execution_count": 6,
   "metadata": {
    "scrolled": true
   },
   "outputs": [
    {
     "data": {
      "text/html": [
       "<div>\n",
       "<style scoped>\n",
       "    .dataframe tbody tr th:only-of-type {\n",
       "        vertical-align: middle;\n",
       "    }\n",
       "\n",
       "    .dataframe tbody tr th {\n",
       "        vertical-align: top;\n",
       "    }\n",
       "\n",
       "    .dataframe thead th {\n",
       "        text-align: right;\n",
       "    }\n",
       "</style>\n",
       "<table border=\"1\" class=\"dataframe\">\n",
       "  <thead>\n",
       "    <tr style=\"text-align: right;\">\n",
       "      <th></th>\n",
       "      <th>name</th>\n",
       "      <th>movie</th>\n",
       "      <th>title</th>\n",
       "      <th>gender</th>\n",
       "      <th>pos</th>\n",
       "    </tr>\n",
       "  </thead>\n",
       "  <tbody>\n",
       "    <tr>\n",
       "      <td>u0</td>\n",
       "      <td>BIANCA</td>\n",
       "      <td>m0</td>\n",
       "      <td>10 things i hate about you</td>\n",
       "      <td>f</td>\n",
       "      <td>4</td>\n",
       "    </tr>\n",
       "    <tr>\n",
       "      <td>u1</td>\n",
       "      <td>BRUCE</td>\n",
       "      <td>m0</td>\n",
       "      <td>10 things i hate about you</td>\n",
       "      <td>?</td>\n",
       "      <td>?</td>\n",
       "    </tr>\n",
       "    <tr>\n",
       "      <td>u2</td>\n",
       "      <td>CAMERON</td>\n",
       "      <td>m0</td>\n",
       "      <td>10 things i hate about you</td>\n",
       "      <td>m</td>\n",
       "      <td>3</td>\n",
       "    </tr>\n",
       "    <tr>\n",
       "      <td>u3</td>\n",
       "      <td>CHASTITY</td>\n",
       "      <td>m0</td>\n",
       "      <td>10 things i hate about you</td>\n",
       "      <td>?</td>\n",
       "      <td>?</td>\n",
       "    </tr>\n",
       "    <tr>\n",
       "      <td>u4</td>\n",
       "      <td>JOEY</td>\n",
       "      <td>m0</td>\n",
       "      <td>10 things i hate about you</td>\n",
       "      <td>m</td>\n",
       "      <td>6</td>\n",
       "    </tr>\n",
       "  </tbody>\n",
       "</table>\n",
       "</div>"
      ],
      "text/plain": [
       "        name movie                       title gender pos\n",
       "u0    BIANCA    m0  10 things i hate about you      f   4\n",
       "u1     BRUCE    m0  10 things i hate about you      ?   ?\n",
       "u2   CAMERON    m0  10 things i hate about you      m   3\n",
       "u3  CHASTITY    m0  10 things i hate about you      ?   ?\n",
       "u4      JOEY    m0  10 things i hate about you      m   6"
      ]
     },
     "execution_count": 6,
     "metadata": {},
     "output_type": "execute_result"
    }
   ],
   "source": [
    "characters.head()"
   ]
  },
  {
   "cell_type": "code",
   "execution_count": 7,
   "metadata": {},
   "outputs": [
    {
     "data": {
      "text/plain": [
       "(9035, 5)"
      ]
     },
     "execution_count": 7,
     "metadata": {},
     "output_type": "execute_result"
    }
   ],
   "source": [
    "characters.shape"
   ]
  },
  {
   "cell_type": "markdown",
   "metadata": {},
   "source": [
    "## Movie lines"
   ]
  },
  {
   "cell_type": "code",
   "execution_count": 8,
   "metadata": {},
   "outputs": [],
   "source": [
    "lines_file = 'data/movie_lines.txt'\n",
    "columns = ['character', 'movie', 'name', 'text']\n",
    "movie_lines = pd.read_csv(lines_file, sep=sep, names=columns, header=None, index_col=0, engine='python')"
   ]
  },
  {
   "cell_type": "code",
   "execution_count": 9,
   "metadata": {},
   "outputs": [
    {
     "data": {
      "text/html": [
       "<div>\n",
       "<style scoped>\n",
       "    .dataframe tbody tr th:only-of-type {\n",
       "        vertical-align: middle;\n",
       "    }\n",
       "\n",
       "    .dataframe tbody tr th {\n",
       "        vertical-align: top;\n",
       "    }\n",
       "\n",
       "    .dataframe thead th {\n",
       "        text-align: right;\n",
       "    }\n",
       "</style>\n",
       "<table border=\"1\" class=\"dataframe\">\n",
       "  <thead>\n",
       "    <tr style=\"text-align: right;\">\n",
       "      <th></th>\n",
       "      <th>character</th>\n",
       "      <th>movie</th>\n",
       "      <th>name</th>\n",
       "      <th>text</th>\n",
       "    </tr>\n",
       "  </thead>\n",
       "  <tbody>\n",
       "    <tr>\n",
       "      <td>L1045</td>\n",
       "      <td>u0</td>\n",
       "      <td>m0</td>\n",
       "      <td>BIANCA</td>\n",
       "      <td>They do not!</td>\n",
       "    </tr>\n",
       "    <tr>\n",
       "      <td>L1044</td>\n",
       "      <td>u2</td>\n",
       "      <td>m0</td>\n",
       "      <td>CAMERON</td>\n",
       "      <td>They do to!</td>\n",
       "    </tr>\n",
       "    <tr>\n",
       "      <td>L985</td>\n",
       "      <td>u0</td>\n",
       "      <td>m0</td>\n",
       "      <td>BIANCA</td>\n",
       "      <td>I hope so.</td>\n",
       "    </tr>\n",
       "    <tr>\n",
       "      <td>L984</td>\n",
       "      <td>u2</td>\n",
       "      <td>m0</td>\n",
       "      <td>CAMERON</td>\n",
       "      <td>She okay?</td>\n",
       "    </tr>\n",
       "    <tr>\n",
       "      <td>L925</td>\n",
       "      <td>u0</td>\n",
       "      <td>m0</td>\n",
       "      <td>BIANCA</td>\n",
       "      <td>Let's go.</td>\n",
       "    </tr>\n",
       "  </tbody>\n",
       "</table>\n",
       "</div>"
      ],
      "text/plain": [
       "      character movie     name          text\n",
       "L1045        u0    m0   BIANCA  They do not!\n",
       "L1044        u2    m0  CAMERON   They do to!\n",
       "L985         u0    m0   BIANCA    I hope so.\n",
       "L984         u2    m0  CAMERON     She okay?\n",
       "L925         u0    m0   BIANCA     Let's go."
      ]
     },
     "execution_count": 9,
     "metadata": {},
     "output_type": "execute_result"
    }
   ],
   "source": [
    "movie_lines.head()"
   ]
  },
  {
   "cell_type": "code",
   "execution_count": 10,
   "metadata": {},
   "outputs": [
    {
     "data": {
      "text/plain": [
       "(304713, 4)"
      ]
     },
     "execution_count": 10,
     "metadata": {},
     "output_type": "execute_result"
    }
   ],
   "source": [
    "movie_lines.shape"
   ]
  },
  {
   "cell_type": "markdown",
   "metadata": {},
   "source": [
    "## Conversations"
   ]
  },
  {
   "cell_type": "code",
   "execution_count": 11,
   "metadata": {},
   "outputs": [],
   "source": [
    "conversations_file = 'data/movie_conversations.txt'\n",
    "columns = ['character_a', 'character_b', 'movie', 'lines']\n",
    "conversations = pd.read_csv(conversations_file, sep=sep, names=columns, \n",
    "                             header=None, engine='python')"
   ]
  },
  {
   "cell_type": "code",
   "execution_count": 12,
   "metadata": {},
   "outputs": [
    {
     "data": {
      "text/html": [
       "<div>\n",
       "<style scoped>\n",
       "    .dataframe tbody tr th:only-of-type {\n",
       "        vertical-align: middle;\n",
       "    }\n",
       "\n",
       "    .dataframe tbody tr th {\n",
       "        vertical-align: top;\n",
       "    }\n",
       "\n",
       "    .dataframe thead th {\n",
       "        text-align: right;\n",
       "    }\n",
       "</style>\n",
       "<table border=\"1\" class=\"dataframe\">\n",
       "  <thead>\n",
       "    <tr style=\"text-align: right;\">\n",
       "      <th></th>\n",
       "      <th>character_a</th>\n",
       "      <th>character_b</th>\n",
       "      <th>movie</th>\n",
       "      <th>lines</th>\n",
       "    </tr>\n",
       "  </thead>\n",
       "  <tbody>\n",
       "    <tr>\n",
       "      <td>0</td>\n",
       "      <td>u0</td>\n",
       "      <td>u2</td>\n",
       "      <td>m0</td>\n",
       "      <td>['L194', 'L195', 'L196', 'L197']</td>\n",
       "    </tr>\n",
       "    <tr>\n",
       "      <td>1</td>\n",
       "      <td>u0</td>\n",
       "      <td>u2</td>\n",
       "      <td>m0</td>\n",
       "      <td>['L198', 'L199']</td>\n",
       "    </tr>\n",
       "    <tr>\n",
       "      <td>2</td>\n",
       "      <td>u0</td>\n",
       "      <td>u2</td>\n",
       "      <td>m0</td>\n",
       "      <td>['L200', 'L201', 'L202', 'L203']</td>\n",
       "    </tr>\n",
       "    <tr>\n",
       "      <td>3</td>\n",
       "      <td>u0</td>\n",
       "      <td>u2</td>\n",
       "      <td>m0</td>\n",
       "      <td>['L204', 'L205', 'L206']</td>\n",
       "    </tr>\n",
       "    <tr>\n",
       "      <td>4</td>\n",
       "      <td>u0</td>\n",
       "      <td>u2</td>\n",
       "      <td>m0</td>\n",
       "      <td>['L207', 'L208']</td>\n",
       "    </tr>\n",
       "  </tbody>\n",
       "</table>\n",
       "</div>"
      ],
      "text/plain": [
       "  character_a character_b movie                             lines\n",
       "0          u0          u2    m0  ['L194', 'L195', 'L196', 'L197']\n",
       "1          u0          u2    m0                  ['L198', 'L199']\n",
       "2          u0          u2    m0  ['L200', 'L201', 'L202', 'L203']\n",
       "3          u0          u2    m0          ['L204', 'L205', 'L206']\n",
       "4          u0          u2    m0                  ['L207', 'L208']"
      ]
     },
     "execution_count": 12,
     "metadata": {},
     "output_type": "execute_result"
    }
   ],
   "source": [
    "conversations.head()"
   ]
  },
  {
   "cell_type": "code",
   "execution_count": 13,
   "metadata": {},
   "outputs": [
    {
     "data": {
      "text/plain": [
       "(83097, 4)"
      ]
     },
     "execution_count": 13,
     "metadata": {},
     "output_type": "execute_result"
    }
   ],
   "source": [
    "conversations.shape"
   ]
  },
  {
   "cell_type": "markdown",
   "metadata": {},
   "source": [
    "## To MongoDb"
   ]
  },
  {
   "cell_type": "code",
   "execution_count": 14,
   "metadata": {},
   "outputs": [],
   "source": [
    "import pymongo"
   ]
  },
  {
   "cell_type": "code",
   "execution_count": 15,
   "metadata": {},
   "outputs": [],
   "source": [
    "db = pymongo.MongoClient()['movie-dialogs']"
   ]
  },
  {
   "cell_type": "code",
   "execution_count": 23,
   "metadata": {},
   "outputs": [],
   "source": [
    "movie_records = {}\n",
    "for i, row in movies_raw.iterrows():\n",
    "    record = dict(row)\n",
    "    record['genres'] = tolist(row.genres)\n",
    "    record['id'] = i\n",
    "    try:\n",
    "        record['year'] = int(row.year)\n",
    "    except ValueError:\n",
    "        del(record['year'])\n",
    "    movie_records[i] = record"
   ]
  },
  {
   "cell_type": "code",
   "execution_count": 24,
   "metadata": {},
   "outputs": [
    {
     "data": {
      "text/plain": [
       "<pymongo.results.InsertManyResult at 0x11f197780>"
      ]
     },
     "execution_count": 24,
     "metadata": {},
     "output_type": "execute_result"
    }
   ],
   "source": [
    "movie_collection = db['movies']\n",
    "movie_collection.insert_many([x for x in movie_records.values()])"
   ]
  },
  {
   "cell_type": "code",
   "execution_count": 25,
   "metadata": {},
   "outputs": [],
   "source": [
    "character_records = {}\n",
    "for i, row in characters.iterrows():\n",
    "    c = dict(row)\n",
    "    c['movie'] = movie_records[row.movie]\n",
    "    del(c['title'])\n",
    "    try:\n",
    "        del(c['movie']['_id'])\n",
    "    except KeyError:\n",
    "        pass\n",
    "    try:\n",
    "        c['pos'] = int(c['pos'])\n",
    "    except ValueError:\n",
    "        del(c['pos'])\n",
    "    character_records[i] = c"
   ]
  },
  {
   "cell_type": "code",
   "execution_count": 26,
   "metadata": {},
   "outputs": [
    {
     "data": {
      "text/plain": [
       "<pymongo.results.InsertManyResult at 0x11f6b9aa0>"
      ]
     },
     "execution_count": 26,
     "metadata": {},
     "output_type": "execute_result"
    }
   ],
   "source": [
    "characters_collection = db['characters']\n",
    "characters_collection.insert_many([x for x in character_records.values()])"
   ]
  },
  {
   "cell_type": "code",
   "execution_count": 36,
   "metadata": {},
   "outputs": [],
   "source": [
    "line_records = {}\n",
    "for i, row in movie_lines.iterrows():\n",
    "    c = dict(row)\n",
    "    cid = c['character']\n",
    "    c['character'] = character_records[cid]\n",
    "    c['character']['id'] = cid\n",
    "    del(c['movie'])\n",
    "    del(c['name'])\n",
    "    try:\n",
    "        del(c['character']['_id'])\n",
    "    except KeyError:\n",
    "        pass\n",
    "    c['id'] = i\n",
    "    line_records[i] = c"
   ]
  },
  {
   "cell_type": "code",
   "execution_count": 38,
   "metadata": {},
   "outputs": [
    {
     "data": {
      "text/plain": [
       "<pymongo.results.InsertManyResult at 0x12eb9fa00>"
      ]
     },
     "execution_count": 38,
     "metadata": {},
     "output_type": "execute_result"
    }
   ],
   "source": [
    "line_collection = db['lines']\n",
    "line_collection.insert_many([x for x in line_records.values()])"
   ]
  },
  {
   "cell_type": "code",
   "execution_count": 60,
   "metadata": {},
   "outputs": [],
   "source": [
    "conversation_records = {}\n",
    "for i, row in conversations.iterrows():\n",
    "    c = dict(row)\n",
    "    c['character_a'] = dict([(k, v) for k, v in \n",
    "                             character_records[c['character_a']].items() if k not in ['movie']])\n",
    "    c['character_b'] = dict([(k, v) for k, v in \n",
    "                             character_records[c['character_b']].items() if k not in ['movie']])\n",
    "    c['movie'] = movie_records[c['movie']]\n",
    "    conversations_records[i] = c\n",
    "    lines_raw = [line_records[l] for l in tolist(c['lines'])]\n",
    "    lines = [{'line': x['id'], 'text': x['text'], \n",
    "              'character': x['character']['id'], \n",
    "              'gender': x['character']['gender']} for x in lines_raw]\n",
    "    c['lines'] = lines\n",
    "    c['len'] = len(lines)\n",
    "    conversation_records[i] = c"
   ]
  },
  {
   "cell_type": "code",
   "execution_count": 61,
   "metadata": {},
   "outputs": [
    {
     "data": {
      "text/plain": [
       "<pymongo.results.InsertManyResult at 0x17c261f50>"
      ]
     },
     "execution_count": 61,
     "metadata": {},
     "output_type": "execute_result"
    }
   ],
   "source": [
    "conversations_collection = db['conversations']\n",
    "conversations_collection.insert_many([x for x in conversation_records.values()])"
   ]
  },
  {
   "cell_type": "code",
   "execution_count": null,
   "metadata": {},
   "outputs": [],
   "source": []
  }
 ],
 "metadata": {
  "kernelspec": {
   "display_name": "Python 3",
   "language": "python",
   "name": "python3"
  },
  "language_info": {
   "codemirror_mode": {
    "name": "ipython",
    "version": 3
   },
   "file_extension": ".py",
   "mimetype": "text/x-python",
   "name": "python",
   "nbconvert_exporter": "python",
   "pygments_lexer": "ipython3",
   "version": "3.7.4"
  },
  "toc": {
   "base_numbering": 1,
   "nav_menu": {},
   "number_sections": true,
   "sideBar": true,
   "skip_h1_title": true,
   "title_cell": "Table of Contents",
   "title_sidebar": "Contents",
   "toc_cell": false,
   "toc_position": {},
   "toc_section_display": true,
   "toc_window_display": false
  }
 },
 "nbformat": 4,
 "nbformat_minor": 2
}
