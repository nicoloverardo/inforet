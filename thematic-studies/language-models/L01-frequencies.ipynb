{
 "cells": [
  {
   "cell_type": "code",
   "execution_count": 1,
   "metadata": {},
   "outputs": [],
   "source": [
    "import numpy as np\n",
    "import pandas as pd\n",
    "from tqdm import tqdm_notebook\n",
    "import nltk"
   ]
  },
  {
   "cell_type": "markdown",
   "metadata": {},
   "source": [
    "# Study on frequencies"
   ]
  },
  {
   "cell_type": "code",
   "execution_count": 2,
   "metadata": {},
   "outputs": [],
   "source": [
    "from langmodels.corpora import ngrams_example as md"
   ]
  },
  {
   "cell_type": "code",
   "execution_count": 3,
   "metadata": {},
   "outputs": [],
   "source": [
    "db_name = 'movie-dialogs'"
   ]
  },
  {
   "cell_type": "code",
   "execution_count": 4,
   "metadata": {},
   "outputs": [],
   "source": [
    "corpus = md.Corpus(db_name=db_name)"
   ]
  },
  {
   "cell_type": "markdown",
   "metadata": {},
   "source": [
    "## Example corpora"
   ]
  },
  {
   "cell_type": "code",
   "execution_count": 5,
   "metadata": {},
   "outputs": [],
   "source": [
    "m42 = md.Movie(db_name=db_name, movie_id='m42')\n",
    "m170 = md.Movie(db_name=db_name, movie_id='m170')"
   ]
  },
  {
   "cell_type": "code",
   "execution_count": 6,
   "metadata": {},
   "outputs": [
    {
     "name": "stdout",
     "output_type": "stream",
     "text": [
      "**title**: casablanca\n",
      "**year**: 1942\n",
      "**rating**: 8.8\n",
      "**votes**: 170874\n",
      "**genres**: ['drama', 'romance', 'war']\n",
      "**size**: 834\n",
      "**tokens**: 11410\n",
      "> Unoccupied France welcomes you to Casablanca.\n",
      "> Thank you, Captain. It's very good to be here.\n"
     ]
    }
   ],
   "source": [
    "for field in m42.fields:\n",
    "    print(\"**{}**: {}\".format(field, getattr(m42, field)))\n",
    "print(\"**{}**: {}\".format('size', m42.size))\n",
    "m42.unigram_frequencies(m42.get_lines_text())\n",
    "print(\"**{}**: {}\".format('tokens', m42.N))\n",
    "for line in m42.get_lines_text()[:2]:\n",
    "    print(\">\", line)"
   ]
  },
  {
   "cell_type": "code",
   "execution_count": 7,
   "metadata": {},
   "outputs": [
    {
     "name": "stdout",
     "output_type": "stream",
     "text": [
      "**title**: reservoir dogs\n",
      "**year**: 1992\n",
      "**rating**: 8.4\n",
      "**votes**: 217185\n",
      "**genres**: ['crime', 'mystery', 'thriller']\n",
      "**size**: 465\n",
      "**tokens**: 9289\n",
      "> Toby... who the fuck is Toby? Toby... Toby... think... think... think...\n",
      "> It's not about a nice girl who meets a sensitive boy. Now granted that's what \"True Blue\" is about, no argument about that.\n"
     ]
    }
   ],
   "source": [
    "for field in m170.fields:\n",
    "    print(\"**{}**: {}\".format(field, getattr(m170, field)))\n",
    "print(\"**{}**: {}\".format('size', m170.size))\n",
    "m170.unigram_frequencies(m170.get_lines_text())\n",
    "print(\"**{}**: {}\".format('tokens', m170.N))\n",
    "for line in m170.get_lines_text()[:2]:\n",
    "    print(\">\", line)"
   ]
  },
  {
   "cell_type": "markdown",
   "metadata": {},
   "source": [
    "## Unigram Maximum likelihood estimation"
   ]
  },
  {
   "cell_type": "code",
   "execution_count": 8,
   "metadata": {},
   "outputs": [],
   "source": [
    "word = 'love'"
   ]
  },
  {
   "cell_type": "code",
   "execution_count": 9,
   "metadata": {},
   "outputs": [
    {
     "name": "stdout",
     "output_type": "stream",
     "text": [
      "13\n",
      "11410\n",
      "0.0011393514460999123\n"
     ]
    }
   ],
   "source": [
    "print(m42.unigram[word])\n",
    "print(m42.N)\n",
    "print(m42.unigram[word] / m42.N)"
   ]
  },
  {
   "cell_type": "markdown",
   "metadata": {},
   "source": [
    "### Log probabilities"
   ]
  },
  {
   "cell_type": "code",
   "execution_count": 10,
   "metadata": {},
   "outputs": [
    {
     "data": {
      "text/plain": [
       "True"
      ]
     },
     "execution_count": 10,
     "metadata": {},
     "output_type": "execute_result"
    }
   ],
   "source": [
    "s = ['welcomes', 'you', 'to', 'casablanca']\n",
    "p_w = np.prod([m42.p(w) for w in s])\n",
    "p_w_log = np.sum([m42.p(w, log_probabilities=True) for w in s])\n",
    "np.allclose([p_w], [np.exp(p_w_log)])"
   ]
  },
  {
   "cell_type": "markdown",
   "metadata": {},
   "source": [
    "### Words order"
   ]
  },
  {
   "cell_type": "code",
   "execution_count": 11,
   "metadata": {},
   "outputs": [
    {
     "data": {
      "text/plain": [
       "True"
      ]
     },
     "execution_count": 11,
     "metadata": {},
     "output_type": "execute_result"
    }
   ],
   "source": [
    "s1 = ['welcomes', 'you', 'to', 'casablanca']\n",
    "s2 = ['casablanca', 'you', 'to', 'welcomes']\n",
    "p_w_log_1 = np.sum([m42.p(w, log_probabilities=True) for w in s1])\n",
    "p_w_log_2 = np.sum([m42.p(w, log_probabilities=True) for w in s2])\n",
    "np.allclose([p_w_log_1], [p_w_log_2])"
   ]
  },
  {
   "cell_type": "code",
   "execution_count": 12,
   "metadata": {},
   "outputs": [
    {
     "data": {
      "text/plain": [
       "3.3153929047727935e-10"
      ]
     },
     "execution_count": 12,
     "metadata": {},
     "output_type": "execute_result"
    }
   ],
   "source": [
    "np.exp(p_w_log)"
   ]
  },
  {
   "cell_type": "markdown",
   "metadata": {},
   "source": [
    "## Compare corpora"
   ]
  },
  {
   "cell_type": "code",
   "execution_count": 13,
   "metadata": {},
   "outputs": [],
   "source": [
    "def p(word, corpora):\n",
    "    f_sharp = sum([x.unigram[word] for x in corpora])\n",
    "    return f_sharp / sum([x.N for x in corpora])"
   ]
  },
  {
   "cell_type": "code",
   "execution_count": 14,
   "metadata": {},
   "outputs": [
    {
     "data": {
      "text/plain": [
       "0.039373882796270354"
      ]
     },
     "execution_count": 14,
     "metadata": {},
     "output_type": "execute_result"
    }
   ],
   "source": [
    "p('you', [m42, m170])"
   ]
  },
  {
   "cell_type": "code",
   "execution_count": 15,
   "metadata": {},
   "outputs": [
    {
     "data": {
      "text/plain": [
       "0.043382997370727434"
      ]
     },
     "execution_count": 15,
     "metadata": {},
     "output_type": "execute_result"
    }
   ],
   "source": [
    "m42.p('you')"
   ]
  },
  {
   "cell_type": "code",
   "execution_count": 16,
   "metadata": {},
   "outputs": [
    {
     "data": {
      "text/plain": [
       "-0.13361263192682074"
      ]
     },
     "execution_count": 16,
     "metadata": {},
     "output_type": "execute_result"
    }
   ],
   "source": [
    "np.log(m170.p('you') / p('you', [m42, m170]))"
   ]
  },
  {
   "cell_type": "code",
   "execution_count": 17,
   "metadata": {},
   "outputs": [],
   "source": [
    "def pmi(word, corpus, all_corpora):\n",
    "    return np.log(corpus.p(word) / p(word, all_corpora))"
   ]
  },
  {
   "cell_type": "code",
   "execution_count": 18,
   "metadata": {},
   "outputs": [],
   "source": [
    "data = {}\n",
    "corpora = [m42, m170]\n",
    "words = ['woman', 'girl', 'man', 'boy', 'hello', 'yesterday']\n",
    "for word in words:\n",
    "    data[word] = {}\n",
    "    for corpus in corpora:\n",
    "        data[word][\"{} ({})\".format(\n",
    "            corpus.movie_id, \n",
    "            corpus.title)] = round(pmi(word, \n",
    "                                       corpus, corpora), 3)\n",
    "PMI = pd.DataFrame(data)"
   ]
  },
  {
   "cell_type": "code",
   "execution_count": 19,
   "metadata": {},
   "outputs": [
    {
     "name": "stdout",
     "output_type": "stream",
     "text": [
      "|                       |   woman |   girl |    man |    boy |   hello |   yesterday |\n",
      "|:----------------------|--------:|-------:|-------:|-------:|--------:|------------:|\n",
      "| m42 (casablanca)      |   0.239 | -0.098 |  0.154 | -0.252 |   0.5   |      -0.098 |\n",
      "| m170 (reservoir dogs) |  -0.403 |  0.108 | -0.228 |  0.242 |  -1.597 |       0.108 |\n"
     ]
    }
   ],
   "source": [
    "print(PMI.to_markdown())"
   ]
  },
  {
   "cell_type": "markdown",
   "metadata": {},
   "source": [
    "### Scatterplot"
   ]
  },
  {
   "cell_type": "code",
   "execution_count": 20,
   "metadata": {},
   "outputs": [
    {
     "name": "stderr",
     "output_type": "stream",
     "text": [
      "/Users/alfio/Applications/anaconda3/lib/python3.7/site-packages/statsmodels/tools/_testing.py:19: FutureWarning: pandas.util.testing is deprecated. Use the functions in the public API at pandas.testing instead.\n",
      "  import pandas.util.testing as tm\n"
     ]
    }
   ],
   "source": [
    "import seaborn as sns\n",
    "import matplotlib.pyplot as plt"
   ]
  },
  {
   "cell_type": "code",
   "execution_count": 21,
   "metadata": {},
   "outputs": [],
   "source": [
    "save_file = \"/Users/alfio/Teaching/2019-20/inforet/lectures/thematic-studies/S1-language-models/imgs/{}\""
   ]
  },
  {
   "cell_type": "code",
   "execution_count": 22,
   "metadata": {},
   "outputs": [],
   "source": [
    "data = {}\n",
    "corpora = [m42, m170]\n",
    "words = [x for x in m42.unigram.keys() if x in m170.unigram.keys()]\n",
    "for word in words:\n",
    "    data[word] = {'size': sum([c.unigram[word] for c in corpora])}\n",
    "    for corpus in corpora:\n",
    "        try:\n",
    "            data[word][\"{}\".format(\n",
    "                corpus.movie_id)] = round(pmi(word, \n",
    "                                           corpus, corpora), 3)\n",
    "        except ZeroDivisionError:\n",
    "            print(word, corpus.movie_id)\n",
    "PMI = pd.DataFrame(data)"
   ]
  },
  {
   "cell_type": "code",
   "execution_count": 23,
   "metadata": {},
   "outputs": [
    {
     "data": {
      "text/plain": [
       "(3, 550)"
      ]
     },
     "execution_count": 23,
     "metadata": {},
     "output_type": "execute_result"
    }
   ],
   "source": [
    "PMI.shape"
   ]
  },
  {
   "cell_type": "code",
   "execution_count": 24,
   "metadata": {},
   "outputs": [
    {
     "data": {
      "image/png": "[encoded data removed]",
      "text/plain": [
       "<Figure size 432x432 with 3 Axes>"
      ]
     },
     "metadata": {
      "needs_background": "light"
     },
     "output_type": "display_data"
    }
   ],
   "source": [
    "g = sns.jointplot(x='m42', \n",
    "              y='m170', edgecolor=\"w\", data=PMI.T);\n",
    "ax = g.ax_joint\n",
    "ax.set_xlabel('m42 (casablanca)')\n",
    "ax.set_ylabel('m170 (reservoir dogs)')\n",
    "plt.savefig(save_file.format('unigram_joindist.png'))\n",
    "plt.show()"
   ]
  },
  {
   "cell_type": "code",
   "execution_count": 25,
   "metadata": {},
   "outputs": [
    {
     "data": {
      "image/png": "[encoded data removed]",
      "text/plain": [
       "<Figure size 432x432 with 1 Axes>"
      ]
     },
     "metadata": {
      "needs_background": "light"
     },
     "output_type": "display_data"
    }
   ],
   "source": [
    "fig, ax = plt.subplots(figsize=(6, 6))\n",
    "cmap = sns.cubehelix_palette(rot=-.6, as_cmap=True)\n",
    "sns.scatterplot(ax=ax, x='m42', y='m170', alpha=0.9, \n",
    "                     data=PMI.T, size=\"size\", \n",
    "                     palette=cmap, sizes=(10, 600));\n",
    "ax.set_xlabel('m42 (casablanca)')\n",
    "ax.set_ylabel('m170 (reservoir dogs)')\n",
    "plt.legend(loc='lower left')\n",
    "plt.savefig(save_file.format('unigram_scatter.png'))\n",
    "plt.show()"
   ]
  },
  {
   "cell_type": "code",
   "execution_count": 26,
   "metadata": {},
   "outputs": [
    {
     "data": {
      "image/png": "[encoded data removed]",
      "text/plain": [
       "<Figure size 432x432 with 1 Axes>"
      ]
     },
     "metadata": {
      "needs_background": "light"
     },
     "output_type": "display_data"
    }
   ],
   "source": [
    "fig, ax = plt.subplots(figsize=(6, 6))\n",
    "a = PMI.T.sort_values('m42').m42\n",
    "b = PMI.T.sort_values('m42').m170\n",
    "ax.get_xaxis().set_visible(True)\n",
    "ax.get_xaxis().set_ticks([])\n",
    "ax.plot(a, label='m42 (casablanca)')\n",
    "ax.plot(b, label='m170 (reservoir dogs)')\n",
    "ax.set_xlabel('words')\n",
    "ax.set_ylabel('PMI')\n",
    "plt.legend()\n",
    "plt.savefig(save_file.format('unigram_lines.png'))\n",
    "plt.show()"
   ]
  },
  {
   "cell_type": "markdown",
   "metadata": {},
   "source": [
    "## 2-grams and 3-grams"
   ]
  },
  {
   "cell_type": "code",
   "execution_count": 27,
   "metadata": {},
   "outputs": [],
   "source": [
    "from collections import defaultdict"
   ]
  },
  {
   "cell_type": "code",
   "execution_count": 28,
   "metadata": {},
   "outputs": [],
   "source": [
    "m42.bigram_frequencies(m42.get_lines_text())\n",
    "m42.trigram_frequencies(m42.get_lines_text())"
   ]
  },
  {
   "cell_type": "code",
   "execution_count": 29,
   "metadata": {},
   "outputs": [],
   "source": [
    "m170.bigram_frequencies(m170.get_lines_text())\n",
    "m170.trigram_frequencies(m170.get_lines_text())"
   ]
  },
  {
   "cell_type": "code",
   "execution_count": 30,
   "metadata": {},
   "outputs": [
    {
     "name": "stdout",
     "output_type": "stream",
     "text": [
      "6 5 5 0\n",
      "0.8333333333333334\n",
      "0.0\n"
     ]
    }
   ],
   "source": [
    "print(m42.unigram['new'], m42.unigram['york'], \n",
    "      m42.bigram[('new', 'york')], m42.bigram[('york', 'new')])\n",
    "print(m42.p('new', 'york'))\n",
    "print(m42.p('york', 'new'))"
   ]
  },
  {
   "cell_type": "code",
   "execution_count": 31,
   "metadata": {},
   "outputs": [],
   "source": [
    "example = [m42.tokenize(x, remove_stopwords=False) for x in \n",
    "           m42.get_lines_text() if 'york' in x.lower()]"
   ]
  },
  {
   "cell_type": "code",
   "execution_count": 32,
   "metadata": {},
   "outputs": [
    {
     "name": "stdout",
     "output_type": "stream",
     "text": [
      "['how', 'about', 'new', 'york']\n",
      "['#S', 'how', 'about', 'new', 'york', '#E']\n",
      "[('#S', 'how'), ('how', 'about'), ('about', 'new'), ('new', 'york'), ('york', '#E')]\n"
     ]
    }
   ],
   "source": [
    "tokens = example[1]\n",
    "print(tokens)\n",
    "mark = ['#S'] + tokens + ['#E']\n",
    "print(mark)\n",
    "bigrams = list(nltk.ngrams(mark, 2))\n",
    "print(bigrams)"
   ]
  },
  {
   "cell_type": "code",
   "execution_count": 33,
   "metadata": {},
   "outputs": [],
   "source": [
    "tokens2 = example[0]\n",
    "mark2 = ['#S'] + tokens2 + ['#E']\n",
    "bigrams2 = list(nltk.ngrams(mark2, 2))\n",
    "all_bigrams = bigrams + bigrams2"
   ]
  },
  {
   "cell_type": "code",
   "execution_count": 34,
   "metadata": {},
   "outputs": [],
   "source": [
    "bigrams3 = [('#S', 'i'), ('i', 'was'), ('was', 'born'), \n",
    "            ('born', 'in'), ('in', 'new'), ('new', 'york'), \n",
    "            ('york', 'city'), ('city', '#E')]"
   ]
  },
  {
   "cell_type": "code",
   "execution_count": 35,
   "metadata": {},
   "outputs": [],
   "source": [
    "data = defaultdict(lambda: defaultdict(lambda: 0))\n",
    "for (a, b) in bigrams3:\n",
    "    data[a][b] = round(m42.p(a, b), 2)\n",
    "e = pd.DataFrame(data)\n",
    "e.fillna(0, inplace=True)"
   ]
  },
  {
   "cell_type": "code",
   "execution_count": 36,
   "metadata": {},
   "outputs": [
    {
     "name": "stdout",
     "output_type": "stream",
     "text": [
      "|      |    i |   was |   born |   in |   new |   york |   city |   #E |\n",
      "|:-----|-----:|------:|-------:|-----:|------:|-------:|-------:|-----:|\n",
      "| #S   | 0.14 |  0    |   0    |    0 |  0    |   0    |    0   |    0 |\n",
      "| i    | 0    |  0.04 |   0    |    0 |  0    |   0    |    0   |    0 |\n",
      "| was  | 0    |  0    |   0.02 |    0 |  0    |   0    |    0   |    0 |\n",
      "| born | 0    |  0    |   0    |    1 |  0    |   0    |    0   |    0 |\n",
      "| in   | 0    |  0    |   0    |    0 |  0.02 |   0    |    0   |    0 |\n",
      "| new  | 0    |  0    |   0    |    0 |  0    |   0.83 |    0   |    0 |\n",
      "| york | 0    |  0    |   0    |    0 |  0    |   0    |    0.2 |    0 |\n",
      "| city | 0    |  0    |   0    |    0 |  0    |   0    |    0   |    0 |\n"
     ]
    }
   ],
   "source": [
    "print(e.T.to_markdown())"
   ]
  },
  {
   "cell_type": "code",
   "execution_count": 37,
   "metadata": {},
   "outputs": [
    {
     "name": "stdout",
     "output_type": "stream",
     "text": [
      "[('#S', 'i'), ('i', 'was'), ('was', 'born'), ('born', 'in'), ('in', 'new'), ('new', 'york'), ('york', 'city'), ('city', 'if'), ('if', 'that'), ('that', 'help'), ('help', 'you'), ('you', 'any'), ('any', '#E')]\n"
     ]
    }
   ],
   "source": [
    "print(bigrams2)"
   ]
  },
  {
   "cell_type": "markdown",
   "metadata": {},
   "source": [
    "## Evaluation"
   ]
  },
  {
   "cell_type": "markdown",
   "metadata": {},
   "source": [
    "### POS tagging"
   ]
  },
  {
   "cell_type": "code",
   "execution_count": 38,
   "metadata": {},
   "outputs": [],
   "source": [
    "import spacy\n",
    "nlp = spacy.load(\"en_core_web_sm\")"
   ]
  },
  {
   "cell_type": "code",
   "execution_count": 39,
   "metadata": {},
   "outputs": [
    {
     "name": "stdout",
     "output_type": "stream",
     "text": [
      "unoccupied france welcomes you to casablanca.\n",
      "['ADJ', 'NOUN', 'VERB', 'PRON', 'ADP', 'NOUN', 'PUNCT']\n"
     ]
    }
   ],
   "source": [
    "example = list(m42.get_lines_text())[0].lower()\n",
    "print(example)\n",
    "print([x.pos_ for x in nlp(example)])"
   ]
  },
  {
   "cell_type": "markdown",
   "metadata": {},
   "source": [
    "### Comparison"
   ]
  },
  {
   "cell_type": "code",
   "execution_count": 40,
   "metadata": {},
   "outputs": [],
   "source": [
    "training = md.Movie(db_name=db_name, \n",
    "                    movie_id='m42', k_smoothing=0.5)\n",
    "test = md.Movie(db_name=db_name, movie_id='m170', \n",
    "                k_smoothing=0.5)"
   ]
  },
  {
   "cell_type": "code",
   "execution_count": 41,
   "metadata": {},
   "outputs": [],
   "source": [
    "training.unigram_frequencies(training.get_lines_text(), pos=True)\n",
    "training.bigram_frequencies(training.get_lines_text(), pos=True)\n",
    "training.trigram_frequencies(training.get_lines_text(), pos=True)"
   ]
  },
  {
   "cell_type": "code",
   "execution_count": 42,
   "metadata": {},
   "outputs": [],
   "source": [
    "testset = test.get_testset(test.get_lines_text(), pos=True)"
   ]
  },
  {
   "cell_type": "code",
   "execution_count": 43,
   "metadata": {},
   "outputs": [],
   "source": [
    "p_u, _ = training.predict(testset[0], model=md.Corpus.UNIGRAM, \n",
    "                          log_probabilities=True)\n",
    "pp_u = training.perplexity(testset[0], \n",
    "                           model=md.Corpus.UNIGRAM,\n",
    "                           log_probabilities=True)"
   ]
  },
  {
   "cell_type": "code",
   "execution_count": 44,
   "metadata": {},
   "outputs": [],
   "source": [
    "p_b, _ = training.predict(testset[0], model=md.Corpus.BIGRAM)\n",
    "pp_b = training.perplexity(testset[0], model=md.Corpus.BIGRAM)"
   ]
  },
  {
   "cell_type": "code",
   "execution_count": 45,
   "metadata": {},
   "outputs": [],
   "source": [
    "p_t, _ = training.predict(testset[0], model=md.Corpus.TRIGRAM)\n",
    "pp_t = training.perplexity(testset[0], model=md.Corpus.TRIGRAM)"
   ]
  },
  {
   "cell_type": "code",
   "execution_count": 46,
   "metadata": {},
   "outputs": [
    {
     "name": "stdout",
     "output_type": "stream",
     "text": [
      "unigram 1656676.4840325362 0.9123618359660921\n",
      "bigram 7.223429312823913e-17 7.071960391443772\n",
      "trigram 5.498139259451355e-16 7.04313142581017\n"
     ]
    }
   ],
   "source": [
    "print('unigram', p_u, pp_u)\n",
    "print('bigram', p_b, pp_b)\n",
    "print('trigram', p_t, pp_t)"
   ]
  },
  {
   "cell_type": "code",
   "execution_count": 47,
   "metadata": {},
   "outputs": [],
   "source": [
    "P_u, P_b, P_t = 0, 0, 0\n",
    "for x in testset:\n",
    "    try:\n",
    "        P_u += training.perplexity(x, \n",
    "                                   model=md.Corpus.UNIGRAM,\n",
    "                                   log_probabilities=True)\n",
    "        P_b += training.perplexity(x, model=md.Corpus.BIGRAM,\n",
    "                                  log_probabilities=True)\n",
    "        P_t += training.perplexity(x, model=md.Corpus.TRIGRAM,\n",
    "                                  log_probabilities=True)\n",
    "    except ZeroDivisionError:\n",
    "        pass\n",
    "P_u, P_b, P_t = P_u / len(testset), P_b / len(testset), P_t / len(testset)"
   ]
  },
  {
   "cell_type": "code",
   "execution_count": 48,
   "metadata": {},
   "outputs": [
    {
     "name": "stdout",
     "output_type": "stream",
     "text": [
      "unigram 0.93\n",
      "bigram 0.83\n",
      "trigram 0.802\n"
     ]
    }
   ],
   "source": [
    "print('unigram', round(P_u, 3))\n",
    "print('bigram', round(P_b, 3))\n",
    "print('trigram', round(P_t, 3))"
   ]
  },
  {
   "cell_type": "code",
   "execution_count": null,
   "metadata": {},
   "outputs": [],
   "source": []
  }
 ],
 "metadata": {
  "kernelspec": {
   "display_name": "Python 3",
   "language": "python",
   "name": "python3"
  },
  "language_info": {
   "codemirror_mode": {
    "name": "ipython",
    "version": 3
   },
   "file_extension": ".py",
   "mimetype": "text/x-python",
   "name": "python",
   "nbconvert_exporter": "python",
   "pygments_lexer": "ipython3",
   "version": "3.7.4"
  },
  "toc": {
   "base_numbering": 1,
   "nav_menu": {},
   "number_sections": true,
   "sideBar": true,
   "skip_h1_title": true,
   "title_cell": "Table of Contents",
   "title_sidebar": "Contents",
   "toc_cell": false,
   "toc_position": {},
   "toc_section_display": true,
   "toc_window_display": false
  }
 },
 "nbformat": 4,
 "nbformat_minor": 2
}
