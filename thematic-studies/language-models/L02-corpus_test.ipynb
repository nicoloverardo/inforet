{
 "cells": [
  {
   "cell_type": "markdown",
   "metadata": {
    "collapsed": true,
    "pycharm": {
     "name": "#%%\n"
    }
   },
   "source": [
    "# Test movie-dialog corpora"
   ]
  },
  {
   "cell_type": "code",
   "execution_count": 1,
   "metadata": {},
   "outputs": [],
   "source": [
    "import numpy as np\n",
    "import pandas as pd\n",
    "from tqdm import tqdm_notebook"
   ]
  },
  {
   "cell_type": "code",
   "execution_count": 2,
   "metadata": {},
   "outputs": [],
   "source": [
    "from langmodels.corpora.moviedialog import MovieDialogCollection"
   ]
  },
  {
   "cell_type": "code",
   "execution_count": 3,
   "metadata": {},
   "outputs": [],
   "source": [
    "db_name = 'movie-dialogs'\n",
    "collection = 'lines'\n",
    "m = {'$match': {'character.movie.id': 'm42'}}\n",
    "p = {'$project': {'_id': 0, 'id': 1, 'text': 1}}\n",
    "pipeline = [m, p]"
   ]
  },
  {
   "cell_type": "code",
   "execution_count": 4,
   "metadata": {},
   "outputs": [],
   "source": [
    "m42_t = MovieDialogCollection(db_name, collection, \n",
    "                              use_pos=False, pipeline=pipeline)\n",
    "m42_p = MovieDialogCollection(db_name, collection, \n",
    "                              use_pos=True, pipeline=pipeline)"
   ]
  },
  {
   "cell_type": "code",
   "execution_count": 9,
   "metadata": {},
   "outputs": [
    {
     "name": "stdout",
     "output_type": "stream",
     "text": [
      "L119167 ['PUNCT', 'PRON', 'VERB', 'ADV', 'DET', 'ADJ', 'NOUN', 'PUNCT']\n",
      "L119166 ['NOUN', 'NOUN', 'PUNCT', 'PRON', 'PUNCT']\n",
      "L119142 ['INTJ', 'PUNCT', 'INTJ', 'PUNCT', 'NOUN', 'ADP', 'NOUN', 'VERB', 'NOUN', 'PUNCT', 'PRON', 'VERB', 'VERB', 'PART', 'PUNCT', 'PRON', 'AUX', 'VERB', 'PRON', 'PUNCT']\n",
      "L119141 ['INTJ', 'PUNCT', 'CCONJ', 'ADP', 'PRON', 'VERB', 'PRON', 'PRON', 'VERB', 'ADP', 'PRON', 'PART', 'VERB', 'NOUN', 'PUNCT', 'PART', 'VERB', 'ADP', 'NOUN', 'PUNCT', 'INTJ', 'PUNCT', 'CCONJ', 'ADP', 'PROPN', 'VERB', 'VERB', 'PART', 'PUNCT', 'PRON', 'VERB', 'DET', 'DET', 'NOUN', 'PUNCT', 'ADP', 'ADJ', 'NOUN', 'PRON', 'VERB', 'ADV', 'ADV', 'ADJ', 'ADP', 'PRON', 'VERB', 'PUNCT']\n"
     ]
    }
   ],
   "source": [
    "limit = 2\n",
    "for i, (j, data) in enumerate(m42_p.get_tokens()):\n",
    "    print(j, data)\n",
    "    if i > limit:\n",
    "        break"
   ]
  },
  {
   "cell_type": "code",
   "execution_count": null,
   "metadata": {},
   "outputs": [],
   "source": []
  },
  {
   "cell_type": "code",
   "execution_count": null,
   "metadata": {},
   "outputs": [],
   "source": []
  }
 ],
 "metadata": {
  "kernelspec": {
   "display_name": "Python 3",
   "language": "python",
   "name": "python3"
  },
  "language_info": {
   "codemirror_mode": {
    "name": "ipython",
    "version": 3
   },
   "file_extension": ".py",
   "mimetype": "text/x-python",
   "name": "python",
   "nbconvert_exporter": "python",
   "pygments_lexer": "ipython3",
   "version": "3.7.4"
  },
  "pycharm": {
   "stem_cell": {
    "cell_type": "raw",
    "metadata": {
     "collapsed": false
    },
    "source": []
   }
  },
  "toc": {
   "base_numbering": 1,
   "nav_menu": {},
   "number_sections": true,
   "sideBar": true,
   "skip_h1_title": true,
   "title_cell": "Table of Contents",
   "title_sidebar": "Contents",
   "toc_cell": false,
   "toc_position": {},
   "toc_section_display": true,
   "toc_window_display": false
  }
 },
 "nbformat": 4,
 "nbformat_minor": 1
}
