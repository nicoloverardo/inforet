{
 "cells": [
  {
   "cell_type": "code",
   "execution_count": 2,
   "metadata": {},
   "outputs": [],
   "source": [
    "import numpy as np\n",
    "import pandas as pd\n",
    "from tqdm import tqdm_notebook"
   ]
  },
  {
   "cell_type": "code",
   "execution_count": 3,
   "metadata": {},
   "outputs": [],
   "source": [
    "import pymongo"
   ]
  },
  {
   "cell_type": "code",
   "execution_count": 4,
   "metadata": {},
   "outputs": [],
   "source": [
    "db = pymongo.MongoClient()['movie-dialogs']\n",
    "lines = db['lines']"
   ]
  },
  {
   "cell_type": "code",
   "execution_count": 9,
   "metadata": {},
   "outputs": [],
   "source": [
    "u = {'$unwind': '$character.movie.genres'}\n",
    "g = {'$group': {'_id': '$character.movie.genres', \n",
    "                'lines': {'$sum': 1}}}"
   ]
  },
  {
   "cell_type": "code",
   "execution_count": 10,
   "metadata": {},
   "outputs": [],
   "source": [
    "stats = []\n",
    "for record in lines.aggregate([u, g]):\n",
    "    stats.append({\n",
    "        'genre': record['_id'],\n",
    "        'lines': record['lines']\n",
    "    })\n",
    "S = pd.DataFrame(stats)"
   ]
  },
  {
   "cell_type": "code",
   "execution_count": 15,
   "metadata": {},
   "outputs": [
    {
     "name": "stdout",
     "output_type": "stream",
     "text": [
      "|       | 2     | 15      | 16      | 18       | 21     | 22     | 24     |\n",
      "|:------|:------|:--------|:--------|:---------|:-------|:-------|:-------|\n",
      "| genre | crime | mystery | romance | thriller | action | drama  | comedy |\n",
      "| lines | 75435 | 51662   | 77518   | 124082   | 70257  | 172557 | 94575  |\n"
     ]
    }
   ],
   "source": [
    "print(S[S.lines > 50000].T.to_markdown())"
   ]
  },
  {
   "cell_type": "code",
   "execution_count": 16,
   "metadata": {},
   "outputs": [
    {
     "name": "stdout",
     "output_type": "stream",
     "text": [
      "['crime', 'mystery', 'romance', 'thriller', 'action', 'drama', 'comedy']\n"
     ]
    }
   ],
   "source": [
    "print([x for x in S[S.lines > 50000].genre.values])"
   ]
  },
  {
   "cell_type": "code",
   "execution_count": null,
   "metadata": {},
   "outputs": [],
   "source": []
  }
 ],
 "metadata": {
  "kernelspec": {
   "display_name": "Python 3",
   "language": "python",
   "name": "python3"
  },
  "language_info": {
   "codemirror_mode": {
    "name": "ipython",
    "version": 3
   },
   "file_extension": ".py",
   "mimetype": "text/x-python",
   "name": "python",
   "nbconvert_exporter": "python",
   "pygments_lexer": "ipython3",
   "version": "3.7.4"
  },
  "toc": {
   "base_numbering": 1,
   "nav_menu": {},
   "number_sections": true,
   "sideBar": true,
   "skip_h1_title": true,
   "title_cell": "Table of Contents",
   "title_sidebar": "Contents",
   "toc_cell": false,
   "toc_position": {},
   "toc_section_display": true,
   "toc_window_display": false
  }
 },
 "nbformat": 4,
 "nbformat_minor": 2
}
