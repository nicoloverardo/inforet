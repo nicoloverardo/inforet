{
 "cells": [
  {
   "cell_type": "markdown",
   "metadata": {},
   "source": [
    "# Word Embeddings\n",
    "Examples on training models and see some applications"
   ]
  },
  {
   "cell_type": "code",
   "execution_count": 1,
   "metadata": {},
   "outputs": [],
   "source": [
    "import numpy as np\n",
    "import pandas as pd\n",
    "from tqdm import tqdm_notebook"
   ]
  },
  {
   "cell_type": "markdown",
   "metadata": {},
   "source": [
    "## Create corpora based on genre"
   ]
  },
  {
   "cell_type": "code",
   "execution_count": 2,
   "metadata": {},
   "outputs": [],
   "source": [
    "genres = ['crime', 'mystery', 'romance', \n",
    "          'thriller', 'action', 'drama', 'comedy']"
   ]
  },
  {
   "cell_type": "code",
   "execution_count": 3,
   "metadata": {},
   "outputs": [],
   "source": [
    "db_name = 'movie-dialogs'\n",
    "collection = 'lines'\n",
    "u = {'$unwind': '$character.movie.genres'}\n",
    "m = {'$match': {'character.movie.genres': None}}\n",
    "p = {'$project': {'_id': 0, 'id': 1, 'text': 1}}"
   ]
  },
  {
   "cell_type": "code",
   "execution_count": 4,
   "metadata": {},
   "outputs": [],
   "source": [
    "from langmodels.corpora.moviedialog import MovieDialogCollection"
   ]
  },
  {
   "cell_type": "code",
   "execution_count": 5,
   "metadata": {},
   "outputs": [
    {
     "data": {
      "application/vnd.jupyter.widget-view+json": {
       "model_id": "0a17b34bf66243b08653cb7dbfb9884d",
       "version_major": 2,
       "version_minor": 0
      },
      "text/plain": [
       "HBox(children=(IntProgress(value=0, max=7), HTML(value='')))"
      ]
     },
     "metadata": {},
     "output_type": "display_data"
    },
    {
     "name": "stdout",
     "output_type": "stream",
     "text": [
      "\n"
     ]
    }
   ],
   "source": [
    "corpora = {}\n",
    "for genre in tqdm_notebook(genres):\n",
    "    w = {'$match': {'character.movie.genres': genre}}\n",
    "    pipeline = [w, u, w, p]\n",
    "    corpora[genre] = MovieDialogCollection(\n",
    "        db_name, collection, use_pos=False, pipeline=pipeline)"
   ]
  },
  {
   "cell_type": "code",
   "execution_count": 6,
   "metadata": {},
   "outputs": [
    {
     "data": {
      "application/vnd.jupyter.widget-view+json": {
       "model_id": "bcbfd471d6fb417fb751507fd1e6939f",
       "version_major": 2,
       "version_minor": 0
      },
      "text/plain": [
       "HBox(children=(IntProgress(value=0, max=7), HTML(value='')))"
      ]
     },
     "metadata": {},
     "output_type": "display_data"
    },
    {
     "name": "stdout",
     "output_type": "stream",
     "text": [
      "\n"
     ]
    }
   ],
   "source": [
    "sequences = {}\n",
    "for genre in tqdm_notebook(genres):\n",
    "    seq = []\n",
    "    for doc, tokens in corpora[genre].get_skip_tokens(n=3, s=2):\n",
    "        for a, b, c in tokens:\n",
    "            seq.append([a, b, c])\n",
    "    sequences[genre] = seq"
   ]
  },
  {
   "cell_type": "markdown",
   "metadata": {},
   "source": [
    "for k, v in sequences.items():\n",
    "    print(k, len(v))"
   ]
  },
  {
   "cell_type": "markdown",
   "metadata": {},
   "source": [
    "## Training models"
   ]
  },
  {
   "cell_type": "code",
   "execution_count": 33,
   "metadata": {},
   "outputs": [],
   "source": [
    "from gensim.models import Word2Vec\n",
    "from gensim.models.keyedvectors import KeyedVectors"
   ]
  },
  {
   "cell_type": "code",
   "execution_count": 22,
   "metadata": {},
   "outputs": [],
   "source": [
    "models = {}\n",
    "for genre, sequence in sequences.items():\n",
    "    models[genre] = Word2Vec(sequences[genre], min_count=50)"
   ]
  },
  {
   "cell_type": "code",
   "execution_count": 27,
   "metadata": {},
   "outputs": [
    {
     "name": "stdout",
     "output_type": "stream",
     "text": [
      "crime ['vicious', 'hostage', 'enemy', 'speck', 'male']\n",
      "mystery ['monster', 'racket', 'murderer', 'toon', 'existence']\n",
      "romance ['headache', 'phony', 'background', 'genius', 'sales']\n",
      "thriller ['speck', 'businessman', 'lunatic', 'psycho', 'male']\n",
      "action ['cigarette', 'huge', 'citizen', 'drug', 'thief']\n",
      "drama ['nazi', 'winner', 'waiter', 'member', 'junkie']\n",
      "comedy ['shitty', 'professional', 'thick', 'heroic', 'victory']\n"
     ]
    }
   ],
   "source": [
    "word = 'killer'\n",
    "for genre, model in models.items():\n",
    "    print(genre, [x[0] for x in \n",
    "                  model.wv.most_similar(positive=word)][:5])"
   ]
  },
  {
   "cell_type": "markdown",
   "metadata": {},
   "source": [
    "## Pre-trained vectors"
   ]
  },
  {
   "cell_type": "code",
   "execution_count": 34,
   "metadata": {},
   "outputs": [],
   "source": [
    "file = '/Users/alfio/Dati/wordembeddings/word2vec/GoogleNews-vectors-negative300.bin'\n",
    "gen = model = KeyedVectors.load_word2vec_format(\n",
    "    file, binary=True)"
   ]
  },
  {
   "cell_type": "code",
   "execution_count": 36,
   "metadata": {},
   "outputs": [
    {
     "data": {
      "text/plain": [
       "[('killers', 0.76349937915802),\n",
       " ('murderer', 0.6645797491073608),\n",
       " ('Killer', 0.6424514055252075),\n",
       " ('serial_killer', 0.5998541712760925),\n",
       " ('rapist', 0.5730096697807312),\n",
       " ('slayer', 0.5356388092041016),\n",
       " ('strangler', 0.5315794944763184),\n",
       " ('cop_killer', 0.5244623422622681),\n",
       " ('serial_rapist', 0.5186691880226135),\n",
       " ('poisoner', 0.5164259076118469)]"
      ]
     },
     "execution_count": 36,
     "metadata": {},
     "output_type": "execute_result"
    }
   ],
   "source": [
    "gen.most_similar('killer')"
   ]
  },
  {
   "cell_type": "code",
   "execution_count": 40,
   "metadata": {},
   "outputs": [
    {
     "data": {
      "text/plain": [
       "[('queen', 0.7118192911148071),\n",
       " ('monarch', 0.6189674139022827),\n",
       " ('princess', 0.5902431011199951),\n",
       " ('crown_prince', 0.5499460697174072),\n",
       " ('prince', 0.5377321243286133),\n",
       " ('kings', 0.5236844420433044),\n",
       " ('Queen_Consort', 0.5235945582389832),\n",
       " ('queens', 0.518113374710083),\n",
       " ('sultan', 0.5098593235015869),\n",
       " ('monarchy', 0.5087411999702454)]"
      ]
     },
     "execution_count": 40,
     "metadata": {},
     "output_type": "execute_result"
    }
   ],
   "source": [
    "gen.most_similar(positive=['king', 'woman'], negative=['man'])"
   ]
  },
  {
   "cell_type": "code",
   "execution_count": 43,
   "metadata": {},
   "outputs": [
    {
     "name": "stdout",
     "output_type": "stream",
     "text": [
      "crime bomb\n",
      "mystery birds\n",
      "romance queen\n",
      "thriller cheese\n",
      "action queen\n",
      "drama child\n",
      "comedy patient\n"
     ]
    }
   ],
   "source": [
    "for genre, model in models.items():\n",
    "    print(genre, model.wv.most_similar(positive=['king', 'woman'], \n",
    "                                    negative=['man'])[0][0])"
   ]
  },
  {
   "cell_type": "code",
   "execution_count": null,
   "metadata": {},
   "outputs": [],
   "source": []
  }
 ],
 "metadata": {
  "kernelspec": {
   "display_name": "Python 3",
   "language": "python",
   "name": "python3"
  },
  "language_info": {
   "codemirror_mode": {
    "name": "ipython",
    "version": 3
   },
   "file_extension": ".py",
   "mimetype": "text/x-python",
   "name": "python",
   "nbconvert_exporter": "python",
   "pygments_lexer": "ipython3",
   "version": "3.7.4"
  },
  "toc": {
   "base_numbering": 1,
   "nav_menu": {},
   "number_sections": true,
   "sideBar": true,
   "skip_h1_title": true,
   "title_cell": "Table of Contents",
   "title_sidebar": "Contents",
   "toc_cell": false,
   "toc_position": {},
   "toc_section_display": true,
   "toc_window_display": false
  }
 },
 "nbformat": 4,
 "nbformat_minor": 2
}
