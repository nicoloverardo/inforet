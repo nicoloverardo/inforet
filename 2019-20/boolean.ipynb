{
 "cells": [
  {
   "cell_type": "markdown",
   "metadata": {},
   "source": [
    "# Boolean retrieval\n",
    "\n",
    "Example of boolean retrieval on the <code>country_dataset</code>. The dataset is composed by a set of queries of the form:\n",
    "<pre>\n",
    "<code>\n",
    "  c: [d_0, d_1, ..., d_n]  \n",
    "</code>\n",
    "</pre>\n",
    "where <code>c</code> is the name of a country and <code>[d_0, d_1, ..., d_n]</code> is the list of the document ids that are relevant to <code>c</code>. Document texts are given in the <code>docs</code> list. Document ids correspond to the position of documents in the <code>docs</code> list."
   ]
  },
  {
   "cell_type": "code",
   "execution_count": 1,
   "metadata": {},
   "outputs": [],
   "source": [
    "import json"
   ]
  },
  {
   "cell_type": "code",
   "execution_count": 2,
   "metadata": {},
   "outputs": [],
   "source": [
    "dataset_file = '../data/country_dataset.json'\n",
    "with open(dataset_file, 'r') as infile:\n",
    "    dataset = json.load(infile)"
   ]
  },
  {
   "cell_type": "code",
   "execution_count": 3,
   "metadata": {},
   "outputs": [],
   "source": [
    "docs = dataset['docs']\n",
    "queries = dataset['queries']"
   ]
  },
  {
   "cell_type": "code",
   "execution_count": 4,
   "metadata": {},
   "outputs": [
    {
     "name": "stdout",
     "output_type": "stream",
     "text": [
      "The group was presented to the Prince of Wales, later King Charles I, in 1623 while he was in Spain negotiating a marriage contract, and it soon became the most famous Italian sculpture in England.\n",
      "\n",
      "Once the abbot went to Italy, the four brothers decided to celebrate, yet they needed some money.\n",
      "\n"
     ]
    }
   ],
   "source": [
    "print(docs[10])\n",
    "print(docs[16])"
   ]
  },
  {
   "cell_type": "markdown",
   "metadata": {},
   "source": [
    "## Get a tokenizer"
   ]
  },
  {
   "cell_type": "code",
   "execution_count": 5,
   "metadata": {},
   "outputs": [],
   "source": [
    "from nltk.tokenize import TweetTokenizer"
   ]
  },
  {
   "cell_type": "code",
   "execution_count": 6,
   "metadata": {},
   "outputs": [],
   "source": [
    "tk = TweetTokenizer()"
   ]
  },
  {
   "cell_type": "markdown",
   "metadata": {},
   "source": [
    "## Boolean indexing"
   ]
  },
  {
   "cell_type": "code",
   "execution_count": 7,
   "metadata": {},
   "outputs": [],
   "source": [
    "from collections import defaultdict"
   ]
  },
  {
   "cell_type": "code",
   "execution_count": 8,
   "metadata": {},
   "outputs": [],
   "source": [
    "I = defaultdict(lambda: set())"
   ]
  },
  {
   "cell_type": "code",
   "execution_count": 9,
   "metadata": {},
   "outputs": [],
   "source": [
    "for i, doc in enumerate(docs):\n",
    "    for token in tk.tokenize(doc):\n",
    "        I[token.lower()].add(i)"
   ]
  },
  {
   "cell_type": "code",
   "execution_count": null,
   "metadata": {},
   "outputs": [],
   "source": []
  },
  {
   "cell_type": "markdown",
   "metadata": {},
   "source": [
    "## Query processing\n",
    "Using set union, we implement <code>OR</code> boolean queries."
   ]
  },
  {
   "cell_type": "code",
   "execution_count": 10,
   "metadata": {},
   "outputs": [],
   "source": [
    "q = list(queries.keys())[8]"
   ]
  },
  {
   "cell_type": "code",
   "execution_count": 11,
   "metadata": {},
   "outputs": [
    {
     "data": {
      "text/plain": [
       "'China'"
      ]
     },
     "execution_count": 11,
     "metadata": {},
     "output_type": "execute_result"
    }
   ],
   "source": [
    "q"
   ]
  },
  {
   "cell_type": "code",
   "execution_count": 12,
   "metadata": {},
   "outputs": [],
   "source": [
    "def or_query(q, index):\n",
    "    qs = [t.lower() for t in tk.tokenize(q)]\n",
    "    answers = set()\n",
    "    for s in qs:\n",
    "        answers = answers.union(index[s])\n",
    "    return answers"
   ]
  },
  {
   "cell_type": "code",
   "execution_count": 13,
   "metadata": {},
   "outputs": [],
   "source": [
    "results = or_query(q, I)"
   ]
  },
  {
   "cell_type": "code",
   "execution_count": 14,
   "metadata": {},
   "outputs": [
    {
     "name": "stdout",
     "output_type": "stream",
     "text": [
      "The women's snowboard halfpipe competition at the 2007 Asian Winter Games in Changchun, China was held on 29 January at the Beida Lake Skiing Resort.\n",
      "\n",
      "A cupboard in France is probably different from a cupboard in Germany, or in China, or in England etc.\n",
      "\n",
      "Wuzhou or Wu Prefecture was a zhou (prefecture) in imperial China.\n",
      "\n",
      "The toli shad or Chinese herring (Tenualosa toli) is a fish of the Clupeidae family, a species of shad distributed in the western Indian Ocean and the Bay of Bengal to the Java Sea and the South China Sea.\n",
      "\n",
      "Heisch was born June 10, 1872 in Latendorf, Germany, and after entering the marine corps he was sent as a private to China to fight in the Boxer Rebellion.\n",
      "\n",
      "Lipulekh (also known as Tri-Corner) is a Himalayan pass between Nepal, India and China connecting the North Western Cornered Byash Valley of Nepal and Indian State of Uttarakhand with the old trading town of Taklakot (Purang) in Tibet and belongs to Nepal.\n",
      "\n",
      "In the United Kingdom, United States, India, and Brazil diclofenac may be supplied as either the sodium or potassium salt; in China, it is most often supplied as the sodium salt, while in some other countries it is only available as the potassium salt.\n",
      "\n",
      "This marine species occurs in the Mascarene Basin and off Madagascar; off Sri Lanka, the Philippines, in the South China Sea, off Australia and the Fiji Islands.\n",
      "\n",
      "Holy Saviour's Cathedral is a former Anglican cathedral in Xicheng District of Beijing, China.\n",
      "\n",
      "In a 2016 ranking of Chinese high schools that send students to study in American universities, Shenzhen Foreign Language School ranked number 19 in mainland China in terms of the number of students entering top American universities.\n",
      "\n",
      "The ship was to be built in China and set sail in late 2016, later postponed to 2018.\n",
      "\n"
     ]
    }
   ],
   "source": [
    "for docid in results:\n",
    "    print(docs[docid])"
   ]
  },
  {
   "cell_type": "markdown",
   "metadata": {},
   "source": [
    "### Exercize: implement <code>AND</code> boolean queries"
   ]
  },
  {
   "cell_type": "code",
   "execution_count": null,
   "metadata": {},
   "outputs": [],
   "source": [
    "def and_query(q, index):\n",
    "    qs = [t.lower() for t in tk.tokenize(q)]\n",
    "    answers = index[qs[0]]\n",
    "    for s in qs[1:]:\n",
    "        answers = answers.intersection(index[s])\n",
    "    return answers, qs"
   ]
  },
  {
   "cell_type": "code",
   "execution_count": null,
   "metadata": {},
   "outputs": [],
   "source": [
    "and_query(\"China India\", I)"
   ]
  },
  {
   "cell_type": "markdown",
   "metadata": {},
   "source": [
    "## Precision and recall"
   ]
  },
  {
   "cell_type": "code",
   "execution_count": 15,
   "metadata": {},
   "outputs": [],
   "source": [
    "import numpy as np\n",
    "import pandas as pd"
   ]
  },
  {
   "cell_type": "code",
   "execution_count": 16,
   "metadata": {},
   "outputs": [],
   "source": [
    "ground_truth = queries['United States of America']"
   ]
  },
  {
   "cell_type": "code",
   "execution_count": 17,
   "metadata": {},
   "outputs": [],
   "source": [
    "result = or_query('United States of America', I)"
   ]
  },
  {
   "cell_type": "code",
   "execution_count": 18,
   "metadata": {},
   "outputs": [],
   "source": [
    "TP = set(ground_truth).intersection(result)"
   ]
  },
  {
   "cell_type": "code",
   "execution_count": 19,
   "metadata": {},
   "outputs": [],
   "source": [
    "FP = [x for x in result if x not in ground_truth]\n",
    "FN = [x for x in ground_truth if x not in result]"
   ]
  },
  {
   "cell_type": "code",
   "execution_count": 20,
   "metadata": {},
   "outputs": [],
   "source": [
    "precision = len(TP) / (len(TP) + len(FP))\n",
    "recall = len(TP) / (len(TP) + len(FN))"
   ]
  },
  {
   "cell_type": "code",
   "execution_count": 21,
   "metadata": {},
   "outputs": [
    {
     "name": "stdout",
     "output_type": "stream",
     "text": [
      "0.16358024691358025 0.7910447761194029 0.2710997442455243\n"
     ]
    }
   ],
   "source": [
    "print(precision, recall, (2*precision*recall)/(precision + recall))"
   ]
  },
  {
   "cell_type": "code",
   "execution_count": 22,
   "metadata": {},
   "outputs": [],
   "source": [
    "outcome = defaultdict(lambda: {'precision': 0, 'recall': 0})\n",
    "for query, expected in queries.items():\n",
    "    retrieved = or_query(query, I)\n",
    "    try:\n",
    "        p = len(set(expected).intersection(retrieved)) / len(retrieved)\n",
    "    except ZeroDivisionError:\n",
    "        p = np.nan\n",
    "    r = len(set(expected).intersection(retrieved)) / len(expected)\n",
    "    outcome[query]['precision'] = p\n",
    "    outcome[query]['recall'] = r"
   ]
  },
  {
   "cell_type": "code",
   "execution_count": 23,
   "metadata": {},
   "outputs": [],
   "source": [
    "O = pd.DataFrame(outcome).T"
   ]
  },
  {
   "cell_type": "code",
   "execution_count": 24,
   "metadata": {},
   "outputs": [
    {
     "data": {
      "text/html": [
       "<div>\n",
       "<style scoped>\n",
       "    .dataframe tbody tr th:only-of-type {\n",
       "        vertical-align: middle;\n",
       "    }\n",
       "\n",
       "    .dataframe tbody tr th {\n",
       "        vertical-align: top;\n",
       "    }\n",
       "\n",
       "    .dataframe thead th {\n",
       "        text-align: right;\n",
       "    }\n",
       "</style>\n",
       "<table border=\"1\" class=\"dataframe\">\n",
       "  <thead>\n",
       "    <tr style=\"text-align: right;\">\n",
       "      <th></th>\n",
       "      <th>precision</th>\n",
       "      <th>recall</th>\n",
       "    </tr>\n",
       "  </thead>\n",
       "  <tbody>\n",
       "    <tr>\n",
       "      <td>India</td>\n",
       "      <td>1.0</td>\n",
       "      <td>0.869565</td>\n",
       "    </tr>\n",
       "    <tr>\n",
       "      <td>Slovenia</td>\n",
       "      <td>1.0</td>\n",
       "      <td>0.750000</td>\n",
       "    </tr>\n",
       "    <tr>\n",
       "      <td>Canada</td>\n",
       "      <td>1.0</td>\n",
       "      <td>0.615385</td>\n",
       "    </tr>\n",
       "    <tr>\n",
       "      <td>Tanzania</td>\n",
       "      <td>1.0</td>\n",
       "      <td>1.000000</td>\n",
       "    </tr>\n",
       "    <tr>\n",
       "      <td>Indonesia</td>\n",
       "      <td>1.0</td>\n",
       "      <td>0.750000</td>\n",
       "    </tr>\n",
       "  </tbody>\n",
       "</table>\n",
       "</div>"
      ],
      "text/plain": [
       "           precision    recall\n",
       "India            1.0  0.869565\n",
       "Slovenia         1.0  0.750000\n",
       "Canada           1.0  0.615385\n",
       "Tanzania         1.0  1.000000\n",
       "Indonesia        1.0  0.750000"
      ]
     },
     "execution_count": 24,
     "metadata": {},
     "output_type": "execute_result"
    }
   ],
   "source": [
    "O.head()"
   ]
  },
  {
   "cell_type": "code",
   "execution_count": 25,
   "metadata": {},
   "outputs": [
    {
     "data": {
      "text/plain": [
       "precision    0.814421\n",
       "recall       0.720115\n",
       "dtype: float64"
      ]
     },
     "execution_count": 25,
     "metadata": {},
     "output_type": "execute_result"
    }
   ],
   "source": [
    "O.mean()"
   ]
  },
  {
   "cell_type": "code",
   "execution_count": 26,
   "metadata": {},
   "outputs": [],
   "source": [
    "from sklearn.metrics import classification_report\n",
    "from sklearn.metrics import confusion_matrix"
   ]
  },
  {
   "cell_type": "code",
   "execution_count": 40,
   "metadata": {},
   "outputs": [],
   "source": [
    "q = 'United States of America'\n",
    "ground_truth = queries[q]\n",
    "result = or_query(q, I)"
   ]
  },
  {
   "cell_type": "code",
   "execution_count": 41,
   "metadata": {},
   "outputs": [],
   "source": [
    "all_docs = result.union(set(ground_truth))"
   ]
  },
  {
   "cell_type": "code",
   "execution_count": 42,
   "metadata": {},
   "outputs": [],
   "source": [
    "y_true = np.zeros(len(all_docs))\n",
    "y_pred = np.zeros(len(all_docs))"
   ]
  },
  {
   "cell_type": "code",
   "execution_count": 43,
   "metadata": {},
   "outputs": [],
   "source": [
    "for i, d in enumerate(all_docs):\n",
    "    if d in ground_truth:\n",
    "        y_true[i] = 1\n",
    "    if d in result:\n",
    "        y_pred[i] = 1"
   ]
  },
  {
   "cell_type": "code",
   "execution_count": 44,
   "metadata": {},
   "outputs": [
    {
     "data": {
      "text/plain": [
       "array([0., 0., 0., 1., 1., 0., 0., 0., 0., 0.])"
      ]
     },
     "execution_count": 44,
     "metadata": {},
     "output_type": "execute_result"
    }
   ],
   "source": [
    "y_true[:10]"
   ]
  },
  {
   "cell_type": "code",
   "execution_count": 45,
   "metadata": {},
   "outputs": [
    {
     "data": {
      "text/plain": [
       "array([1., 1., 1., 1., 1., 1., 1., 1., 1., 1.])"
      ]
     },
     "execution_count": 45,
     "metadata": {},
     "output_type": "execute_result"
    }
   ],
   "source": [
    "y_pred[:10]"
   ]
  },
  {
   "cell_type": "code",
   "execution_count": 46,
   "metadata": {},
   "outputs": [
    {
     "name": "stdout",
     "output_type": "stream",
     "text": [
      "              precision    recall  f1-score   support\n",
      "\n",
      "         0.0       0.00      0.00      0.00       271\n",
      "         1.0       0.16      0.79      0.27        67\n",
      "\n",
      "    accuracy                           0.16       338\n",
      "   macro avg       0.08      0.40      0.14       338\n",
      "weighted avg       0.03      0.16      0.05       338\n",
      "\n"
     ]
    }
   ],
   "source": [
    "print(classification_report(y_true, y_pred))"
   ]
  },
  {
   "cell_type": "code",
   "execution_count": 50,
   "metadata": {},
   "outputs": [
    {
     "data": {
      "text/plain": [
       "array([[  0, 271],\n",
       "       [ 14,  53]])"
      ]
     },
     "execution_count": 50,
     "metadata": {},
     "output_type": "execute_result"
    }
   ],
   "source": [
    "confusion_matrix(y_true, y_pred)"
   ]
  },
  {
   "cell_type": "code",
   "execution_count": 51,
   "metadata": {},
   "outputs": [],
   "source": [
    "tn, fp, fn, tp = confusion_matrix(y_true, y_pred).ravel()"
   ]
  },
  {
   "cell_type": "code",
   "execution_count": 52,
   "metadata": {},
   "outputs": [
    {
     "name": "stdout",
     "output_type": "stream",
     "text": [
      "0 271 14 53\n"
     ]
    }
   ],
   "source": [
    "print(tn, fp, fn, tp)"
   ]
  },
  {
   "cell_type": "code",
   "execution_count": 54,
   "metadata": {},
   "outputs": [
    {
     "name": "stdout",
     "output_type": "stream",
     "text": [
      "Zalog is a formerly independent settlement in the eastern part of the capital Ljubljana in central Slovenia.\n",
      "\n",
      "Beacon Hill is a neighbourhood located in Beacon Hill-Cyrville Ward in the east end of Ottawa, Ontario, Canada.\n",
      "\n",
      "There is no road connection to the rest of Norway, even though it is located on the mainland.\n",
      "\n",
      "Her parents, Matthew and Julia Moore, had come to the United States in 1888 and were living at 32 Monroe Street in Manhattan.\n",
      "\n",
      "Pointe Coupee Parish School Board is a school district headquartered in unincorporated Pointe Coupee Parish, Louisiana, United States.\n",
      "\n",
      "The descriptions of M. slaina ants were based on worker, queen and males collected from various places in Siberia and Kazakhstan.\n",
      "\n",
      "The group was presented to the Prince of Wales, later King Charles I, in 1623 while he was in Spain negotiating a marriage contract, and it soon became the most famous Italian sculpture in England.\n",
      "\n",
      "And there's no such case - they were all Serbs before, and did not belong to one of the peoples of Montenegro.\n",
      "\n",
      "Donald Lu is currently the United States ambassador.\n",
      "\n",
      "The 2012 Community Shield was broadcast live in the United Kingdom on ITV1.\n",
      "\n",
      "This meant a factory could be set up anywhere in India and the transportation of minerals would be subsidised by the central government.\n",
      "\n",
      "Airport City Accra is an urban development within the Airport enclave of Accra.\n",
      "\n",
      "\"During a night meeting with Adolf Hitler and Hermann Göring in Berlin on between 14 and 15 of March, 1939 he was threatened with aerial bombardment of Prague and forced to sign a document accepting of incorporation of Bohemia and Moravia into Germany even though he did not consult the parliament beforehand.\"\n",
      "\n",
      "Holy Saviour's Cathedral is a former Anglican cathedral in Xicheng District of Beijing, China.\n",
      "\n",
      "Koepenick is an unincorporated community located in the town of Upham, Langlade County, Wisconsin, United States.\n",
      "\n",
      "He lived for most of the last decade of his life in London and frequently travelled between Europe and Canada.\n",
      "\n",
      "At the graduation of the Academy, in 2010, Ekaterine Chitashvili moved to Moldova and was the general company producer Elat Concerts, she was engaged in conducting international music festivals and competitions, television, music projects and producing popular talented bands and moldavian artists.But the main activity for Ekaterine was to enlarge the contacts and affiliates own international concert of MaximuM, a company that today has 13 offices in the Americas, Europe and CIS.\n",
      "\n",
      "He finished only in fortieth place by one point behind New Zealand's Yang Wang from the fourth attempt, for a total score of 571 targets.\n",
      "\n",
      "The Cat Island, part of the Babel Group within the Furneaux Group, is a 39-hectare (96-acre) unpopulated granite island, located in Bass Strait, lying off the east coast of Flinders Island, Tasmania, south of Victoria, in south-eastern Australia.\n",
      "\n",
      "At the time of Federation the very few people who lived in the Northern Territory voted as residents of South Australia.\n",
      "\n",
      "The township comprises the communities of Beamsville, Campden, Jordan, Jordan Station, Pelham Union, Rockway, Tintern, Vineland and Vineland Station.\n",
      "\n",
      "The Salar de Olaroz is a salt lake in the province of Jujuy in northwestern Argentina, close to the Chile border.\n",
      "\n",
      "Echoing the Taif Agreement, the resolution \"calls upon all remaining foreign forces to withdraw from Lebanon\" and \"for the disbanding and disarmament of all Lebanese and non-Lebanese militias.\"\n",
      "\n",
      "From the seventies onward, Novarro lived part of the time in Germany, because he considered Europe \"the center of art\".\n",
      "\n",
      "In 2003 he was awarded New Zealand's coach of the year and was nominated again in 2005.\n",
      "\n",
      "Published in United States between 1923 and 1978 with no notice of copyright in original publication, public domain.\n",
      "\n",
      "The year 2007 is the 11th year in the history of the Pride Fighting Championships, a mixed martial arts promotion based in Japan.\n",
      "\n",
      "In 1793, Brunel had to flee the revolution, going to the United States, but Sophia remained in Rouen.\n",
      "\n",
      "Additionally, Australia's population is highly concentrated in coastal areas, and its important tourism industry depends on the health of the Great Barrier Reef and other fragile ecosystems.\n",
      "\n",
      "Most were selected from shrines that were in the immediate vicinity of Kyoto, the capital of Japan at the time.\n",
      "\n",
      "Borislav Pekić spent his childhood in different cities of Serbia, Montenegro and Croatia.\n",
      "\n",
      "Although her film career didn't take off until she was well into her forties, she is regarded as one of China's most talented female directors.\n",
      "\n",
      "Back in Spain, he served as fiscal of Burgos and as official in the provinces of Navarra, Guipúzcoa and Zaragoza.\n",
      "\n",
      "It has an estimated population of 176,030 in 2014, and the capital and largest city of the state is Terekeka, South Sudan.\n",
      "\n",
      "Gender reassignment surgery has been practised since the 1930s, and available in the United States from 1965.\n",
      "\n",
      "He became chancellor of Sicily in 1343 and legate of Pope Innocent VI in Dauphiné in 1353 and in Germany in 1358.\n",
      "\n",
      "In the mid to late-1930's with the Spanish Civil War and the blackshirts of Oswald Mosley marching through the Jewish getto of the east end of London, Nat and many of his contemporaries chose to join the British Army.\n",
      "\n",
      "It is one of the top booking stations in India according to Indian Railways.\n",
      "\n",
      "She was the first immigrant to the United States to pass through the Ellis Island facility in New York Harbor.\n",
      "\n",
      "Galantiči is a small settlement south of Kubed in the City Municipality of Koper in the Littoral region of Slovenia.\n",
      "\n",
      "Civita di Bagnoregio is a town in the Province of Viterbo in central Italy, a suburb of the comune of Bagnoregio, 1 kilometre (0.6 miles) east from it.\n",
      "\n",
      "This makes it the top free-to-air television program on Saturday evening, and it's also the most viewed non-drama program in South Korea every week (excluding special sporting events, since November 2006, with the exception of January 2009, April and May 2010).\n",
      "\n",
      "In the case of Paris, the urban area is divided in about 420 different munipalities (nearly as many as in the whole Belgium).\n",
      "\n",
      "Howe is an unincorporated community in Nemaha County, Nebraska, in the United States.\n",
      "\n",
      "Initially the school was established to provide a British style education for the children of expatriates working in Seychelles on temporary contract.\n",
      "\n",
      "After graduation from the National Theatre School, he and his wife spent a year interning with theatre companies in both Northern Ireland and the Republic of Ireland.\n",
      "\n",
      "It originated from Uruguay and Argentina in the mid-1940s, with apparent characteristics of simplicity and implications that are often unforeseeable and absolutely involving.\n",
      "\n",
      "Based in Beirut, Lebanon 1964-66, he published photographs and articles on subjects such as the Kurds of Iraq in Life, the Sunday Times, Geographical Magazine and others.\n",
      "\n",
      "By 1916, it was the largest oil company in Russia, producing 76 million poods of oil.\n",
      "\n",
      "Measuring almost four meters in width, Ecclesia militans is one of the largest icons ever produced in medieval Russia.\n",
      "\n",
      "The first crowned Holy Roman Empress since the mid-15th century, she was responsible from the moving of the Imperial court from Prague to Vienna, which became one of the centers of European culture.\n",
      "\n",
      "Armando Costa, also known as Rilhas, was born in 1949 in the village of Bombarral in central Portugal.\n",
      "\n",
      "She was one of the first locomotives to be built in Germany.\n",
      "\n",
      "At the time of the 1991 Nepal census it had a population of 2,891 and had 530 houses in the village.\n",
      "\n",
      "Amalia wrote a song book which is currently found in the German national library in Berlin, with copies in the public library of Frankfurt and the university library of Frankfurt.\n",
      "\n",
      "Its fake covers of prominent newspaper were sensational media pranks; the authors even distributed a fake Pravda in Russia during communist rule.\n",
      "\n",
      "Born in Wrentham, Suffolk, the son of Reverend Andrew Ritchie, he was educated at University College, London.\n",
      "\n",
      "Traveling to Rome in 1619, he also would have been exposed to the influence of Caravaggio and his followers.\n",
      "\n",
      "He served in the United States military during the Korean War.\n",
      "\n",
      "Harvard School (pre Harvard-Westlake) was named after John Harvard of Southwick, borough of London.\n",
      "\n",
      "Detremmerie was born in Mouscron, traditionally a French speaking textile manufacturing town sandwiched between the frontier with France to the south, and the Dutch language frontier to the north, in the western part of occupied Belgium.\n",
      "\n",
      "Hope For The Warriors is a national nonprofit organization in the United States that provides assistance to combat wounded service members, their families, and families of those killed in action.\n",
      "\n",
      "In 1978 it began to be marketed in France for patients at high risk for thrombotic events: postoperative cardiac patients, patients undergoing hemodialysis, peripheral vascular disease, and the prevention of strokes and ischemic heart disease.\n",
      "\n",
      "Born in Australia in November 1956, Delacy has been part of the Hong Kong broadcasting industry since 1979.\n",
      "\n",
      "The Grand National Party of President Lee Myung-bak won a majority of seats in the National Assembly of South Korea.\n",
      "\n",
      "Before the Syrian war, Homs was a major industrial centre, and with a population of at least 652,609 people in 2004, it was the third largest city in Syria after Aleppo to the north and the capital Damascus to the south.\n",
      "\n",
      "Kerala Iyers, like the Iyers of Tamil Nadu and the Nambudiris of Kerala, belonged to the Pancha-Dravida classification of India's Brahmin community.\n",
      "\n",
      "New York State Route 50 (NY 50) is a 31.67-mile (50.97 km) state highway in the Capital District of New York in the United States.\n",
      "\n",
      "There are representatives of different regions of Ukraine.\n",
      "\n",
      "The parish church in the settlement is dedicated to the Assumption of Mary and belongs to the Roman Catholic Archdiocese of Ljubljana.\n",
      "\n",
      "From the 1800s it was a center of Hermanos' religious activity, based upon practices that originated in Spain.\n",
      "\n",
      "Uganda's 60 conservation protected areas harbor populations of numerous critically endangered species.\n",
      "\n",
      "She currently lives in the village of Achui, in Guri, outside of the hustle and bustle of Seoul.\n",
      "\n",
      "Prince August died at the age of 41 of pneumonia at the Royal Palace of Stockholm, Stockholm.\n",
      "\n",
      "The first Long Night of Museums took place in Berlin in 1997.\n",
      "\n",
      "It grows in areas with low levels of rainfall and its range extends southwards from Arizona, Texas and New Mexico in the United States into Mexico.\n",
      "\n",
      "While travelling home in 1945 he was summoned to return to France to attend General Patton, at the request of Patton's wife, after the car accident that caused Patton's death.\n",
      "\n",
      "The impacts of climate change in Australia will be complex and to some degree uncertain, but increased foresight may enable the country to safeguard its future through planned mitigation and adaptation.\n",
      "\n",
      "Syria is located in the Middle East at the eastern end of the Mediterranean Sea.\n",
      "\n",
      "Before 1772 the area was part of Kingdom of Poland, Prussia and Germany.\n",
      "\n",
      "Burnside is a suburb of Christchurch, New Zealand, located southeast of Christchurch International Airport.\n",
      "\n",
      "He was then transferred to III Amphibious Corps, which was preparing for the planned invasion of Japan.\n",
      "\n",
      "Gulian was born in Marash in Western Armenia then part of Ottoman Empire, immigrated to the United States at a young age, and grew up in Newton, Massachusetts.\n",
      "\n",
      "The concept has been very well received, and since then the number of participating institutions and exhibitions has risen dramatically, spreading to over 120 other cities throughout Europe, as well as elsewhere, in Argentina and the Philippines.\n",
      "\n",
      "Bennihalli is a village in Belgaum district in the southern state of Karnataka, India.\n",
      "\n",
      "He is the Minister of Fisheries and Marine Resources of Somalia, having been appointed to the position on 27 January 2015 by Prime Minister Omar Abdirashid Ali Sharmarke.\n",
      "\n",
      "Tokko's original soundtrack was released in stores across Japan on June 28, 2006 as part of its release with the TOKKO TV series.\n",
      "\n",
      "It was located in Rindge, New Hampshire, United States, on a working organic farm with 142 acres (0.57 km2) of field and forest.\n",
      "\n",
      "During the occupation of Norway by Germany he was imprisoned in Grini concentration camp from 13 to 21 January 1942.\n",
      "\n",
      "Sarah Culberson (born 1976) is a biracial American woman of Mende ancestry from Sierra Leone on her father's side.\n",
      "\n",
      "It passes through the towns of Dmitrov and Yakhroma, crossing the Moscow-Volga Canal on its way.\n",
      "\n",
      "Its population reflects Syria's general religious diversity, composed of Sunni and Alawite and Christian.\n",
      "\n",
      "It is found from eastern Russia to the eastern part of the Palearctic ecozone.\n",
      "\n",
      "Metropolitan areas in the United States will continue to grow in size due to a growing population.\n",
      "\n",
      "Many if not most Brazilians in Suriname work as small-scale gold miners in the town of Albina which has become primarily a base for nomadic gold prospectors.\n",
      "\n",
      "Finally, he was Norwegian ambassador to the United States from 1963 to 1966.\n",
      "\n",
      "A recent IDA survey (circa 2006) showed that more could be done to help Singapore’s small & medium enterprises, or SMEs, tap the power of infocomm technology.\n",
      "\n",
      "Over 5000 were produced in the United States and the older \"classic\" models are still being built in Japan.\n",
      "\n",
      "He also arranged for the transportation to Egypt of hundreds of Allied soldiers left behind after the evacuation, and now being hidden by the Cretans.\n",
      "\n",
      "The university's financial program, which was initiated in the 1990s with the support of France's larger banks, was intended to prepare students for middle and back-office positions in the trading departments of financial institutions.\n",
      "\n",
      "Millner was an electoral division of the Legislative Assembly in Australia's Northern Territory.\n",
      "\n",
      "Shodhan scored 45 and 11 in the first Test at Port of Spain against West Indies that followed.\n",
      "\n",
      "Lachen is a municipality in the district of Unterallgäu in Bavaria, Germany.\n",
      "\n",
      "It was part of the traditional region of Upper Carniola and is now included with the rest of the municipality in the Central Slovenia Statistical Region.\n",
      "\n",
      "Also she was a protecting goddess of Rome and the keeper of the sacred name of the city, which might not be pronounced lest it should be revealed to her enemies.\n",
      "\n",
      "Before 1945 the area was part of Germany (East Prussia).\n",
      "\n",
      "Hypopachus is a genus of microhylid frogs found in the Americas between Costa Rica and the southern United States.\n",
      "\n",
      "In the United Kingdom, Ireland, New Zealand, and Australia, the word \"raisin\" is reserved for the dark-coloured dried large grape, with \"sultana\" being a golden-coloured dried grape, and \"currant\" being a dried small Black Corinth seedless grape.\n",
      "\n",
      "The work was commissioned by Sveriges Radio Radioteatern, the radio drama department of Sweden's national radio broadcaster.\n",
      "\n",
      "The whole scheme also revealed a need for a small batch of locomotives to maintain connecting services between London (Waterloo) and the unelectrified area of Southampton Docks for the passenger Ocean Liner traffic.\n",
      "\n",
      "Future Force Warrior was a United States military advanced technology demonstration project that was part of the Future Combat Systems project.\n",
      "\n",
      "Malków is a village in the administrative district of Gmina Żarnów, within Opoczno County, Łódź Voivodeship, in central Poland.\n",
      "\n",
      "Suriname, officially the Republic of Suriname, is a country in northern South America.\n",
      "\n",
      "Works of Piko's was exhibited widely his paintings: Georgia, Austria, Germany, France, UK, Italy, Russia, Greece, Yugoslavia, Sweden Etc.\n",
      "\n",
      "Recoleta is a downtown residential neighborhood in the Autonomous City of Buenos Aires, Argentina; it is an area of great historical and architectural interest, mostly because of the Recoleta Cemetery .\n",
      "\n",
      "Culberson was adopted one year after her birth by a West Virginia couple and was raised in the United States with little knowledge of her ancestry.\n",
      "\n",
      "He made his New Zealand television debut as an actor and writer in satirical sketch show A Week of It, following which he continued to work with that show's stars David McPhail and Jon Gadsby in McPhail & Gadsby and later with McPhail alone in Letter to Blanchy.\n",
      "\n",
      "It was formally taken in use on 30 June 2005 by the Director of the West Siberian Railway as the 23rd children's railway of Russia.\n",
      "\n",
      "Her first concert appearances took her to Stuttgart, Frankfurt and Switzerland, and in 1867 she became acclaimed for her interpretation of Liszt's piano music at the Leipzig Gewandhaus.\n",
      "\n",
      "The remaining five ships were relocated to Montenegro, entering service with the new FR Yugoslav Navy, with three of them being decommissioned in the early 2000s.\n",
      "\n",
      "Knockholt is also the only part of this Kent Hundred that is in Kent today, although both would not have been true whilst Knockholt was in the London Borough of Bromley between 1965 and 1969.\n",
      "\n",
      "During the siege of Jerusalem in the Great Jewish Revolt, he argued in favour of peace; according to the Talmud, when he found the anger of the besieged populace to be intolerable, he arranged a secret escape from the city inside a coffin, so that he could negotiate with Vespasian (who, at this time, was still just a military commander).\n",
      "\n",
      "South of this is the Homs Gap, beyond which are Mount Lebanon and the Anti-Lebanon Mountains which separate Syria from Lebanon.\n",
      "\n",
      "Anna \"Annie\" Moore (April 24, 1874 - December 6, 1924) was an Irish emigrant to the United States in 1892.\n",
      "\n",
      "It also serves as a regional hospital for Norway's Health Region East, which includes Oslo, Hedmark, Oppland, Akershus and Østfold counties with a total population of 1.6 million.\n",
      "\n",
      "Egypt is regarded as the place of origin.\n",
      "\n",
      "He plays for Liberty Professionals in the Glo Premier League of Ghana.\n",
      "\n",
      "It is found in Botswana, Democratic Republic of the Congo, Malawi, Mozambique, South Africa, Swaziland, Tanzania, Zambia, Zimbabwe, and possibly Lesotho.\n",
      "\n",
      "Macdonald served as Canada's senior trade commissioner in Sri Lanka, the United States of America, and Lebanon in the 1970s.\n",
      "\n",
      "Hölstein is a municipality in the district of Waldenburg in the canton of Basel-Country in Switzerland.\n",
      "\n",
      "Also annexed to the Alcazaba was a convent of the Order of Santiago, currently home to the council of the Extremadura community.\n",
      "\n",
      "The bird's range surrounds the Amazon countries into the Andes foothills and higher elevations of upstream river systems, but is not along the Amazon River proper in the central Amazon Basin, or the central upper Basin; it is in Brazil at the river's outlet, and upstream for about 500 km.\n",
      "\n",
      "1991 – In Dili, East Timor, Indonesian forces opened fire on student demonstrators protesting the occupation of East Timor, killing at least 250 people.\n",
      "\n",
      "Brazilians in Suriname form a large community consisting mostly of miners.\n",
      "\n",
      "Declaration of the Powers regarding the abolition of the Slave Trade, signed at Vienna.\n",
      "\n",
      "Prior to the establishment of British regime over India and entering a peace treaty with Tibet in 1904 AD, Nepal was interpreted as the main route to Tibet for external trade with other countries.\n",
      "\n",
      "The battle ended in a victory for the UN after large numbers of United States (US) and Republic of Korea troops were able to prevent a North Korean division from capturing the mountain area.\n",
      "\n",
      "Hole in the Rock is a narrow and steep crevice in the western rim of Glen Canyon, in southern Utah in the western United States.\n",
      "\n",
      "All of Beijing's expressways, except for the Tongyan Expressway, are interlinked with the 5th Ring Road.\n",
      "\n",
      "The whole scheme also revealed a need for a small batch of locomotives to maintain connecting services between London (Waterloo) and the unelectrified area of Southampton Docks for the passenger Ocean Liner traffic.\n",
      "\n",
      "The Seekopf is a mountain on the main chain of the Northern Black Forest in Germany between the Upper Rhine Plain and the Murg valley.\n",
      "\n",
      "Rally Costa Smeralda is a rally competition held in Costa Smeralda, a coastal area on the island of Sardinia, Italy.\n",
      "\n",
      "He arrived at the port of New Amsterdam in July, 1639.\n",
      "\n",
      "The son of Villien Valdemar Aagaard and Florence Aagard (née Brooke), Aagaard was born at Norwich in 1932, after his father's family had migrated from Denmark at the time of the rise of Fascism in Germany.\n",
      "\n",
      "As a result of his prominence in the Wellington community he decided to enter local politics.\n",
      "\n",
      "The Rimouski Seignory (French: seigneurie de Rimouski) was a seignory during the French colonisation of New France.\n",
      "\n",
      "Akkaraipattu massacre happened on 19 February 1986 when approximately 80 Sri Lankan Tamil farm workers were allegedly killed by the Sri Lankan Army personnel and their bodies burned in the Eastern Province of Sri Lanka.\n",
      "\n",
      "With the growth of Berlin, the stockades and gates were moved as dictated by circumstances during the following decades.\n",
      "\n",
      "The Haitian occupation of Santo Domingo began two years before her birth, and she grew up under Haitian rule.\n",
      "\n",
      "The popularity of the Gardel-Razzano duo was in crescendo, touring on Uruguay, Brazil, Chile and Spain until 1925 when Razzano left his singing career due to throat problems.\n",
      "\n",
      "Copperlode Dam or Lake Morris is a fresh water reservoir dam servicing the city of Cairns, Queensland, Australia.\n",
      "\n",
      "He was a Fellow of the Royal College of Physicians of both London and Edinburgh.\n",
      "\n",
      "First discovered in 1801 in Mexico, vanadinite deposits have since been unearthed in South America, Europe, Africa, and other parts of North America.\n",
      "\n",
      "Suriname allegedly has the largest community of Brazilians in any CARICOM nation.\n",
      "\n",
      "The Persian army under Shahrbaraz capture the cities of Damascus, Apamea and Emesa.\n",
      "\n",
      "Maafushi is one of the inhabited islands of Kaafu Atoll and the proposed capital for the Medhu Uthuru Province of the Maldives.\n",
      "\n",
      "Pearl & Dean is now owned by Image Ltd, and controls numerous UK cinema sites including leading multiplex operators such as Empire, Showcase, AMC and represents approximately half of the UK's independent cinemas.\n",
      "\n",
      "Beacon Hill North had a population of 10,693 while Beacon Hill South had a population of 7,312 (18,005 total) according to the Canada 2011 Census.\n",
      "\n",
      "Tired by the commuting between France and Hungary and frustrated by the lack of selections, she decided to fence for France from January 2003.\n",
      "\n",
      "I live in Finland, Region of Kainuu and Municipality of Paltamo.\n",
      "\n",
      "He once said he is member of BJP and always maintained that India is land of secularism and supported the ethos of India.\n",
      "\n",
      "In the wake of the 2010 Haiti earthquake, UNESCO's World Heritage Program is helping Haiti assess the damage.\n",
      "\n",
      "Its area has been mostly absorbed by the growth of London; with its name currently referring to the Ruxley district.\n",
      "\n",
      "Live from the Point Depot is the first official release of the band's widely bootlegged New Year's Eve show at Dublin's Point Depot.\n",
      "\n",
      "Armstrong visits New Mexico, where the eighteenth Moon-rocket, to be piloted by George Quinn, is being built under the supervision of the obstructive Ambrose Fothergill.\n",
      "\n",
      "Garcia v National Australia Bank Ltd was an important case decided in the High Court of Australia on 6 August 1998.\n",
      "\n",
      "It was the last season where two rival football associations from Berlin send their champions to the German championship, with the two merging at the end of the season.\n",
      "\n",
      "Dr. de Capriles was born in Mexico and came to the United States at the age of 13, with no knowledge of English or fencing.\n",
      "\n",
      "On the outbreak of the Irish rebellion in 1641, Richardson left for England, and settled in London, where he died.\n",
      "\n",
      "In 1995 the tower was listed as one of the official historical monuments of France.\n",
      "\n",
      "His parents, Kazimir J. Wistert and Josephine (Shukis) Wistert, immigrated to the United States from Lithuania in 1894 and were married at Chicago in 1907.\n",
      "\n",
      "It was originally routed between US 127 in Castine and its present eastern terminus at SR 49 east of Gordon.\n",
      "\n",
      "Around 3,100 species of flowering plant have been recorded in Syria as well as about 100 gymnosperms.\n",
      "\n",
      "It was an island, cut off from the mainland of Australia and isolated geographically, making it ideal for a Penal Colony, and was rich in timber, a resource useful to the Royal Navy..\n",
      "\n",
      "Many people around Pakistan request their fellows to bring it as it is not widely available in any other part of Pakistan.\n",
      "\n",
      "Conservation in Uganda is the protection and sustainable use of the country's rich natural resources.\n",
      "\n",
      "From that time on, the Recoleta has been one of the most stylish and expensive neighborhoods in Buenos Aires, home to private family mansions, foreign embassies, and luxury hotels, including the Alvear Palace Hotel.\n",
      "\n",
      "Tibbetibaba was a great yogi and guru of India.\n",
      "\n",
      "Presumably most ancient and underlying all others, though now confined to certain of the more inaccessible parts of the interior of New Guinea and possibly to some few islands of the Eastern Archipelago, are a number of Negrito or Negrito-like tribes in regard to which we thus far have only the scantiest details.\n",
      "\n",
      "His parents, Thomas and Frances Montoya, were Roman Catholic descendants of eighteenth-century Spanish settlers to New Mexico.\n",
      "\n",
      "Under the supervision of workshop administrator-turned-manager Colin Lazzerini, the ensemble chose the name Loose Tubes and played its first London gig in 1984.\n",
      "\n",
      "Darbhanga Lok Sabha constituency is one of the 40 Lok Sabha (parliamentary) constituencies in Bihar state in eastern India.\n",
      "\n",
      "Anna Jóelsdóttir (born 1947) is a contemporary artist of Icelandic heritage, now based in Reykjavik, she is known for sculptural works of painted canvas often created as site specific installations.\n",
      "\n",
      "Ion Popescu-Gopo attended (but never graduated from) the Academy of Fine Arts in Bucharest.\n",
      "\n",
      "He immigrated to Canada, settling in Toronto in 1968 at the age of 18.\n",
      "\n",
      "He left Ireland before the Rebellion of 1641 and died in London on 11 August 1654.\n",
      "\n",
      "During that time he was also the military governor of Hawaii (which was at that time still a US Territory) and Commanding General of U.S. Army Forces in the Pacific Ocean Areas.\n",
      "\n",
      "As of 2001 India census Kuneran had population of 1500.\n",
      "\n",
      "Following the arrival of Palestinian refugees into Jordan after the 1948 Arab-Israeli War, she led national relief efforts to help the tens of thousands of refugees.\n",
      "\n",
      "Azzate is a town and comune located in the province of Varese, in the Lombardy region of northern Italy.\n",
      "\n",
      "This category contains the native flora of Gabon as defined by the World Geographical Scheme for Recording Plant Distributions.\n",
      "\n",
      "Commercially, \"What It Feels Like for a Girl\" was successful in most music charts around the world, peaking inside the top ten in over ten countries, including Australia, Canada, Denmark, Finland, Japan and the United Kingdom.\n",
      "\n",
      "In December 2008, Russian warships visited Nicaragua at the invitation of president Daniel Ortega, although Wilfredo Navarro of the opposition Constitutionalist Liberal Party said that without parliamentary approval the naval visit would be a breach of the Constitution.\n",
      "\n",
      "The law of Luxembourg is civil law.\n",
      "\n",
      "The VI Corps of the Seventh Army linked up with the US Fifth Army, which fought through Italy, in the Alps as the Third Army advanced into Austria and Czechoslovakia, where it linked up with Soviet forces advancing from the east.\n",
      "\n",
      "Falconara Marittima is a seaside resort on the Adriatic coast, in Italy, located 9 kilometres (5.6 mi) north of Ancona, in the Marche region, province of Ancona.\n",
      "\n",
      "IOCC is one of few agencies still working inside Syria, and continues to support one of the largest humanitarian networks on the ground in the country.\n",
      "\n",
      "The Monaco event has grown over the last 10 years - the event now takes over the whole of the Le Méridien Beach Plaza Hotel for the entire race weekend.\n",
      "\n",
      "The range extends from westernmost Texas, United States (where it is restricted to the Chisos and Davis Mountains), south through much of Mexico, occurring widely along the Sierra Madre Oriental and Sierra Madre Occidental ranges, and more rarely in the eastern Eje Volcánico Transversal range.\n",
      "\n",
      "She joined Doğuş Group, one of Turkey's leading conglomerates, as the External Affairs Manager in 2006.\n",
      "\n",
      "It was a formally described district in French Sudan, but in 1895, the border between Sudan and Senegal was moved to the Faleme River, placing the western portion of the district within Senegal.\n",
      "\n",
      "Ngawha Springs is a small settlement approximately five kilometres east of the town of Kaikohe, Northland in New Zealand.\n",
      "\n",
      "NCC works to achieve the direct protection of Canada's most important natural areas through property securement and long-term management and restoration of properties.\n",
      "\n",
      "In 1990, Mexico, along with the government of Colombia, Panama and Venezuela created the Contadora Group to try and mediate in the Central American crises that was gripping the region at the time.\n",
      "\n",
      "German brewer George Rublein immigrated to the United States in the mid-19th century, arriving in Marquette in 1849, not long after the city itself was founded.\n",
      "\n",
      "La Serena was first founded on the orders of Spanish Pedro de Valdivia in order to provide a sea link to maintain permanent contact between Santiago and Lima in the Viceroyalty of Peru.\n",
      "\n",
      "The territory was organized in 1793 to settle the Mohawks who were expelled from the United States after the United States War of Independence.\n",
      "\n",
      "His arrangements of many popular Polish folk tunes, and many originals as well, are those used today by polka bands all over the United States.\n",
      "\n",
      "myScience is present in Austria, Germany, United Kingdom, and the United States and also maintains an international site.\n",
      "\n",
      "Selmar Aschheim (4 October 1878 – 15 February 1965) was a German gynecologist who was a native resident of Berlin.\n",
      "\n",
      "Australopyrum is a genus of plants in the grass family, native to Australia, New Zealand, and New Guinea.\n",
      "\n",
      "Beacon Hill was a part of the City of Gloucester until it was amalgamated with the new city of Ottawa in 2001.\n",
      "\n",
      "The route, which largely followed present-day Sweetwater Road, connected directly to State Route 3 (now SR 208) on the north end at Wellington, via the Wellington Cutoff, instead of the present northern terminus near.\n",
      "\n",
      "After his return to Lebanon he was assigned for two years as military trainer for cadet officers, then he was sent to the Egyptian Army in Cairo for a military course as antitank missile trainer before serving in the armored corps as commander of Anti-tank Autonomous Unit of the Lebanese Army in Beirut until June 1976.\n",
      "\n",
      "Liberty Township, one of thirteen townships in Butler County, Ohio, United States, is in the east-central part of the county, just south of the city of Monroe.\n",
      "\n",
      "Squam Lake is a lake located in the Lakes Region of central New Hampshire, United States, south of the White Mountains, straddling the borders of Grafton, Carroll, and Belknap counties.\n",
      "\n",
      "Phytogeographically, the Caribbean region is often considered to include the coastal plains of the United States (including south Florida), Mexico (especially the Yucatan), Belize, Colombia and Venezuela.\n",
      "\n",
      "Okamule is a village in Oshakati-West constituency, in the Oshana region of Namibia.\n",
      "\n",
      "At the outbreak of World War I, Lang returned to Vienna and volunteered for military service in the Austrian army and fought in Russia and Romania, where he was wounded three times.\n",
      "\n",
      "Horncastle was a county constituency in Lincolnshire which returned one Member of Parliament (MP) to the House of Commons of the Parliament of the United Kingdom.\n",
      "\n",
      "Suriname is the smallest sovereign state in terms of area and population in South America.\n",
      "\n",
      "Parts of the special were shot on location in Amsterdam and unlike most other episodes was shot entirely on film and therefore not before a studio audience (making it laugh-track free).\n",
      "\n",
      "Yakhroma River (Яхрома) is a right tributary of the Sestra River that flows for 78 kilometers through a network of peat marshes in the north of Moscow Oblast, Russia.\n",
      "\n",
      "Australian victory for the first time in England was widely condemned in the English press, including the publication of a satirical obituary which stated that English cricket had died, and the body will be cremated and the ashes taken to Australia.\n",
      "\n",
      "The toli shad or Chinese herring (Tenualosa toli) is a fish of the Clupeidae family, a species of shad distributed in the western Indian Ocean and the Bay of Bengal to the Java Sea and the South China Sea.\n",
      "\n",
      "The Stolen Generations’ Testimonie s project, created by Melanie Hogan, and is an initiative to record on film the personal testimonies of Australia’s Stolen Generations Survivors and share them online.\n",
      "\n",
      "A graduate of the Royal Academy in Copenhagen, under J. L. Lund, he traveled Europe where he sought inspiration, especially from the Munich landscape scene.\n",
      "\n",
      "Lipulekh (also known as Tri-Corner) is a Himalayan pass between Nepal, India and China connecting the North Western Cornered Byash Valley of Nepal and Indian State of Uttarakhand with the old trading town of Taklakot (Purang) in Tibet and belongs to Nepal.\n",
      "\n",
      "The war in Mexico brings fresh and desperate workers into America, even from Honduras.\n",
      "\n",
      "Jean-René Jérôme (1942–1991) was a Haitian painter and considered one of Haiti’s greatest artists.\n",
      "\n",
      "Savitt was born in Shumsk, then part of the Russian Empire (now part of Ukraine) and reared in Philadelphia.\n",
      "\n",
      "Alveopora fenestrata is a species of stony coral that is found in the Red Sea, the Gulf of Aden, the southwest and northern Indian Ocean, the central Indo-Pacific, Australia, Southeast Asia and the oceanic west Pacific Ocean.\n",
      "\n",
      "Australia has been designated as one of the countries most vulnerable to climate change, according to the Stern Review and others, due partially to the importance of its agricultural sector and the prominence of its coast.\n",
      "\n",
      "The National Institute of Aerospace Technology is Spain's space agency.\n",
      "\n",
      "For instance in 1953 the LCC's Draft Development Plan for London was subject to an Inquiry and the Bermondsey and Rotherhithe Chamber of Commerce objected to the park extension.\n",
      "\n",
      "Arroyo de Piedra is a pre-Columbian Maya archaeological site in Guatemala located approximately 2-3 km east/northeast of Dos Pilas and 3 km west of Tamarindito.\n",
      "\n",
      "The Mozambique rain frog, also known as the flat-faced frog, is a species of frog in the family Brevicipitidae.\n",
      "\n",
      "He was the eldest son of Konrad III the Red and his third wife Anna, a daughter of Mikolaj Radziwiłł the Old, Voivod of Vilnius and the first Grand Chancellor of Lithuania.\n",
      "\n",
      "The MCA has now established an Automatic Identification System (AIS) network around the UK coast, for real-time tracking and monitoring of shipping movements from the shore.\n",
      "\n",
      "He was owner/principal of a Houston -based architectural practice, Ochsner Associates, from 1984 to 1987.\n",
      "\n",
      "In 1982, he attended the Ivor Spencer School of Butlers and Personal Assistants in Dulwich, a suburb of London.\n",
      "\n",
      "The boom on urban centres such as Rosario or Buenos Aires, doesn't change the fact they were already very popular on the north of Argentina or Cordoba.\n",
      "\n",
      "They range mostly in the United States, but have been seen in Canada.\n",
      "\n",
      "Deposits of vanadinite are now found worldwide including Austria, Spain, Scotland, the Ural Mountains, South Africa, Namibia, Morocco, Argentina, Mexico, and the US states of Arizona, Colorado, New Mexico, and South Dakota.\n",
      "\n",
      "Licensed for generalized tonic-clonic and complex partial seizures in the United Kingdom.\n",
      "\n",
      "It also supports some of the last stands of Haiti's dense cloud forest on its peaks.\n",
      "\n",
      "Mount Kenya is located in central Kenya, just south of the equator, around 150 km (95 miles) north-northeast of Nairobi.\n",
      "\n",
      "He quarreled with his captain off the western coast of Africa and was discharged, cheated of his wages, and abandoned on Princes Island, in the Gulf of Guinea.\n",
      "\n",
      "Its range extends from the Democratic Republic of the Congo and Tanzania in the north to the Republic of South Africa in the south.\n",
      "\n",
      "Charleroi is located about 60 kilometres (37 mi) south of Brussels.\n",
      "\n",
      "As a result, the 2010 Pakistan floods were considered \"good news\" for the ecosystem and population of the river delta as they brought much needed fresh water.\n",
      "\n",
      "Canarium australianum is a species of trees, native to Australia and Papua New Guinea, of the plant family Burseraceae.\n",
      "\n",
      "The third aircraft was registered in Austria rather than the United Kingdom and the British authorities refused to let the airline operate an unmodified aircraft.\n",
      "\n",
      "Originally run out of her New York City apartment, Gwynnie Bee now operates from 5 offices in the USA and India and employs 350 people.\n",
      "\n",
      "The line climbed at 1 in 66 to Hagley Rd, with a break of 1 in 224 through Rotton Park Rd station, and then descended to Harborne at 1 in 66, crossing the Chad Valley on a high bank.\n",
      "\n",
      "In 1977, together with his teacher Yuchoku Higa, he was invited to visit Argentina by the Shorin Ryu Kyudokan Federation (presided over by Jintatsu Higa), of that country for the Argentinian championships of Okinawa Kyudokan karate-do.\n",
      "\n",
      "It served the small town of Anchovy, Jamaica on the Kingston to Montego Bay line and was 105.75 miles (170.19 km) from the Kingston terminus.\n",
      "\n",
      "Jajit Singh Jallah is an international rowing competitor from the state of Punjab, India.\n",
      "\n",
      "William Kyle Carpenter (born October 17, 1989), also known as Kyle Carpenter, is a (medically) retired United States Marine who received the United States' highest military honor, the Medal of Honor for his actions in Marjah, Helmand Province, Afghanistan in 2010.\n",
      "\n",
      "Liguri, or Logorik, is an Eastern Sudanic language of the Daju family spoken by the Logorik people in the Liguri Hills of the Nuba Mountains, northeast of Kaduqli in South Kurdufan province in southern Sudan.\n",
      "\n",
      "Techvaganza is a Techno-management festival and is one of the largest festivals in India.\n",
      "\n",
      "It also operated services across the English border to Carlisle, and from 5 March 1988, took over operation of the Caledonian Sleeper services to London Euston.\n",
      "\n",
      "In his final year, he took leave from medical school to focus on his religious studies, traveling to Syria and then Pakistan, where he studied a traditional curriculum for a number of years under some of their greatest scholars.\n",
      "\n",
      "It connects the towns of Smith and Wellington to the California state line north of Bridgeport, California.\n",
      "\n",
      "His artwork has been exhibited in countries such as Canada, Brazil, Senegal, USA, Martinique, Latin America, Dominican Republic, Europe and Haiti.\n",
      "\n",
      "Apart from being considered one of Sweden's finest actors, he is also a devoted father of three children.\n",
      "\n",
      "Brunel remained in the United States for six years, sailing for England in February 1799.\n",
      "\n",
      "Abdul Hakim Asher was born on October 12, 1977 in the Bagram district of Parwan province in central Afghanistan north of Kabul.\n",
      "\n",
      "The hospital is responsible for providing health care to 170,000 people residing in the northern part of Oslo as well as the municipalities of Ski, Oppegård, Nesodden, Frogn, Ås and Vestby.\n",
      "\n",
      "The 1971 Cupa României Final was the 33rd final of Romania's most prestigious football cup competition.\n",
      "\n",
      "He returned to Australia to complete officer training and attained the rank of Pilot Officer.\n",
      "\n",
      "He pioneered the concept of the nation as a brand and has worked on branding projects for a number of cities and countries, including London, Mauritius, Northern Ireland, Poland, Portugal, and Lithuania.\n",
      "\n",
      "It lies just east of the main motorway from Ljubljana to Maribor.\n",
      "\n",
      "At the time of its completion in 2006, it was the 11th-tallest skyscraper in Turkey and the tallest in Konya and the Central Anatolia Region.\n",
      "\n",
      "It is located near the north-western shore of the Gulf of Panama.\n",
      "\n",
      "Hokagon Island is an island located within Coronation Gulf, south of Victoria Island, in the Kitikmeot Region, Nunavut, Canada.\n",
      "\n",
      "He wandered in Europe, then came to South America where he travelled in Venezuela, Colombia, Ecuador, Peru and finally Brazil.\n",
      "\n",
      "It was founded in 1942, as the National Institute of Aeronautics, and has its headquarters in Torrejón de Ardoz, near Madrid.\n",
      "\n",
      "During Napoleon's invasion of Russia in 1812, Yashvil managed to obtain permission from General Dmitry Shepelev to join the Kaluga militia and helped recover Yelnya.\n",
      "\n",
      "Trevor Immelman of South Africa won the 2008 Masters Tournament at the Augusta National Golf Club.\n",
      "\n",
      "She was the ancestor of many political people including Lyndon Baines Johnson, 36th president of the United States; Winston Leonard Spencer-Churchill, 63rd Prime Minister of the United Kingdom; Prince Albert II of Monaco; Princess Diana and Prince Charles.\n",
      "\n",
      "Bessenbach is a river of Bavaria, Germany.\n",
      "\n",
      "The name was taken from the location of the crimes, which were committed around the M25, London's orbital motorway, during the early hours of 16 December 1988.\n",
      "\n",
      "The Forbes-Robinson's main family home was located at 22 Bedford Square in the heart of London's Bloomsbury district.\n",
      "\n",
      "Her baptism was conducted with special solemnity, being organizated by her uncles Maximilian III, Archduke of Austria and Prince Ferdinand of Bavaria.\n",
      "\n",
      "Wahleach Lake, commonly known as Jones Lake, is a lake and reservoir located in the Skagit Range in the Lower Mainland of British Columbia, Canada, east of the city of Chilliwack and southwest of the town of Hope.\n",
      "\n",
      "Attaching himself afterwards to François de Tournon, he accompanied him in 1554 to Italy, whence he was several times sent on embassies to the king, with reports on the siege of Siena.\n",
      "\n",
      "In 1937, the first of the Somoza presidents of Nicaragua took power.\n",
      "\n",
      "The airport was originally built by engineers from the United States in the late 1950s.\n",
      "\n",
      "Jane Mackenzie (née Sym; March 22, 1825 – March 30, 1893) was the second wife of Alexander Mackenzie, the second Prime Minister of Canada.\n",
      "\n",
      "Williams Régala is a former member of Haiti's National Council of Government.\n",
      "\n",
      "It was heavily damaged in the 2004 tsunami which impacted on over 100,000 of the Maldives 300,000 population.\n",
      "\n",
      "Library technician at the State Library of News South Wales in Sydney Australia.\n",
      "\n",
      "In the United Kingdom, United States, India, and Brazil diclofenac may be supplied as either the sodium or potassium salt; in China, it is most often supplied as the sodium salt, while in some other countries it is only available as the potassium salt.\n",
      "\n",
      "Peter Plympton Smith (born October 31, 1945) is a former member of the United States House of Representatives from the U.S. state of Vermont, the 75th Lieutenant Governor of Vermont, and an education administrator.\n",
      "\n",
      "The Bv 202 was designed to transport troops and equipment through snow or boglands in the northern parts of Sweden.\n",
      "\n",
      "Saint Andrew (\"St. Andrew\") is one of eleven parishes of Barbados.\n",
      "\n",
      "He distinguished himself in the storming of Belgrade in 1789.\n",
      "\n",
      "It is found in most of central, and eastern South America proper, in Argentina, Bolivia, Brazil, Colombia, Ecuador, French Guiana, Guyana, Suriname-(the Guianas), Paraguay, Peru, and Venezuela.\n",
      "\n",
      "She is also the founder of a medical student curriculum called \"The Healer's Art\" used in medical schools throughout the United States.\n",
      "\n",
      "The park is located adjacent to a Telecommunication Company of Iran Satellite Earth Station, at the foot of the Alborz mountains.\n",
      "\n",
      "It lives throughout the eastern United States and Canada and occasionally down into Mexico, and is one of the more commonly encountered day-flying moths in the region, easily recognized by the two bright yellow bands across the abdomen.\n",
      "\n",
      "She represented the Chinese Taipei national team in two editions of the Olympic Games (2004 and 2008).\n",
      "\n",
      "Clinton is an unincorporated census-designated place (CDP) in Prince George's County, Maryland, United States.\n",
      "\n",
      "In Finland this style of cap was adopted first in 1918, by Civic Guard, and in 1936 by the Army.\n",
      "\n",
      "R&B Songs is a chart released weekly by Billboard in the United States.\n",
      "\n",
      "Following a series of such attacks extending to the coast of India, a British expeditionary force was sent to Ras Al Khaimah and sacked the town, setting it to fire and also burning the vessels, 'upwards of fifty', in the port.\n",
      "\n",
      "Czaszyn is currently situated in the Subcarpathian Voivodship (since 1999), previously in Krosno Voivodship (1975–1998) and Sanok district, (10 miles east of Sanok), located near the towns of Medzilaborce and Palota (in northeastern Slovakia).\n",
      "\n",
      "The Bearcamp River is a 26.3-mile-long (42.3 km) river at the southern edge of the White Mountains in New Hampshire, the United States.\n",
      "\n",
      "Hile is a village development committee in Baglung District in the Dhaulagiri Zone of central Nepal.\n",
      "\n",
      "Before he was an astronaut, Casper was a United States Air Force fighter pilot, earning his pilot wings at Reese Air Force Base, Texas.\n",
      "\n",
      "After visiting South America, Africa, and India, Rhodes ended up in Australia, where he formed a partnership with a local company to acquire land in New Zealand.\n",
      "\n",
      "Hancock built gardens in the UK in the 1920s, 30s and 40s and in the United States in the 1930s.\n",
      "\n",
      "In 1956 he was in the master class of Hans Leygraf, followed by concerts in Germany and tours of Western Europe, the U.S., Israel and Japan.\n",
      "\n",
      "Kunturiri is located in the La Paz Department, Los Andes Province, Pukarani Municipality, southeast of Chachakumani and northwest of Huayna Potosí.\n",
      "\n",
      "Kraemer, a Lutheran with a dislike for Nazis, escaped Nazi Germany for America in 1939, leaving behind his wife and son.\n",
      "\n",
      "A wide release on the Plug Research label followed in the spring of 2006 and was supported with a European tour and a few shows around the United States.\n",
      "\n",
      "Ripley is a town on Lake Erie in the westernmost part of Chautauqua County, New York, United States.\n",
      "\n",
      "After O'Neill's release, he conspired with the king to bring the English army to London against the radical Parliamentarians in what became known as the Second Army Plot, but the discovery of plot forced him to flee to the continent in mid-June 1641.\n",
      "\n",
      "Optima is a Miami -based real estate investment firm led by Chaim Schochet and 2/3rd owned by the Privat Group, one of Ukraine's largest business and banking groups.\n",
      "\n",
      "He had to leave Norway in 1941 due to the German occupation of Norway, and travelled via Sweden to the United Kingdom, where he found work in the Ministry of Provisioning-in-exile.\n",
      "\n",
      "In a 2016 ranking of Chinese high schools that send students to study in American universities, Shenzhen Foreign Language School ranked number 19 in mainland China in terms of the number of students entering top American universities.\n",
      "\n",
      "Ashrafiyat Sahnaya is a city in southern Syria, administratively part of the Rif Dimashq Governorate, located southwest of Damascus.\n",
      "\n",
      "By 2007 its New Zealand factory was weaving 950,000 square metres of various kinds of turf a year.\n",
      "\n"
     ]
    }
   ],
   "source": [
    "for d in result:\n",
    "    print(docs[d])"
   ]
  },
  {
   "cell_type": "code",
   "execution_count": null,
   "metadata": {},
   "outputs": [],
   "source": []
  }
 ],
 "metadata": {
  "kernelspec": {
   "display_name": "Python 3",
   "language": "python",
   "name": "python3"
  },
  "language_info": {
   "codemirror_mode": {
    "name": "ipython",
    "version": 3
   },
   "file_extension": ".py",
   "mimetype": "text/x-python",
   "name": "python",
   "nbconvert_exporter": "python",
   "pygments_lexer": "ipython3",
   "version": "3.7.6"
  }
 },
 "nbformat": 4,
 "nbformat_minor": 2
}
