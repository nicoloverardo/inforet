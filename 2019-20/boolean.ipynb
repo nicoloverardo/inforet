{
 "cells": [
  {
   "cell_type": "markdown",
   "metadata": {},
   "source": [
    "# Boolean retrieval\n",
    "\n",
    "Example of boolean retrieval on the <code>country_dataset</code>. The dataset is composed by a set of queries of the form:\n",
    "<pre>\n",
    "<code>\n",
    "  c: [d_0, d_1, ..., d_n]  \n",
    "</code>\n",
    "</pre>\n",
    "where <code>c</code> is the name of a country and <code>[d_0, d_1, ..., d_n]</code> is the list of the document ids that are relevant to <code>c</code>. Document texts are given in the <code>docs</code> list. Document ids correspond to the position of documents in the <code>docs</code> list."
   ]
  },
  {
   "cell_type": "code",
   "execution_count": 1,
   "metadata": {},
   "outputs": [],
   "source": [
    "import json"
   ]
  },
  {
   "cell_type": "code",
   "execution_count": 2,
   "metadata": {},
   "outputs": [],
   "source": [
    "dataset_file = '../data/country_dataset.json'\n",
    "with open(dataset_file, 'r') as infile:\n",
    "    dataset = json.load(infile)"
   ]
  },
  {
   "cell_type": "code",
   "execution_count": 3,
   "metadata": {},
   "outputs": [],
   "source": [
    "docs = dataset['docs']\n",
    "queries = dataset['queries']"
   ]
  },
  {
   "cell_type": "code",
   "execution_count": 4,
   "metadata": {},
   "outputs": [
    {
     "name": "stdout",
     "output_type": "stream",
     "text": [
      "The group was presented to the Prince of Wales, later King Charles I, in 1623 while he was in Spain negotiating a marriage contract, and it soon became the most famous Italian sculpture in England.\n",
      "\n",
      "Once the abbot went to Italy, the four brothers decided to celebrate, yet they needed some money.\n",
      "\n"
     ]
    }
   ],
   "source": [
    "print(docs[10])\n",
    "print(docs[16])"
   ]
  },
  {
   "cell_type": "markdown",
   "metadata": {},
   "source": [
    "## Get a tokenizer"
   ]
  },
  {
   "cell_type": "code",
   "execution_count": 5,
   "metadata": {},
   "outputs": [],
   "source": [
    "from nltk.tokenize import TweetTokenizer"
   ]
  },
  {
   "cell_type": "code",
   "execution_count": 6,
   "metadata": {},
   "outputs": [],
   "source": [
    "tk = TweetTokenizer()"
   ]
  },
  {
   "cell_type": "markdown",
   "metadata": {},
   "source": [
    "## Boolean indexing"
   ]
  },
  {
   "cell_type": "code",
   "execution_count": 7,
   "metadata": {},
   "outputs": [],
   "source": [
    "from collections import defaultdict"
   ]
  },
  {
   "cell_type": "code",
   "execution_count": 8,
   "metadata": {},
   "outputs": [],
   "source": [
    "I = defaultdict(lambda: set())"
   ]
  },
  {
   "cell_type": "code",
   "execution_count": 9,
   "metadata": {},
   "outputs": [],
   "source": [
    "for i, doc in enumerate(docs):\n",
    "    for token in tk.tokenize(doc):\n",
    "        I[token.lower()].add(i)"
   ]
  },
  {
   "cell_type": "markdown",
   "metadata": {},
   "source": [
    "## Query processing\n",
    "Using set union, we implement <code>OR</code> boolean queries."
   ]
  },
  {
   "cell_type": "code",
   "execution_count": 10,
   "metadata": {},
   "outputs": [],
   "source": [
    "q = list(queries.keys())[8]"
   ]
  },
  {
   "cell_type": "code",
   "execution_count": 11,
   "metadata": {},
   "outputs": [
    {
     "data": {
      "text/plain": [
       "'China'"
      ]
     },
     "execution_count": 11,
     "metadata": {},
     "output_type": "execute_result"
    }
   ],
   "source": [
    "q"
   ]
  },
  {
   "cell_type": "code",
   "execution_count": 12,
   "metadata": {},
   "outputs": [],
   "source": [
    "def or_query(q, index):\n",
    "    qs = [t.lower() for t in tk.tokenize(q)]\n",
    "    answers = set()\n",
    "    for s in qs:\n",
    "        answers = answers.union(index[s])\n",
    "    return answers"
   ]
  },
  {
   "cell_type": "code",
   "execution_count": 13,
   "metadata": {},
   "outputs": [],
   "source": [
    "results = or_query(q, I)"
   ]
  },
  {
   "cell_type": "code",
   "execution_count": 14,
   "metadata": {},
   "outputs": [
    {
     "name": "stdout",
     "output_type": "stream",
     "text": [
      "The women's snowboard halfpipe competition at the 2007 Asian Winter Games in Changchun, China was held on 29 January at the Beida Lake Skiing Resort.\n",
      "\n",
      "A cupboard in France is probably different from a cupboard in Germany, or in China, or in England etc.\n",
      "\n",
      "Wuzhou or Wu Prefecture was a zhou (prefecture) in imperial China.\n",
      "\n",
      "The toli shad or Chinese herring (Tenualosa toli) is a fish of the Clupeidae family, a species of shad distributed in the western Indian Ocean and the Bay of Bengal to the Java Sea and the South China Sea.\n",
      "\n",
      "Heisch was born June 10, 1872 in Latendorf, Germany, and after entering the marine corps he was sent as a private to China to fight in the Boxer Rebellion.\n",
      "\n",
      "Lipulekh (also known as Tri-Corner) is a Himalayan pass between Nepal, India and China connecting the North Western Cornered Byash Valley of Nepal and Indian State of Uttarakhand with the old trading town of Taklakot (Purang) in Tibet and belongs to Nepal.\n",
      "\n",
      "In the United Kingdom, United States, India, and Brazil diclofenac may be supplied as either the sodium or potassium salt; in China, it is most often supplied as the sodium salt, while in some other countries it is only available as the potassium salt.\n",
      "\n",
      "This marine species occurs in the Mascarene Basin and off Madagascar; off Sri Lanka, the Philippines, in the South China Sea, off Australia and the Fiji Islands.\n",
      "\n",
      "Holy Saviour's Cathedral is a former Anglican cathedral in Xicheng District of Beijing, China.\n",
      "\n",
      "In a 2016 ranking of Chinese high schools that send students to study in American universities, Shenzhen Foreign Language School ranked number 19 in mainland China in terms of the number of students entering top American universities.\n",
      "\n",
      "The ship was to be built in China and set sail in late 2016, later postponed to 2018.\n",
      "\n"
     ]
    }
   ],
   "source": [
    "for docid in results:\n",
    "    print(docs[docid])"
   ]
  },
  {
   "cell_type": "markdown",
   "metadata": {},
   "source": [
    "### Exercize: implement <code>AND</code> boolean queries"
   ]
  },
  {
   "cell_type": "code",
   "execution_count": 15,
   "metadata": {},
   "outputs": [],
   "source": [
    "def and_query(q, index):\n",
    "    qs = [t.lower() for t in tk.tokenize(q)]\n",
    "    answers = index[qs[0]]\n",
    "    for s in qs[1:]:\n",
    "        answers = answers.intersection(index[s])\n",
    "    return answers, qs"
   ]
  },
  {
   "cell_type": "code",
   "execution_count": 16,
   "metadata": {},
   "outputs": [
    {
     "data": {
      "text/plain": [
       "({362, 461}, ['china', 'india'])"
      ]
     },
     "execution_count": 16,
     "metadata": {},
     "output_type": "execute_result"
    }
   ],
   "source": [
    "and_query(\"China India\", I)"
   ]
  },
  {
   "cell_type": "markdown",
   "metadata": {},
   "source": [
    "## Precision and recall"
   ]
  },
  {
   "cell_type": "code",
   "execution_count": 17,
   "metadata": {},
   "outputs": [],
   "source": [
    "import numpy as np\n",
    "import pandas as pd"
   ]
  },
  {
   "cell_type": "code",
   "execution_count": 18,
   "metadata": {},
   "outputs": [],
   "source": [
    "ground_truth = queries['United States of America']"
   ]
  },
  {
   "cell_type": "code",
   "execution_count": 19,
   "metadata": {},
   "outputs": [],
   "source": [
    "result = or_query('United States of America', I)"
   ]
  },
  {
   "cell_type": "code",
   "execution_count": 20,
   "metadata": {},
   "outputs": [],
   "source": [
    "TP = set(ground_truth).intersection(result)"
   ]
  },
  {
   "cell_type": "code",
   "execution_count": 21,
   "metadata": {},
   "outputs": [],
   "source": [
    "FP = [x for x in result if x not in ground_truth]\n",
    "FN = [x for x in ground_truth if x not in result]"
   ]
  },
  {
   "cell_type": "code",
   "execution_count": 22,
   "metadata": {},
   "outputs": [],
   "source": [
    "precision = len(TP) / (len(TP) + len(FP))\n",
    "recall = len(TP) / (len(TP) + len(FN))"
   ]
  },
  {
   "cell_type": "code",
   "execution_count": 23,
   "metadata": {},
   "outputs": [
    {
     "name": "stdout",
     "output_type": "stream",
     "text": [
      "0.16358024691358025 0.7910447761194029 0.2710997442455243\n"
     ]
    }
   ],
   "source": [
    "print(precision, recall, (2*precision*recall)/(precision + recall))"
   ]
  },
  {
   "cell_type": "code",
   "execution_count": 24,
   "metadata": {},
   "outputs": [],
   "source": [
    "outcome = defaultdict(lambda: {'precision': 0, 'recall': 0})\n",
    "for query, expected in queries.items():\n",
    "    retrieved = or_query(query, I)\n",
    "    try:\n",
    "        p = len(set(expected).intersection(retrieved)) / len(retrieved)\n",
    "    except ZeroDivisionError:\n",
    "        p = np.nan\n",
    "    r = len(set(expected).intersection(retrieved)) / len(expected)\n",
    "    outcome[query]['precision'] = p\n",
    "    outcome[query]['recall'] = r"
   ]
  },
  {
   "cell_type": "code",
   "execution_count": 25,
   "metadata": {},
   "outputs": [],
   "source": [
    "O = pd.DataFrame(outcome).T"
   ]
  },
  {
   "cell_type": "code",
   "execution_count": 26,
   "metadata": {},
   "outputs": [
    {
     "data": {
      "text/html": [
       "<div>\n",
       "<style scoped>\n",
       "    .dataframe tbody tr th:only-of-type {\n",
       "        vertical-align: middle;\n",
       "    }\n",
       "\n",
       "    .dataframe tbody tr th {\n",
       "        vertical-align: top;\n",
       "    }\n",
       "\n",
       "    .dataframe thead th {\n",
       "        text-align: right;\n",
       "    }\n",
       "</style>\n",
       "<table border=\"1\" class=\"dataframe\">\n",
       "  <thead>\n",
       "    <tr style=\"text-align: right;\">\n",
       "      <th></th>\n",
       "      <th>precision</th>\n",
       "      <th>recall</th>\n",
       "    </tr>\n",
       "  </thead>\n",
       "  <tbody>\n",
       "    <tr>\n",
       "      <th>India</th>\n",
       "      <td>1.0</td>\n",
       "      <td>0.869565</td>\n",
       "    </tr>\n",
       "    <tr>\n",
       "      <th>Slovenia</th>\n",
       "      <td>1.0</td>\n",
       "      <td>0.750000</td>\n",
       "    </tr>\n",
       "    <tr>\n",
       "      <th>Canada</th>\n",
       "      <td>1.0</td>\n",
       "      <td>0.615385</td>\n",
       "    </tr>\n",
       "    <tr>\n",
       "      <th>Tanzania</th>\n",
       "      <td>1.0</td>\n",
       "      <td>1.000000</td>\n",
       "    </tr>\n",
       "    <tr>\n",
       "      <th>Indonesia</th>\n",
       "      <td>1.0</td>\n",
       "      <td>0.750000</td>\n",
       "    </tr>\n",
       "  </tbody>\n",
       "</table>\n",
       "</div>"
      ],
      "text/plain": [
       "           precision    recall\n",
       "India            1.0  0.869565\n",
       "Slovenia         1.0  0.750000\n",
       "Canada           1.0  0.615385\n",
       "Tanzania         1.0  1.000000\n",
       "Indonesia        1.0  0.750000"
      ]
     },
     "execution_count": 26,
     "metadata": {},
     "output_type": "execute_result"
    }
   ],
   "source": [
    "O.head()"
   ]
  },
  {
   "cell_type": "code",
   "execution_count": 27,
   "metadata": {},
   "outputs": [
    {
     "data": {
      "text/plain": [
       "precision    0.814421\n",
       "recall       0.720115\n",
       "dtype: float64"
      ]
     },
     "execution_count": 27,
     "metadata": {},
     "output_type": "execute_result"
    }
   ],
   "source": [
    "O.mean()"
   ]
  },
  {
   "cell_type": "code",
   "execution_count": 28,
   "metadata": {},
   "outputs": [],
   "source": [
    "from sklearn.metrics import classification_report\n",
    "from sklearn.metrics import confusion_matrix"
   ]
  },
  {
   "cell_type": "code",
   "execution_count": 29,
   "metadata": {},
   "outputs": [],
   "source": [
    "q = 'United States of America'\n",
    "ground_truth = queries[q]\n",
    "result = or_query(q, I)"
   ]
  },
  {
   "cell_type": "code",
   "execution_count": 30,
   "metadata": {},
   "outputs": [],
   "source": [
    "all_docs = result.union(set(ground_truth))"
   ]
  },
  {
   "cell_type": "code",
   "execution_count": 31,
   "metadata": {},
   "outputs": [],
   "source": [
    "y_true = np.zeros(len(all_docs))\n",
    "y_pred = np.zeros(len(all_docs))"
   ]
  },
  {
   "cell_type": "code",
   "execution_count": 32,
   "metadata": {},
   "outputs": [],
   "source": [
    "for i, d in enumerate(all_docs):\n",
    "    if d in ground_truth:\n",
    "        y_true[i] = 1\n",
    "    if d in result:\n",
    "        y_pred[i] = 1"
   ]
  },
  {
   "cell_type": "code",
   "execution_count": 33,
   "metadata": {},
   "outputs": [
    {
     "data": {
      "text/plain": [
       "array([0., 0., 0., 1., 1., 0., 0., 0., 0., 0.])"
      ]
     },
     "execution_count": 33,
     "metadata": {},
     "output_type": "execute_result"
    }
   ],
   "source": [
    "y_true[:10]"
   ]
  },
  {
   "cell_type": "code",
   "execution_count": 34,
   "metadata": {},
   "outputs": [
    {
     "data": {
      "text/plain": [
       "array([1., 1., 1., 1., 1., 1., 1., 1., 1., 1.])"
      ]
     },
     "execution_count": 34,
     "metadata": {},
     "output_type": "execute_result"
    }
   ],
   "source": [
    "y_pred[:10]"
   ]
  },
  {
   "cell_type": "code",
   "execution_count": 35,
   "metadata": {},
   "outputs": [
    {
     "name": "stdout",
     "output_type": "stream",
     "text": [
      "              precision    recall  f1-score   support\n",
      "\n",
      "         0.0       0.00      0.00      0.00       271\n",
      "         1.0       0.16      0.79      0.27        67\n",
      "\n",
      "    accuracy                           0.16       338\n",
      "   macro avg       0.08      0.40      0.14       338\n",
      "weighted avg       0.03      0.16      0.05       338\n",
      "\n"
     ]
    }
   ],
   "source": [
    "print(classification_report(y_true, y_pred))"
   ]
  },
  {
   "cell_type": "code",
   "execution_count": 36,
   "metadata": {},
   "outputs": [
    {
     "data": {
      "text/plain": [
       "array([[  0, 271],\n",
       "       [ 14,  53]])"
      ]
     },
     "execution_count": 36,
     "metadata": {},
     "output_type": "execute_result"
    }
   ],
   "source": [
    "confusion_matrix(y_true, y_pred)"
   ]
  },
  {
   "cell_type": "code",
   "execution_count": 37,
   "metadata": {},
   "outputs": [],
   "source": [
    "tn, fp, fn, tp = confusion_matrix(y_true, y_pred).ravel()"
   ]
  },
  {
   "cell_type": "code",
   "execution_count": 38,
   "metadata": {},
   "outputs": [
    {
     "name": "stdout",
     "output_type": "stream",
     "text": [
      "0 271 14 53\n"
     ]
    }
   ],
   "source": [
    "print(tn, fp, fn, tp)"
   ]
  },
  {
   "cell_type": "code",
   "execution_count": null,
   "metadata": {},
   "outputs": [],
   "source": [
    "for d in result:\n",
    "    print(docs[d])"
   ]
  }
 ],
 "metadata": {
  "kernelspec": {
   "display_name": "Python 3",
   "language": "python",
   "name": "python3"
  },
  "language_info": {
   "codemirror_mode": {
    "name": "ipython",
    "version": 3
   },
   "file_extension": ".py",
   "mimetype": "text/x-python",
   "name": "python",
   "nbconvert_exporter": "python",
   "pygments_lexer": "ipython3",
   "version": "3.7.7"
  }
 },
 "nbformat": 4,
 "nbformat_minor": 4
}
