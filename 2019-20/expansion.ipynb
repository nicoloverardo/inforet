{
 "cells": [
  {
   "cell_type": "markdown",
   "metadata": {
    "slideshow": {
     "slide_type": "slide"
    }
   },
   "source": [
    "# Query expansion\n",
    "**Task**: Improve search performances by exploiting relevance feedback\n",
    "\n",
    "- Get pseudo-feedback from query results\n",
    "- Calculate average vector for *relevant* and *non relevant* documents in the pseudo-feedback\n",
    "- Use Rocchio for expanding the query\n",
    "- Calculate performances of the expanded query"
   ]
  },
  {
   "cell_type": "code",
   "execution_count": 4,
   "metadata": {
    "slideshow": {
     "slide_type": "skip"
    }
   },
   "outputs": [],
   "source": [
    "import json\n",
    "import pandas as pd\n",
    "import numpy as np\n",
    "from collections import Counter, defaultdict\n",
    "import spacy\n",
    "import nltk\n",
    "from sklearn.feature_extraction.text import CountVectorizer\n",
    "from sklearn.feature_extraction.text import TfidfTransformer"
   ]
  },
  {
   "cell_type": "markdown",
   "metadata": {
    "slideshow": {
     "slide_type": "skip"
    }
   },
   "source": [
    "**Embedding docs and search**"
   ]
  },
  {
   "cell_type": "code",
   "execution_count": 5,
   "metadata": {
    "slideshow": {
     "slide_type": "skip"
    }
   },
   "outputs": [],
   "source": [
    "dataset_file = '../data/wiki_dataset.json'\n",
    "with open(dataset_file, 'r') as infile:\n",
    "    dataset = json.load(infile)\n",
    "docs = dataset['docs']\n",
    "queries = dataset['queries']\n",
    "nlp = spacy.load(\"en_core_web_sm\")\n",
    "tokens = lambda text: [x.lemma_ for x in nlp(text) if x.pos_ not in ['PUNCT', 'SPACE'] and not x.is_stop]"
   ]
  },
  {
   "cell_type": "code",
   "execution_count": 6,
   "metadata": {
    "slideshow": {
     "slide_type": "skip"
    }
   },
   "outputs": [],
   "source": [
    "V = CountVectorizer()\n",
    "tf_idf = TfidfTransformer(use_idf=True)"
   ]
  },
  {
   "cell_type": "code",
   "execution_count": 7,
   "metadata": {
    "slideshow": {
     "slide_type": "skip"
    }
   },
   "outputs": [],
   "source": [
    "pseudo_docs = [\" \".join(tokens(doc)) for doc in docs]"
   ]
  },
  {
   "cell_type": "code",
   "execution_count": 8,
   "metadata": {
    "slideshow": {
     "slide_type": "skip"
    }
   },
   "outputs": [],
   "source": [
    "X = tf_idf.fit_transform(V.fit_transform(pseudo_docs))"
   ]
  },
  {
   "cell_type": "code",
   "execution_count": 9,
   "metadata": {
    "slideshow": {
     "slide_type": "skip"
    }
   },
   "outputs": [
    {
     "data": {
      "text/plain": [
       "(3128, 22031)"
      ]
     },
     "execution_count": 9,
     "metadata": {},
     "output_type": "execute_result"
    }
   ],
   "source": [
    "X.shape"
   ]
  },
  {
   "cell_type": "markdown",
   "metadata": {
    "slideshow": {
     "slide_type": "skip"
    }
   },
   "source": [
    "### Process queries"
   ]
  },
  {
   "cell_type": "code",
   "execution_count": 10,
   "metadata": {
    "slideshow": {
     "slide_type": "skip"
    }
   },
   "outputs": [],
   "source": [
    "query_texts = [(query, \" \".join(tokens(query))) for query in queries.keys()]"
   ]
  },
  {
   "cell_type": "code",
   "execution_count": 11,
   "metadata": {
    "slideshow": {
     "slide_type": "skip"
    }
   },
   "outputs": [],
   "source": [
    "q_matrix = tf_idf.transform(V.transform([y for x, y in query_texts]))"
   ]
  },
  {
   "cell_type": "code",
   "execution_count": 12,
   "metadata": {
    "slideshow": {
     "slide_type": "skip"
    }
   },
   "outputs": [
    {
     "data": {
      "text/plain": [
       "<29x22031 sparse matrix of type '<class 'numpy.float64'>'\n",
       "\twith 62 stored elements in Compressed Sparse Row format>"
      ]
     },
     "execution_count": 12,
     "metadata": {},
     "output_type": "execute_result"
    }
   ],
   "source": [
    "q_matrix"
   ]
  },
  {
   "cell_type": "code",
   "execution_count": 13,
   "metadata": {
    "slideshow": {
     "slide_type": "skip"
    }
   },
   "outputs": [
    {
     "data": {
      "text/plain": [
       "('democratic party (united states)', 'democratic party united state')"
      ]
     },
     "execution_count": 13,
     "metadata": {},
     "output_type": "execute_result"
    }
   ],
   "source": [
    "q_index = 11\n",
    "query_texts[q_index]"
   ]
  },
  {
   "cell_type": "markdown",
   "metadata": {
    "slideshow": {
     "slide_type": "skip"
    }
   },
   "source": [
    "**Matching the original data**"
   ]
  },
  {
   "cell_type": "code",
   "execution_count": 14,
   "metadata": {
    "slideshow": {
     "slide_type": "skip"
    }
   },
   "outputs": [],
   "source": [
    "from sklearn.metrics.pairwise import cosine_similarity"
   ]
  },
  {
   "cell_type": "code",
   "execution_count": 15,
   "metadata": {
    "slideshow": {
     "slide_type": "skip"
    }
   },
   "outputs": [],
   "source": [
    "matching = cosine_similarity(q_matrix, X)"
   ]
  },
  {
   "cell_type": "code",
   "execution_count": 16,
   "metadata": {
    "slideshow": {
     "slide_type": "skip"
    }
   },
   "outputs": [
    {
     "data": {
      "text/plain": [
       "(29, 3128)"
      ]
     },
     "execution_count": 16,
     "metadata": {},
     "output_type": "execute_result"
    }
   ],
   "source": [
    "matching.shape"
   ]
  },
  {
   "cell_type": "markdown",
   "metadata": {
    "slideshow": {
     "slide_type": "slide"
    }
   },
   "source": [
    "## Get pseudo feedback\n",
    "Since we do not have a real user feedback and it is not fair to use the ground truth as a feedback, we create a pseudo feedback by assuming that the **top k** results of our system are indeed **correct** and the **bottom z** results are wrong.\n",
    "\n",
    "Then, giving $C_k$ and $N_z$ a the sets of correct and not correct results, respectively, we calculate the averate vectors $\\vec{c_k}$ and $\\vec{n_z}$ corresponding to the two sets. "
   ]
  },
  {
   "cell_type": "code",
   "execution_count": 31,
   "metadata": {
    "slideshow": {
     "slide_type": "fragment"
    }
   },
   "outputs": [
    {
     "name": "stdout",
     "output_type": "stream",
     "text": [
      "('republican party (united states)', 'republican party united state')\n"
     ]
    }
   ],
   "source": [
    "q_index = 10\n",
    "query_texts[q_index]\n",
    "print(query_texts[q_index])"
   ]
  },
  {
   "cell_type": "code",
   "execution_count": 32,
   "metadata": {
    "slideshow": {
     "slide_type": "fragment"
    }
   },
   "outputs": [],
   "source": [
    "answers = [(x, y) for x, y in sorted(enumerate(matching[q_index]), key=lambda x: -x[1])]\n",
    "expected = set(queries[query_texts[q_index][0]])\n",
    "k, z = 10, 200"
   ]
  },
  {
   "cell_type": "markdown",
   "metadata": {
    "slideshow": {
     "slide_type": "slide"
    }
   },
   "source": [
    "### Evaluate the query"
   ]
  },
  {
   "cell_type": "code",
   "execution_count": 33,
   "metadata": {
    "slideshow": {
     "slide_type": "fragment"
    }
   },
   "outputs": [],
   "source": [
    "from sklearn.metrics import precision_recall_curve, roc_curve, roc_auc_score\n",
    "\n",
    "y_true, y_scores = [], []\n",
    "for answer, score in answers:\n",
    "    y_scores.append(score)\n",
    "    if answer in expected:\n",
    "        y_true.append(1)\n",
    "    else:\n",
    "        y_true.append(0)\n",
    "precision, recall, thresholds = precision_recall_curve(y_true, y_scores)\n",
    "fpr, tpr, thresholds = roc_curve(y_true, y_scores)"
   ]
  },
  {
   "cell_type": "markdown",
   "metadata": {
    "slideshow": {
     "slide_type": "slide"
    }
   },
   "source": [
    "### Calculate pseudo-feedback centroids"
   ]
  },
  {
   "cell_type": "code",
   "execution_count": 34,
   "metadata": {
    "slideshow": {
     "slide_type": "fragment"
    }
   },
   "outputs": [],
   "source": [
    "C_k, N_z = X[[x for x, y in answers[:k]]], X[[x for x, y in answers[-z:]]]"
   ]
  },
  {
   "cell_type": "code",
   "execution_count": 35,
   "metadata": {
    "slideshow": {
     "slide_type": "fragment"
    }
   },
   "outputs": [
    {
     "name": "stdout",
     "output_type": "stream",
     "text": [
      "(10, 22031) (200, 22031)\n"
     ]
    }
   ],
   "source": [
    "print(C_k.shape, N_z.shape)"
   ]
  },
  {
   "cell_type": "code",
   "execution_count": 36,
   "metadata": {
    "slideshow": {
     "slide_type": "fragment"
    }
   },
   "outputs": [],
   "source": [
    "c_k, n_z = np.asarray(C_k.mean(axis=0))[0], np.asarray(N_z.mean(axis=0))[0]"
   ]
  },
  {
   "cell_type": "markdown",
   "metadata": {
    "slideshow": {
     "slide_type": "slide"
    }
   },
   "source": [
    "### Visualize"
   ]
  },
  {
   "cell_type": "code",
   "execution_count": 25,
   "metadata": {
    "slideshow": {
     "slide_type": "skip"
    }
   },
   "outputs": [],
   "source": [
    "from sklearn.decomposition import PCA\n",
    "import matplotlib.pyplot as plt"
   ]
  },
  {
   "cell_type": "code",
   "execution_count": 37,
   "metadata": {
    "hideCode": false,
    "hidePrompt": false,
    "slideshow": {
     "slide_type": "fragment"
    }
   },
   "outputs": [
    {
     "data": {
      "image/png": "[encoded data removed]",
      "text/plain": [
       "<Figure size 1152x288 with 3 Axes>"
      ]
     },
     "metadata": {
      "needs_background": "light"
     },
     "output_type": "display_data"
    }
   ],
   "source": [
    "pca = PCA(n_components=2)\n",
    "centroids = np.array([c_k, n_z, q_matrix[q_index].toarray()[0]])\n",
    "visual = pca.fit_transform(centroids)\n",
    "\n",
    "fig, ax = plt.subplots(figsize=(16, 4), nrows=1, ncols=3)\n",
    "ax[0].scatter(visual[0,0], visual[0,1], label='$c_k$')\n",
    "ax[0].scatter(visual[1,0], visual[1,1], label='$n_z$')\n",
    "ax[0].scatter(visual[2,0], visual[2,1], label='query')\n",
    "ax[1].plot(recall, precision, linewidth=1)\n",
    "ax[1].set_xlabel('Recall')\n",
    "ax[1].set_ylabel('Precision')\n",
    "ax[2].plot(fpr, tpr, linewidth=1)\n",
    "ax[2].set_xlabel('FPR')\n",
    "ax[2].set_ylabel('TPR')\n",
    "ax[0].legend()\n",
    "plt.show()"
   ]
  },
  {
   "cell_type": "markdown",
   "metadata": {
    "slideshow": {
     "slide_type": "slide"
    }
   },
   "source": [
    "## Rocchio\n",
    "The idea of Rocchio algorithm is to push the query towards the (pseudo-) correct results and away from the non correct ones.\n",
    "\n",
    "$$\n",
    "\\vec{q}_{o} = \\alpha \\vec{q} + \\beta \\frac{1}{\\mid C_{r} \\mid}\n",
    "\\sum_{\\vec{d_{j}} \\in C_{r}} \\vec{d_{j}} -\n",
    "\\gamma \\frac{1}{\\mid C_{nr} \\mid}\n",
    "\\sum_{\\vec{d_{j}} \\in C_{nr}} \\vec{d_{j}}\n",
    "$$"
   ]
  },
  {
   "cell_type": "code",
   "execution_count": 38,
   "metadata": {
    "slideshow": {
     "slide_type": "fragment"
    }
   },
   "outputs": [],
   "source": [
    "alpha, beta, gamma = 0.5, 0.75, 0.75\n",
    "q = q_matrix[q_index].toarray()[0]"
   ]
  },
  {
   "cell_type": "code",
   "execution_count": 39,
   "metadata": {
    "slideshow": {
     "slide_type": "fragment"
    }
   },
   "outputs": [],
   "source": [
    "q_e = alpha * q + beta * c_k - gamma * n_z"
   ]
  },
  {
   "cell_type": "markdown",
   "metadata": {
    "slideshow": {
     "slide_type": "slide"
    }
   },
   "source": [
    "### Evaluate the new query"
   ]
  },
  {
   "cell_type": "code",
   "execution_count": 40,
   "metadata": {
    "slideshow": {
     "slide_type": "fragment"
    }
   },
   "outputs": [],
   "source": [
    "q_e_matching = cosine_similarity(q_e.reshape(1, -1), X)\n",
    "q_e_answers = [(x, y) for x, y in sorted(enumerate(q_e_matching[0]), key=lambda x: -x[1])]\n",
    "q_e_y_true, q_e_y_scores = [], []\n",
    "for answer, score in q_e_answers:\n",
    "    q_e_y_scores.append(score)\n",
    "    if answer in expected:\n",
    "        q_e_y_true.append(1)\n",
    "    else:\n",
    "        q_e_y_true.append(0)\n",
    "q_e_precision, q_e_recall, q_e_thresholds = precision_recall_curve(q_e_y_true, q_e_y_scores)\n",
    "q_e_fpr, q_e_tpr, q_e_thresholds = roc_curve(q_e_y_true, q_e_y_scores)"
   ]
  },
  {
   "cell_type": "code",
   "execution_count": 41,
   "metadata": {
    "slideshow": {
     "slide_type": "slide"
    }
   },
   "outputs": [
    {
     "data": {
      "image/png": "[encoded data removed]",
      "text/plain": [
       "<Figure size 1152x288 with 3 Axes>"
      ]
     },
     "metadata": {
      "needs_background": "light"
     },
     "output_type": "display_data"
    }
   ],
   "source": [
    "centroids = np.array([c_k, n_z, q])\n",
    "q_e_visual = pca.transform(q_e.reshape(1, -1))\n",
    "\n",
    "fig, ax = plt.subplots(figsize=(16, 4), nrows=1, ncols=3)\n",
    "ax[0].scatter(visual[0,0], visual[0,1], label='$c_k$')\n",
    "ax[0].scatter(visual[1,0], visual[1,1], label='$n_z$')\n",
    "ax[0].scatter(visual[2,0], visual[2,1], label='q')\n",
    "ax[0].scatter(q_e_visual[0,0], q_e_visual[0,1], label='$q_e$')\n",
    "ax[1].plot(recall, precision, linewidth=1, label='$q$')\n",
    "ax[1].plot(q_e_recall, q_e_precision, linewidth=1, label='$q_e$')\n",
    "ax[1].set_xlabel('Recall')\n",
    "ax[1].set_ylabel('Precision')\n",
    "ax[1].legend()\n",
    "ax[2].plot(fpr, tpr, linewidth=1, label='$q$')\n",
    "ax[2].plot(q_e_fpr, q_e_tpr, linewidth=1, label='$q_e$')\n",
    "ax[2].set_xlabel('FPR')\n",
    "ax[2].set_ylabel('TPR')\n",
    "ax[2].legend()\n",
    "ax[0].legend()\n",
    "plt.show()"
   ]
  },
  {
   "cell_type": "code",
   "execution_count": null,
   "metadata": {
    "slideshow": {
     "slide_type": "skip"
    }
   },
   "outputs": [],
   "source": []
  }
 ],
 "metadata": {
  "kernelspec": {
   "display_name": "Python 3",
   "language": "python",
   "name": "python3"
  },
  "language_info": {
   "codemirror_mode": {
    "name": "ipython",
    "version": 3
   },
   "file_extension": ".py",
   "mimetype": "text/x-python",
   "name": "python",
   "nbconvert_exporter": "python",
   "pygments_lexer": "ipython3",
   "version": "3.7.4"
  },
  "toc": {
   "base_numbering": 1,
   "nav_menu": {},
   "number_sections": true,
   "sideBar": true,
   "skip_h1_title": true,
   "title_cell": "Table of Contents",
   "title_sidebar": "Contents",
   "toc_cell": false,
   "toc_position": {
    "height": "calc(100% - 180px)",
    "left": "10px",
    "top": "150px",
    "width": "189.17120361328125px"
   },
   "toc_section_display": true,
   "toc_window_display": false
  }
 },
 "nbformat": 4,
 "nbformat_minor": 2
}
