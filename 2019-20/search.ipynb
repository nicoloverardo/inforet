{
 "cells": [
  {
   "cell_type": "markdown",
   "metadata": {},
   "source": [
    "## Exploit indexing for search\n",
    "**Task**: given a query, find documents by exploiting the Vector Space Model\n",
    "\n",
    "**Steps**: \n",
    "1. represent documents in the feature space (eventually reducing dimensionality)\n",
    "2. vectorize query\n",
    "3. match query and documents using cosine similarity"
   ]
  },
  {
   "cell_type": "code",
   "execution_count": 1,
   "metadata": {},
   "outputs": [],
   "source": [
    "import json\n",
    "import pandas as pd\n",
    "import numpy as np\n",
    "from collections import Counter, defaultdict\n",
    "import spacy\n",
    "import nltk\n",
    "from sklearn.feature_extraction.text import CountVectorizer\n",
    "from sklearn.feature_extraction.text import TfidfTransformer"
   ]
  },
  {
   "cell_type": "markdown",
   "metadata": {},
   "source": [
    "## Embedding docs in the feature space using TfIdf"
   ]
  },
  {
   "cell_type": "code",
   "execution_count": 2,
   "metadata": {},
   "outputs": [],
   "source": [
    "dataset_file = '../data/wiki_dataset.json'\n",
    "with open(dataset_file, 'r') as infile:\n",
    "    dataset = json.load(infile)\n",
    "docs = dataset['docs']\n",
    "queries = dataset['queries']\n",
    "nlp = spacy.load(\"en_core_web_sm\")\n",
    "tokens = lambda text: [x.lemma_ for x in nlp(text) if x.pos_ not in ['PUNCT', 'SPACE'] and not x.is_stop]"
   ]
  },
  {
   "cell_type": "code",
   "execution_count": 3,
   "metadata": {},
   "outputs": [],
   "source": [
    "V = CountVectorizer()\n",
    "tf_idf = TfidfTransformer(use_idf=True)"
   ]
  },
  {
   "cell_type": "code",
   "execution_count": 4,
   "metadata": {},
   "outputs": [],
   "source": [
    "pseudo_docs = [\" \".join(tokens(doc)) for doc in docs]"
   ]
  },
  {
   "cell_type": "code",
   "execution_count": 5,
   "metadata": {},
   "outputs": [],
   "source": [
    "X = tf_idf.fit_transform(V.fit_transform(pseudo_docs))"
   ]
  },
  {
   "cell_type": "code",
   "execution_count": 6,
   "metadata": {},
   "outputs": [
    {
     "data": {
      "text/plain": [
       "(3128, 22031)"
      ]
     },
     "execution_count": 6,
     "metadata": {},
     "output_type": "execute_result"
    }
   ],
   "source": [
    "X.shape"
   ]
  },
  {
   "cell_type": "markdown",
   "metadata": {},
   "source": [
    "## Reduce dimensionality for visualization (and potentially for more efficient matching)\n",
    "See a PCA introduction [here](http://localhost:8888/notebooks/Teaching/2019-20/inforet/inforet/2018-19/dimensionality.ipynb)"
   ]
  },
  {
   "cell_type": "code",
   "execution_count": 7,
   "metadata": {},
   "outputs": [],
   "source": [
    "from sklearn.decomposition import PCA\n",
    "import matplotlib.pyplot as plt"
   ]
  },
  {
   "cell_type": "code",
   "execution_count": 8,
   "metadata": {},
   "outputs": [],
   "source": [
    "pca = PCA(n_components=2)"
   ]
  },
  {
   "cell_type": "code",
   "execution_count": 9,
   "metadata": {},
   "outputs": [],
   "source": [
    "Z = pca.fit_transform(X.toarray())"
   ]
  },
  {
   "cell_type": "code",
   "execution_count": 10,
   "metadata": {},
   "outputs": [
    {
     "data": {
      "text/plain": [
       "(3128, 2)"
      ]
     },
     "execution_count": 10,
     "metadata": {},
     "output_type": "execute_result"
    }
   ],
   "source": [
    "Z.shape"
   ]
  },
  {
   "cell_type": "markdown",
   "metadata": {},
   "source": [
    "### Example of visualization of vectors"
   ]
  },
  {
   "cell_type": "code",
   "execution_count": 11,
   "metadata": {},
   "outputs": [
    {
     "name": "stdout",
     "output_type": "stream",
     "text": [
      "0 italy 126\n",
      "1 endemism 151\n",
      "2 association football 702\n",
      "3 departments of france 208\n",
      "4 communes of france 182\n",
      "5 germany 104\n",
      "6 netherlands 65\n",
      "7 forward (association football) 69\n",
      "8 canadians 104\n",
      "9 rock music 71\n",
      "10 republican party (united states) 64\n",
      "11 democratic party (united states) 84\n",
      "12 france 98\n",
      "13 defender (association football) 81\n",
      "14 marine (ocean) 85\n",
      "15 australian football league 54\n",
      "16 united kingdom 126\n",
      "17 united states 345\n",
      "18 england 63\n",
      "19 football (soccer) 99\n",
      "20 family (biology) 226\n",
      "21 types of inhabited localities in russia 100\n",
      "22 village#russia 80\n",
      "23 unincorporated area 125\n",
      "24 2010 united states census 80\n",
      "25 conservative party (uk) 58\n",
      "26 canada 57\n",
      "27 new york (state) 79\n",
      "28 first-class cricket 56\n"
     ]
    }
   ],
   "source": [
    "for i, (k, v) in enumerate(queries.items()):\n",
    "    if len(v) > 10:\n",
    "        print(i, k, len(v))"
   ]
  },
  {
   "cell_type": "code",
   "execution_count": 12,
   "metadata": {},
   "outputs": [],
   "source": [
    "q_sample = [(x, y) for x, y in queries.items()][11:15]"
   ]
  },
  {
   "cell_type": "code",
   "execution_count": 13,
   "metadata": {},
   "outputs": [
    {
     "data": {
      "image/png": "[encoded data removed]",
      "text/plain": [
       "<Figure size 432x432 with 1 Axes>"
      ]
     },
     "metadata": {
      "needs_background": "light"
     },
     "output_type": "display_data"
    }
   ],
   "source": [
    "fig, ax = plt.subplots(figsize=(6, 6))\n",
    "for q, dcs in q_sample:\n",
    "    ax.scatter(Z[dcs,0], Z[dcs,1], label=q)\n",
    "plt.legend(bbox_to_anchor=(1.1, 1.05))\n",
    "plt.show()"
   ]
  },
  {
   "cell_type": "markdown",
   "metadata": {},
   "source": [
    "## Vectorize (and visualize) queries"
   ]
  },
  {
   "cell_type": "code",
   "execution_count": 14,
   "metadata": {},
   "outputs": [],
   "source": [
    "query_texts = [(query, \" \".join(tokens(query))) for query in queries.keys()]"
   ]
  },
  {
   "cell_type": "code",
   "execution_count": 15,
   "metadata": {},
   "outputs": [],
   "source": [
    "q_matrix = tf_idf.transform(V.transform([y for x, y in query_texts]))"
   ]
  },
  {
   "cell_type": "code",
   "execution_count": 16,
   "metadata": {},
   "outputs": [
    {
     "data": {
      "text/plain": [
       "<29x22031 sparse matrix of type '<class 'numpy.float64'>'\n",
       "\twith 62 stored elements in Compressed Sparse Row format>"
      ]
     },
     "execution_count": 16,
     "metadata": {},
     "output_type": "execute_result"
    }
   ],
   "source": [
    "q_matrix"
   ]
  },
  {
   "cell_type": "code",
   "execution_count": 17,
   "metadata": {},
   "outputs": [],
   "source": [
    "Q = pca.transform(q_matrix.toarray())"
   ]
  },
  {
   "cell_type": "code",
   "execution_count": 18,
   "metadata": {},
   "outputs": [],
   "source": [
    "q_index = 11\n",
    "query_texts[q_index]\n",
    "q = Q[q_index]"
   ]
  },
  {
   "cell_type": "code",
   "execution_count": 19,
   "metadata": {},
   "outputs": [
    {
     "name": "stdout",
     "output_type": "stream",
     "text": [
      "democratic party (united states)\n"
     ]
    }
   ],
   "source": [
    "print(query_texts[q_index][0])"
   ]
  },
  {
   "cell_type": "code",
   "execution_count": 20,
   "metadata": {},
   "outputs": [
    {
     "data": {
      "image/png": "[encoded data removed]",
      "text/plain": [
       "<Figure size 432x432 with 1 Axes>"
      ]
     },
     "metadata": {
      "needs_background": "light"
     },
     "output_type": "display_data"
    }
   ],
   "source": [
    "fig, ax = plt.subplots(figsize=(6, 6))\n",
    "for qv, dcs in q_sample:\n",
    "    ax.scatter(Z[dcs,0], Z[dcs,1], label=qv, alpha=0.4)\n",
    "ax.scatter(q[0], q[1], label='Query: {}'.format(query_texts[q_index][0]), s=100, marker='x', c='#000000')\n",
    "plt.legend(bbox_to_anchor=(1.1, 1.05))\n",
    "plt.show()"
   ]
  },
  {
   "cell_type": "markdown",
   "metadata": {},
   "source": [
    "## Query answering\n",
    "We are ready to exploit the contiguity among queries and documents to answer queries."
   ]
  },
  {
   "cell_type": "code",
   "execution_count": 21,
   "metadata": {},
   "outputs": [],
   "source": [
    "from sklearn.metrics.pairwise import cosine_similarity"
   ]
  },
  {
   "cell_type": "markdown",
   "metadata": {},
   "source": [
    "## Matching the original data"
   ]
  },
  {
   "cell_type": "code",
   "execution_count": 22,
   "metadata": {},
   "outputs": [],
   "source": [
    "matching = cosine_similarity(q_matrix, X)"
   ]
  },
  {
   "cell_type": "code",
   "execution_count": 23,
   "metadata": {},
   "outputs": [
    {
     "data": {
      "text/plain": [
       "(29, 3128)"
      ]
     },
     "execution_count": 23,
     "metadata": {},
     "output_type": "execute_result"
    }
   ],
   "source": [
    "matching.shape"
   ]
  },
  {
   "cell_type": "code",
   "execution_count": 24,
   "metadata": {},
   "outputs": [
    {
     "data": {
      "text/plain": [
       "array([[0.        , 0.        , 0.        , ..., 0.        , 0.        ,\n",
       "        0.        ],\n",
       "       [0.        , 0.        , 0.        , ..., 0.        , 0.        ,\n",
       "        0.        ],\n",
       "       [0.        , 0.        , 0.        , ..., 0.        , 0.        ,\n",
       "        0.        ],\n",
       "       ...,\n",
       "       [0.        , 0.        , 0.        , ..., 0.        , 0.        ,\n",
       "        0.        ],\n",
       "       [0.        , 0.        , 0.        , ..., 0.10133395, 0.20172754,\n",
       "        0.        ],\n",
       "       [0.        , 0.        , 0.        , ..., 0.        , 0.        ,\n",
       "        0.        ]])"
      ]
     },
     "execution_count": 24,
     "metadata": {},
     "output_type": "execute_result"
    }
   ],
   "source": [
    "matching"
   ]
  },
  {
   "cell_type": "markdown",
   "metadata": {},
   "source": [
    "### Get ranking"
   ]
  },
  {
   "cell_type": "code",
   "execution_count": 45,
   "metadata": {},
   "outputs": [],
   "source": [
    "answers = [(x, y) for x, y in sorted(enumerate(matching[q_index]), key=lambda x: -x[1]) if y > 0.15]"
   ]
  },
  {
   "cell_type": "code",
   "execution_count": 46,
   "metadata": {},
   "outputs": [],
   "source": [
    "expected = set(queries[query_texts[q_index][0]])"
   ]
  },
  {
   "cell_type": "code",
   "execution_count": 47,
   "metadata": {},
   "outputs": [
    {
     "name": "stdout",
     "output_type": "stream",
     "text": [
      "2560 0.4083560221506487 True\n",
      "The 1897 South Carolina United States Senate election was a unanimous election of the Democratic nominee on January 26, 1897 to select the U.S. Senator from the state of South Carolina. The Democratic primary election was held on August 26, 1896 and September 9. Prior to the ratification of the 17th Amendment to the United States Constitution, U.S. Senators were elected by the state legislature and not through the direct election by the people of the state. However, the Democratic Party of South Carolina organized primary elections for the U.S. Senate beginning in 1896 and the General Assembly would confirm the choice of the Democratic voters. Conservative Democratic Joseph H. Earle won the Democratic primary and was elected by the General Assembly for a six-year term. \n",
      "\n",
      "1042 0.3261660827074844 True\n",
      "The 1988 United States elections was held on November 8, and elected the members of the 101st United States Congress. The Republican Party retained the presidency, while the Democratic Party retained control of Congress. In the 1988 presidential election, Republican Vice President George H. W. Bush defeated Democratic Governor Michael Dukakis of Massachusetts. Bush won the popular vote by just under eight points, and won 426 of the 538 electoral votes. Bush won the Republican nomination over Kansas Senator Bob Dole and televangelist Pat Robertson of Virginia. Dukakis won the Democratic nomination over Reverend Jesse Jackson of Illinois, Tennessee Senator Al Gore, and Missouri Congressman Dick Gephardt. Bush's victory remains the only time since Harry S. Truman's victory in the 1948 presidential election in which either party won more than two consecutive presidential elections. Neither the Senate nor the House saw any significant partisan change, and the Democratic Party retained control of both chambers. In the gubernatorial elections, the Democratic Party picked up one governorship. \n",
      "\n",
      "140 0.320430158474426 True\n",
      "Danielle W. Gregoire is an American state legislator serving in the Massachusetts House of Representatives. She is a Marlborough resident and a member of the Democratic Party. \n",
      "\n",
      "1039 0.27148977173854827 True\n",
      "The 1992 Democratic presidential primaries were the selection process by which voters of the Democratic Party chose its nominee for President of the United States in the 1992 U.S. presidential election. Arkansas Governor Bill Clinton was selected as the nominee through a series of primary elections and caucuses culminating in the 1992 Democratic National Convention held from July 13 to July 16, 1992, in New York City. \n",
      "\n",
      "482 0.2695662949734421 True\n",
      "The 1948 United States presidential election in Massachusetts took place on November 2, 1948, as part of the 1948 United States presidential election, which was held throughout all contemporary 48 states. Voters chose sixteen representatives, or electors to the Electoral College, who voted for president and vice president. Massachusetts voted for the Democratic nominee, incumbent President Harry S. Truman of Missouri, over the Republican nominee, former Governor Thomas E. Dewey of New York. Truman ran with Senator Alben W. Barkley of Kentucky, while Dewey running mate was Governor Earl Warren of California. Truman carried the state with 54.66 percent of the vote to Dewey's 43.16 percent, a Democratic victory margin of 11.50 percent. Progressive Party candidate Henry A. Wallace came in a distant third, with 1.81 percent. As Truman narrowly won an upset victory over Dewey nationally, Massachusetts weighed in as seven percent more Democratic than the national average. Once a typical Yankee Republican bastion in the wake of the Civil War, Massachusetts had been a Democratic-leaning state since 1928, when a coalition of Irish Catholic and other ethnic immigrant voters primarily based in urban areas turned Massachusetts and neighboring Rhode Island into New England’s only reliably Democratic states. Massachusetts voted for Al Smith in 1928 and for Franklin D. Roosevelt four times in the 1930s and 1940s. Truman’s victory thus marked the Democratic Party’s sixth straight win in Massachusetts. Despite the national race being much closer, Truman in 1948 outperformed any of Franklin Roosevelt’s four victories in the state of Massachusetts. FDR had never won the state with more than a single-digit margin; Roosevelt’s largest margin of victory was by 9.46% in 1936 and he never took a vote share higher than the 53.11 percent he received in 1940. In 1944, Roosevelt carried the Bay State with 52.80 percent to Dewey’s 46.99 percent, a fairly close margin of only 5.81 percent. Truman’s victory four years later taking 54.66 percent and winning by 11.50 percent thus made 1948 the strongest showing ever by a Democratic presidential candidate in Massachusetts up to that point, a record that would stand until John F. Kennedy ran from Massachusetts in 1960. Truman would carry eight of the state’s fourteen counties, including the most heavily populated parts of the state surrounding the cities of Boston, Worcester, and Springfield. Notably, Truman flipped highly populated Middlesex County, which had not voted Democratic in any of Franklin Roosevelt’s four victories in the state, into the Democratic column. Massachusetts and neighboring Rhode Island were the only states in the Northeast to favor Truman over Dewey in 1948, the same split that had occurred in 1928. Both states had large urban Irish Catholic populations, who remained loyal Democrats in the wake of 1928, even as other groups defected back to the GOP. \n",
      "\n",
      "2437 0.2660423185206877 False\n",
      "Stephen Henry Lewis (born November 11, 1937) is a Canadian politician, public speaker, broadcaster and diplomat. He was the leader of the social democratic Ontario New Democratic Party for most of the 1970s. During many of those years as leader, his father David Lewis was simultaneously the leader of the federal New Democratic Party. After politics, he became a broadcaster on both CBC Radio and Toronto's Citytv. In the mid-1980s, he was appointed as Canada's United Nations ambassador, by Progressive Conservative Prime Minister Brian Mulroney. He quit in 1988 and worked at various United Nations agencies during the 1990s. In the 2000s, he served a term as the United Nations' special envoy for HIV/AIDS in Africa. In 2003, he gained investiture into the Order of Canada. As of 2014, he is a Distinguished Visiting Professor at Ryerson University in Toronto. \n",
      "\n",
      "1347 0.25652836910712695 True\n",
      "The 2016 United States presidential election in Alabama was held on November 8, 2016, as part of the 2016 General Election in which all 50 states plus the District of Columbia participated. Alabama voters chose electors to represent them in the Electoral College via a popular vote pitting the Republican Party's nominee, businessman Donald Trump, and running mate Indiana Governor Mike Pence against Democratic Party nominee, former Secretary of State Hillary Clinton and her running mate, Virginia Senator Tim Kaine. On March 1, 2016, in the presidential primaries, Alabama voters expressed their preferences for the Democratic, Republican, and Libertarian parties' respective nominees for president. Registered members of each party only voted in their party's primary, while voters who were unaffiliated chose any one primary in which to vote. Alabama has voted for the Republican candidate in every election since it was won by Ronald Reagan in 1980. Trump was heavily favored to win the state. Donald Trump won the election in Alabama with 62.1% of the vote. Hillary Clinton received 34.4% of the vote. The state gave 60.55% of its votes to Republican nominee Mitt Romney in 2012, meaning that it shifted about 1.5% more Republican from the previous election. \n",
      "\n",
      "602 0.2451129487468765 True\n",
      "Jim Townsend represented the 26th district in the Michigan House of Representatives from January 2011 until January 2017. He is a member of the Democratic Party. \n",
      "\n",
      "1980 0.24509073523372366 True\n",
      "Thomas A. Torlakson (born July 19, 1949) is an American politician from California. In 2010, he was elected to the position of California State Superintendent of Public Instruction, a position he served in until 2019. He is a member of the Democratic Party. He previously served three terms in the California State Assembly, representing the 11th district, which consists of northern portions of Contra Costa County. He also served two terms in the California State Senate, representing the 7th district. \n",
      "\n",
      "1802 0.23421730552388162 True\n",
      "Richard Wigginton Thompson (June 9, 1809 – February 9, 1900) was an American politician. Thompson was born in Culpeper County, Virginia. He left Virginia in 1831 and lived briefly in Louisville, Kentucky before finally settling in Lawrence County, Indiana. There, he taught school, kept a store, and studied law at night. Admitted to the bar in 1834, he practiced law in Bedford, Indiana, and served four terms in the Indiana General Assembly from 1834 to 1838. He served as President pro tempore of the Indiana Senate for a short time and briefly held the office of acting Lieutenant Governor. In the presidential election of 1840, he zealously advocated the election of William Henry Harrison. Thompson then represented Indiana in the United States Congress, serving in the United States House of Representatives from 1841 to 1843 and again from 1847 to 1849. During the 1850s Thompson and some of his fellow Whigs (such as his friend Schuyler Colfax) transferred allegiance to the American Party, better known as the Know Nothing Party. They did so due to their suspicion of the increased immigration from Ireland and Germany, but also because of the view of the northern portion of the American Party to be opposed to slavery. In time Thompson and his allies would allow an alliance of their portion of the Whig Party (which was collapsing with the American Party to prevent victories in elections by the Democratic Party. In the election of 1860 Thompson was his state's leader of those who organized the Constitutional Union Party. At the May convention, Indiana first supported John McLean, but fell in behind John Bell on the second ballot. Thompson was placed on the National Committee, but gave up the on third party strategy in August and supported Abraham Lincoln so as not to risk a Democratic victory in Indiana. Following the American Civil War, Thompson served as judge of the 18th Circuit Court of the state of Indiana from 1867 to 1869. Active in Republican politics, he was the Platform Committee chairman at the 1868 Republican National Convention in Chicago, he offered Vice President Schuyler Colfax's name for renomination at the 1872 Republican National Convention in Philadelphia, and gave the nominating speech for Oliver H. P. Morton for President at the 1876 Republican National Convention in Cincinnati. In 1877, President Rutherford B. Hayes appointed him Secretary of the Navy; and he held that office until December 1880. \n",
      "\n",
      "1658 0.22908360987779963 True\n",
      "The 1904 United States presidential election in Ohio was held on November 8, 1904 as part of the 1904 United States presidential election. State voters chose twenty-three electors to the Electoral College, who voted for president and vice president. Ohio was decisively won the Republican Party candidate, incumbent President Theodore Roosevelt, with 59.75% of the popular vote. The Democratic Party candidate, Alton B. Parker, garnered a meager 34.32% of the popular vote. \n",
      "\n",
      "2499 0.22735953677245976 False\n",
      "James Herman Mayne (1950 or 1951 – July 16, 2015) was a Canadian politician, who was leader of the Prince Edward Island New Democratic Party from 1983 to 1989. Mayne, a former president of the National Farmers Union, led the party in the 1986 and 1989 provincial elections. He also stood as the party's candidate in two by-elections during his term, in 4th Prince on December 2, 1985 and 5th Prince on September 14, 1987; in the 1985 by-election he became the first candidate in the party's history to earn enough of the popular vote to be reimbursed his electoral deposit. He died on July 16, 2015 at the age of 64. \n",
      "\n",
      "1974 0.22592121572780163 False\n",
      "A dry state is a state in the United States in which the manufacture, distribution, importation, and sale of alcoholic beverages are prohibited or tightly restricted. While some states, such as North Dakota, entered the United States as dry states, others went dry after passage of prohibition legislation. Currently, no state in the United States remains completely dry, but some states contain dry counties. Prior to the adoption of nationwide prohibition in 1920, state legislatures in the United States passed local option laws that allowed a county or township to go dry if it chose to do so. The Maine law, passed in 1851 in Maine, was among the first statutory implementations of the developing temperance movement in the United States. Following Maine's lead, prohibition laws were soon passed in the states of Delaware, Ohio, Illinois, Rhode Island, Minnesota, Massachusetts, Connecticut, Pennsylvania, and New York; however, all but one were repealed. The debate over prohibition increased in the United States during the late nineteenth and early twentieth century as the drys, including the Woman's Christian Temperance Union (WCTU), the National Prohibition Party, the Anti-Saloon League, and others, continued to support temperance and prohibition legislation, while the wets opposed it. By 1913 nine states had statewide prohibition and 31 others had local option laws, placing more than 50 percent of the United States population under some form of alcohol prohibition. Following two unsuccessful attempts at national prohibition legislation (one in 1913 and the other in 1915), Congress approved a resolution on December 19, 1917, to prohibit the manufacture, sale, transportation, and importation of alcoholic beverages in the United States. The resolution was sent to the states for ratification and became the Eighteenth Amendment to the U.S. Constitution. On January 8, 1918, Mississippi became the first state to ratify the amendment and on January 16, 1919, Nebraska became the 36th state to do so, securing its passage with the required three-fourths of the states. By the end of February 1919, only three states remained as hold-outs to ratification: New Jersey, Connecticut, and Rhode Island. The National Prohibition Act, also known as the Volstead Act, was enacted on October 18, 1919. Prohibition in the United States went into effect on January 17, 1920. Nationwide prohibition was repealed in 1933 with the passage of the Twenty-first Amendment on February 20 and its ratification on December 5. \n",
      "\n",
      "2091 0.21533048800332147 False\n",
      "John A. C. Menton (September 4, 1866 – December 24, 1947) was an American politician, the only Socialist mayor of Flint, Michigan (1911–1912). Menton was not only a member of the Socialist Party of America, he was also secretary-treasurer of the Central Labor Council and president of the local cigarmakers union, one of the largest in the city. In 1906 and 1910 he ran unsuccessfully as a Socialist candidate for U.S. Representative from Michigan, 6th District. Due to a coalition of the Democratic Party, Republican Party, General Motors Corporation and Charles S. Mott in the so-called Independent Citizen's Party, Menton was decisively defeated in the 1912 election, never to serve again. \n",
      "\n",
      "396 0.21269265797520429 True\n",
      "Joseph Frank Harris (born February 16, 1936) is an American Democratic politician who served as the 78th Governor of the U.S. state of Georgia from 1983 to 1991. \n",
      "\n",
      "2340 0.20867318465183787 True\n",
      "Marsha Arzberger is a Democratic politician. She served as Arizona State Senator for District 25 from 2003-2008, and before that for District 8 from 2000-2001. \n",
      "\n",
      "2064 0.20815113114953498 False\n",
      "The Ontario Party is a minor social conservative and right-wing populist political party in the Canadian province of Ontario founded in 2018. \n",
      "\n",
      "2556 0.2007814050172318 True\n",
      "Alan Harvey Bible (November 20, 1909 – September 12, 1988) was an American lawyer and politician. A member of the Democratic Party, he served as a United States Senator from Nevada from 1954 to 1974. He previously served as Attorney General of Nevada from 1942 to 1950. \n",
      "\n",
      "3044 0.19844023870884608 False\n",
      "Mike Huckabee is the former Governor of Arkansas (1996–2007) and was an unsuccessful candidate for the Republican Party nomination for President of the United States in the 2008 presidential election. He was running for the Republican Party nomination for President of the United States in the 2016 presidential election but suspended his campaign on February 1, 2016 \n",
      "\n",
      "1065 0.19556073005976365 True\n",
      "Sharon Denise Dixon (born December 11, 1962) is an American politician who represented the 24th Ward on the Chicago City Council from 2007 to 2011. In 2010 Dixon was a candidate in the Democratic Party primary for the United States House of Representatives in Illinois's 7th congressional district. \n",
      "\n",
      "206 0.19324131042337134 True\n",
      "The 2008 United States presidential election in Indiana took place on November 4, 2008, and was part of the 2008 United States presidential election. Voters chose 11 representatives, or electors to the Electoral College, who voted for president and vice president. Indiana was won by Democratic nominee Barack Obama by a 1.03% margin of victory. Prior to the election, news organizations were split as some considered it as leaning McCain, or a red state, and the others simply considered the election as a toss-up, or swing state. On election day, Obama narrowly carried Indiana, which marked the first time a Democratic presidential nominee won Indiana since Lyndon B. Johnson in 1964. , this is the last time that the Democratic nominee carried Indiana, as well as Spencer County, Starke County, Vanderburgh County, Madison County, Vermillion County, and Tippecanoe County. \n",
      "\n",
      "793 0.19235862791051578 False\n",
      "The United States House of Representatives is the lower house of the United States Congress, the Senate being the upper house. Together they compose the national legislature of the United States. The composition of the House is established by Article One of the United States Constitution. The House is composed of representatives who sit in congressional districts that are allocated to each of the 50 states on a basis of population as measured by the U.S. Census, with each district entitled to one representative. Since its inception in 1789, all representatives have been directly elected. The total number of voting representatives is fixed by law at 435. As of the 2010 Census, the largest delegation is that of California, with fifty-three representatives. Seven states have only one representative: Alaska, Delaware, Montana, North Dakota, South Dakota, Vermont, and Wyoming. The House is charged with the passage of federal legislation, known as bills, which, after concurrence by the Senate, are sent to the president for consideration. In addition to this basic power, the House has certain exclusive powers, among them the power to initiate all bills related to revenue; the impeachment of federal officers, who are sent to trial before the Senate; and, in cases wherein no candidate receives a majority of electors for president, the duty falls upon the House to elect one of the top three recipients of electors for that office, with one vote given to each state for that purpose. The House meets in the south wing of the United States Capitol. The presiding officer is the speaker of the House, who is elected by the members thereof (and is therefore traditionally the leader of the controlling party). The speaker and other floor leaders are chosen by the Democratic Caucus or the Republican Conference, depending on whichever party has more voting members. \n",
      "\n",
      "842 0.18895182441698907 False\n",
      "Greenway is an unincorporated community in Nelson County in the U.S. state of Virginia located west of the state capital, Richmond. \n",
      "\n",
      "2438 0.18732954802232182 True\n",
      "Larry Jent (born December 20, 1951) is a Democratic Party member of the Montana Senate, representing District 32 since 2007. He was previously a member of the Montana House of Representatives from 2000 through 2006. \n",
      "\n",
      "2524 0.1847878069658289 False\n",
      "The Maryland State Police (MDSP), officially the Department of Maryland State Police (MSP), is the official state police force of the U.S. state of Maryland. The Maryland State Police is headquartered at 1201 Reisterstown Road in the Pikesville CDP in unincorporated Baltimore County. \n",
      "\n",
      "2053 0.18367439699535565 False\n",
      "Christopher Stephen Grayling (born 1 April 1962) is a British Conservative Party politician and author who served as Secretary of State for Transport from 2016 to 2019. He has served as Member of Parliament (MP) for Epsom and Ewell since 2001. Grayling previously worked in the television and film industry. Grayling was born in London and studied History at Cambridge University. He wrote a number of books as well as working for the BBC and Channel 4 before going into politics. A member of the Social Democratic Party until 1988, he then joined the Conservatives. First elected to Parliament in the 2001 general election for Epsom and Ewell, he was appointed to the Shadow Cabinet of David Cameron in 2005 as Shadow Secretary of State for Transport. From 2007 he became the Shadow Secretary of State for Work and Pensions, and in 2009 he was appointed Shadow Home Secretary. Following the 2010 general election and the formation of the Coalition Government, Grayling was made the Minister of State for Employment. In September 2012, he was appointed to the UK Cabinet as the Lord Chancellor and Secretary of State for Justice from 2012 to 2015. He was the first non-lawyer to have served as Lord Chancellor for at least 440 years. He was the Leader of the House of Commons and the Lord President of the Council from 2015 to 2016. \n",
      "\n",
      "1274 0.17757907234684805 False\n",
      "The 1998 United States Senate election in Idaho was held November 3, 1998 alongside other elections to the United States Senate in other states as well as elections to the United States House of Representatives and various state and local elections. Incumbent Republican U.S. Senator Dirk Kempthorne decided to retire after one term to run for governor. Republican nominee Mike Crapo won the open seat. \n",
      "\n",
      "1779 0.17636273014558834 False\n",
      "Jodie Wickens is a Canadian politician, who served in the Legislative Assembly of British Columbia as a British Columbia New Democratic Party MLA for the Coquitlam-Burke Mountain electoral district. She was elected on February 2, 2016 in a by-election, defeating BC Liberal Party candidate Joan Isaacs and Green Party of British Columbia candidate Joe Keithley with 46% of the vote. In the 2017 provincial election, she was defeated by Joan Isaacs, who received 87 more votes. Prior to being elected, Wickens was executive director of the Autism Support Network. \n",
      "\n",
      "324 0.16971082160340045 True\n",
      "Wythe Leigh Kinsolving (November 14, 1878 – December, 1964) was an American Episcopal priest, writer, poet, Democratic Party political advocate, sometime pacifist, and anti-Communist. He wrote nine books and dozens of letters and op-ed essays for the New York Times, the Washington Post, and regional papers. He gave an invocation for a national audience at the 1924 Democratic National Convention. Prior to the Pearl Harbor attack in 1941, he strongly opposed going to war against Nazi Germany. \n",
      "\n",
      "1329 0.16777808384321927 False\n",
      "Russ Marchuk (born September 1946) is a Canadian politician, who was the Saskatchewan Party member elected to the Legislative Assembly of Saskatchewan in the 2011 election for the riding of Regina Douglas Park. Marchuk won the seat by ousting Saskatchewan New Democratic Party leader Dwain Lingenfelter in his own riding by a shocking 10-point margin. He retired in 2016. \n",
      "\n",
      "2841 0.16776129781475313 False\n",
      "Hartley Township is a township in Union County, Pennsylvania, United States. The population was 1, 714 at the 2000 census. The unincorporated village of Laurelton, where the office for Bald Eagle State Forest is located, is in the township. R. B. Winter State Park one of 120 Pennsylvania state parks is in Hartley Township. \n",
      "\n",
      "1496 0.16688103783624914 False\n",
      "Ulrich Junghanns (born in Gera, Thuringia 25 May 1956) is a German politician. From 2002 till 2008 he was Minister of Economy in the German state of Brandenburg and deputy Minister-President from 2007 till 2008. Junghanns went to a Polytechnic Secondary School and later became an apprentice at the national stud farm at Moritzburg. In 1986 he graduated from a correspondence course of State sciences. In 1974 he joined the Democratic Farmers' Party of Germany (DBD), a satellite party of the ruling Socialist Unity Party of Germany (SED). In 1990 Junghanns was elected as the deputy chairman of the DBD and shortly after that became the acting chairman of the party. In September 1990 the DBD fused with the CDU and until 1992 Junghanns was member of the board of the German Christian Democratic Union. In 1990 he was elected to the board of the CDU organisation in Brandenburg and as chairman of the CDU faction in the Landtag. From 1990 till 1998 Junghanns was a member of the Bundestag and chairman of the Brandenburg delegacy in the CDU faction. In 2007 he followed Jörg Schönbohm as chairman of the Brandenburg CDU, but resign from this post after the electoral defeat of the CDU in the 2008 Local Elections in Brandenburg. \n",
      "\n",
      "865 0.15111705176437917 True\n",
      "Frederick Scalera (born May 27, 1958) is an American Democratic Party politician who served in the New Jersey General Assembly from 2003 to 2011, representing the 36th Legislative District. Scalera resides in Nutley, New Jersey and is serving as a member of the town's Board of Education. \n",
      "\n"
     ]
    }
   ],
   "source": [
    "for answer, score in answers:\n",
    "    print(answer, score, answer in expected)\n",
    "    print(docs[answer], '\\n')"
   ]
  },
  {
   "cell_type": "code",
   "execution_count": 48,
   "metadata": {},
   "outputs": [],
   "source": [
    "retrieved = set([x for x, y in answers])"
   ]
  },
  {
   "cell_type": "code",
   "execution_count": 49,
   "metadata": {},
   "outputs": [],
   "source": [
    "expected = set(queries[query_texts[q_index][0]])"
   ]
  },
  {
   "cell_type": "code",
   "execution_count": 50,
   "metadata": {},
   "outputs": [
    {
     "name": "stdout",
     "output_type": "stream",
     "text": [
      "Precision: 0.5454545454545454\n"
     ]
    }
   ],
   "source": [
    "print('Precision: {}'.format(len(retrieved.intersection(expected)) / len(retrieved)))"
   ]
  },
  {
   "cell_type": "code",
   "execution_count": 51,
   "metadata": {},
   "outputs": [
    {
     "name": "stdout",
     "output_type": "stream",
     "text": [
      "Recall: 0.21428571428571427\n"
     ]
    }
   ],
   "source": [
    "print('Recall: {}'.format(len(retrieved.intersection(expected)) / len(expected)))"
   ]
  },
  {
   "cell_type": "markdown",
   "metadata": {},
   "source": [
    "## Comparison with boolean retrieval"
   ]
  },
  {
   "cell_type": "code",
   "execution_count": 39,
   "metadata": {},
   "outputs": [],
   "source": [
    "boolean_index = defaultdict(lambda: set())\n",
    "for i, doc in enumerate(pseudo_docs):\n",
    "    for token in doc.split():\n",
    "        boolean_index[token].add(i)"
   ]
  },
  {
   "cell_type": "code",
   "execution_count": 40,
   "metadata": {},
   "outputs": [],
   "source": [
    "boolean_query = tokens(query_texts[q_index][0])"
   ]
  },
  {
   "cell_type": "markdown",
   "metadata": {},
   "source": [
    "### AND query"
   ]
  },
  {
   "cell_type": "code",
   "execution_count": 41,
   "metadata": {},
   "outputs": [],
   "source": [
    "boolean_answer = None\n",
    "for token in boolean_query:\n",
    "    if boolean_answer is None:\n",
    "        boolean_answer = boolean_index[token]\n",
    "    else:\n",
    "        boolean_answer = boolean_answer.intersection(boolean_index[token])"
   ]
  },
  {
   "cell_type": "code",
   "execution_count": 42,
   "metadata": {},
   "outputs": [
    {
     "name": "stdout",
     "output_type": "stream",
     "text": [
      "Precision: 0.0\n",
      "Recall: 0.0\n"
     ]
    }
   ],
   "source": [
    "print('Precision: {}'.format(len(boolean_answer.intersection(expected)) / (len(boolean_answer)+1)))\n",
    "print('Recall: {}'.format(len(boolean_answer.intersection(expected)) / len(expected)))"
   ]
  },
  {
   "cell_type": "code",
   "execution_count": 43,
   "metadata": {},
   "outputs": [],
   "source": [
    "boolean_answer = None\n",
    "for token in boolean_query:\n",
    "    if boolean_answer is None:\n",
    "        boolean_answer = boolean_index[token]\n",
    "    else:\n",
    "        boolean_answer = boolean_answer.union(boolean_index[token])"
   ]
  },
  {
   "cell_type": "code",
   "execution_count": 44,
   "metadata": {},
   "outputs": [
    {
     "name": "stdout",
     "output_type": "stream",
     "text": [
      "Precision: 0.30158730158730157\n",
      "Recall: 0.6785714285714286\n"
     ]
    }
   ],
   "source": [
    "print('Precision: {}'.format(len(boolean_answer.intersection(expected)) / len(boolean_answer)))\n",
    "print('Recall: {}'.format(len(boolean_answer.intersection(expected)) / len(expected)))"
   ]
  },
  {
   "cell_type": "code",
   "execution_count": 52,
   "metadata": {},
   "outputs": [
    {
     "name": "stdout",
     "output_type": "stream",
     "text": [
      "Charles Albert \"Charlie\" Hall, Jr. (May 7, 1930 – November 20, 2014) was an American firefighter, labor activist, and politician. Born in Miami, Florida, Hall received his bachelor's degree in labor from Florida International University and his certificate in the trade union program from the Harvard Business School. He served as a firefighter for the City of Miami from 1952 to 1979. He was also involved with his labor union. He was also a professor at Florida International University and served on the Miami-Dade Ethics Commission. From 1980 to 1982, Hall served in the Florida House of Representatives and was a Democrat. Hall died in Tallahassee, Florida. \n",
      "\n",
      "Philip Henry Stoll (November 5, 1874 – October 29, 1958) was a U.S. Representative from South Carolina. Born in Little Rock, Marion (now Dillon) County, South Carolina, Stoll attended public school. He graduated from Wofford College, Spartanburg, South Carolina, in 1897. He was a teacher in the public schools 1897–1901. He studied law and was admitted to the bar in 1901. He practiced in Kingstree, South Carolina. He served as member of the State house of representatives 1905–1906 and then as solicitor of the third judicial circuit from 1908 to 1917, when he resigned. He served as chairman of the Democratic county committee and member of the Democratic State committee 1908–1918. With the outbreak of World War One, he was commissioned as a major in the Judge Advocate General's Department of the United States Army in 1917. He was promoted to the rank of lieutenant colonel in 1918 and served throughout the war. Stoll was elected as a Democrat to the Sixty-sixth Congress to fill the vacancy caused by the death of J. Willard Ragsdale. He was reelected to the Sixty-seventh Congress and served from October 7, 1919, to March 3, 1923. He was an unsuccessful candidate for renomination in 1922. After serving in Congress, he resumed the practice of law. He was again a member of the State house of representatives from 1929 to 1931. Stoll was elected as a judge of the third judicial circuit of South Carolina in 1931 and served until December 6, 1946, when he retired. In 1944, Judge Stoll sentenced 14-year old George Stinney, the second youngest person executed in US history, to death after a 1 day trial and a 10-minute deliberation by an all white jury. George Stinney's conviction was vacated in 2014 due to fundamental Constitutional violations. He died in Columbia, South Carolina, October 29, 1958. He was interred in Williamsburg Presbyterian Cemetery, Kingstree, South Carolina. \n",
      "\n",
      "Edward Bernard Patrick Murray (born May 2, 1955) is an American politician from the state of Washington who most recently served as the 53rd mayor of Seattle from 2014 to 2017. A Democrat, he was previously a state legislator, first with the Washington State House of Representatives from 1996 to 2007, then the Washington State Senate from 2007 to 2013. In 2017, Murray faced multiple allegations of child abuse, rape and sexual molestation, including some from family members and children under his care, all charges he denies. Murray resigned as mayor of Seattle on September 12, 2017. \n",
      "\n",
      "Jonathan's Law, a New York law signed in May 2007 by Governor Eliot Spitzer, established procedures for the notification of parents and guardians of incidents affecting the health and well-being of children and certain adults residing in state-run facilities. Jonathan's Law was sponsored by Assemblyman Harvey Weisenberg (D–Long Beach) and State Sen. Thomas P. Morahan (R–New City). The law is named for Jonathan Carey, an autistic child who was killed in 2007 by a direct care worker employed at the state-run facility where he lived. \n",
      "\n",
      "William R. Callahan (April 27, 1925 – January 1976) was a Democratic member of the Massachusetts House of Representatives. He was a Malden resident who represented the 16th Middlesex district for one term, from 1971 to 1973. Before serving in the state legislature, he was a member of the Malden Common Council for two years and the Malden City Council for 14 years. He was a member of multiple organizations, including the Knights of Columbus and the Ancient Order of Hibernians. \n",
      "\n",
      "The 1979 Kentucky gubernatorial election was held on November 6, 1979. Democratic nominee John Y. Brown Jr. defeated Republican nominee Louie Nunn with 59.41% of the vote. \n",
      "\n"
     ]
    }
   ],
   "source": [
    "c = 0\n",
    "for d in expected:\n",
    "    if d not in retrieved:\n",
    "        print(docs[d], '\\n')\n",
    "        c += 1\n",
    "    if c > 5:\n",
    "        break"
   ]
  },
  {
   "cell_type": "code",
   "execution_count": null,
   "metadata": {},
   "outputs": [],
   "source": []
  },
  {
   "cell_type": "code",
   "execution_count": null,
   "metadata": {},
   "outputs": [],
   "source": []
  }
 ],
 "metadata": {
  "kernelspec": {
   "display_name": "Python 3",
   "language": "python",
   "name": "python3"
  },
  "language_info": {
   "codemirror_mode": {
    "name": "ipython",
    "version": 3
   },
   "file_extension": ".py",
   "mimetype": "text/x-python",
   "name": "python",
   "nbconvert_exporter": "python",
   "pygments_lexer": "ipython3",
   "version": "3.7.4"
  },
  "toc": {
   "base_numbering": 1,
   "nav_menu": {},
   "number_sections": true,
   "sideBar": true,
   "skip_h1_title": true,
   "title_cell": "Table of Contents",
   "title_sidebar": "Contents",
   "toc_cell": false,
   "toc_position": {},
   "toc_section_display": true,
   "toc_window_display": true
  }
 },
 "nbformat": 4,
 "nbformat_minor": 2
}
