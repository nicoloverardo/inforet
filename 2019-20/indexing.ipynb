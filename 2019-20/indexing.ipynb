{
 "cells": [
  {
   "cell_type": "markdown",
   "metadata": {},
   "source": [
    "# Indexing\n",
    "- **Task**: index tokens in documents and weigth their relevance.\n",
    "- **Input**: tokenized documents\n",
    "- **Output**: term-document matrix\n",
    "\n",
    "### Main steps\n",
    "1. Tf (Term frequency)\n",
    "2. Idf (Inverse document frequency)\n",
    "3. TfIdf"
   ]
  },
  {
   "cell_type": "code",
   "execution_count": 1,
   "metadata": {},
   "outputs": [],
   "source": [
    "import json\n",
    "import pandas as pd\n",
    "import numpy as np\n",
    "from collections import Counter, defaultdict\n",
    "import spacy\n",
    "import nltk"
   ]
  },
  {
   "cell_type": "code",
   "execution_count": 2,
   "metadata": {},
   "outputs": [],
   "source": [
    "dataset_file = '../data/wiki_dataset.json'\n",
    "with open(dataset_file, 'r') as infile:\n",
    "    dataset = json.load(infile)\n",
    "docs = dataset['docs']\n",
    "queries = dataset['queries']"
   ]
  },
  {
   "cell_type": "code",
   "execution_count": 3,
   "metadata": {},
   "outputs": [],
   "source": [
    "nlp = spacy.load(\"en_core_web_sm\")"
   ]
  },
  {
   "cell_type": "code",
   "execution_count": 4,
   "metadata": {},
   "outputs": [],
   "source": [
    "tokens = lambda text: [x.lemma_ for x in nlp(text) if x.pos_ not in ['PUNCT', 'SPACE'] and not x.is_stop]"
   ]
  },
  {
   "cell_type": "markdown",
   "metadata": {},
   "source": [
    "## Indexing from scratch\n",
    "Index structure: <code>{doc_id: {token: tf(token, doc_id), ...}, ...}</code>"
   ]
  },
  {
   "cell_type": "markdown",
   "metadata": {},
   "source": [
    "### Tf\n",
    "In this example, we exploit double normalized K tf, with K = 0.5:\n",
    "$$\n",
    "tf(t, d) = K + (1 - K)\\frac{f(t,d)}{\\max\\limits_{t' \\in d} f(t',d)},\n",
    "$$\n",
    "where $f(t,d)$ is the frequency (i.e., count) of token $t$ in document $d$."
   ]
  },
  {
   "cell_type": "code",
   "execution_count": 5,
   "metadata": {},
   "outputs": [],
   "source": [
    "TF, k = {}, 0.5\n",
    "for docid, text in enumerate(docs):\n",
    "    f = Counter(tokens(text)).most_common()\n",
    "    maxf = f[0][1]\n",
    "    TF[docid] = dict([(token, k + (1 - k) * (x / maxf)) for token, x in f])"
   ]
  },
  {
   "cell_type": "code",
   "execution_count": 9,
   "metadata": {},
   "outputs": [
    {
     "data": {
      "text/plain": [
       "'Sabine Bramhoff (born 1 November 1964) is a retired German high jumper. She finished seventh at the 1989 European Indoor Championships. She represented the sports club LC Paderborn, and won the silver medal at the West German champion in 1989. Her personal best jump was 1.94 metres (6.3\\xa0ft), achieved in August 1990 in Düsseldorf.'"
      ]
     },
     "execution_count": 9,
     "metadata": {},
     "output_type": "execute_result"
    }
   ],
   "source": [
    "docs[124]"
   ]
  },
  {
   "cell_type": "markdown",
   "metadata": {},
   "source": [
    "#### Bag of words"
   ]
  },
  {
   "cell_type": "code",
   "execution_count": 11,
   "metadata": {},
   "outputs": [
    {
     "data": {
      "text/plain": [
       "[('german', 1.0),\n",
       " ('1989', 1.0),\n",
       " ('Sabine', 0.75),\n",
       " ('Bramhoff', 0.75),\n",
       " ('bear', 0.75),\n",
       " ('1', 0.75),\n",
       " ('November', 0.75),\n",
       " ('1964', 0.75),\n",
       " ('retire', 0.75),\n",
       " ('high', 0.75)]"
      ]
     },
     "execution_count": 11,
     "metadata": {},
     "output_type": "execute_result"
    }
   ],
   "source": [
    "list(sorted(TF[124].items(), key=lambda x: -x[1]))[:10]"
   ]
  },
  {
   "cell_type": "markdown",
   "metadata": {},
   "source": [
    "### Idf\n",
    "$$\n",
    "idf(t) = \\log \\left(\\frac{N}{n_t} \\right),\n",
    "$$\n",
    "where $N$ denotes the corpus size, and $n_t$ denotes the number of documents actually containing $t$."
   ]
  },
  {
   "cell_type": "code",
   "execution_count": 12,
   "metadata": {},
   "outputs": [],
   "source": [
    "DF, N = defaultdict(lambda: 0), len(docs)\n",
    "for k, bow in TF.items():\n",
    "    for t in bow.keys():\n",
    "        DF[t] += 1\n",
    "IDF = lambda x: np.log(N / DF[x])"
   ]
  },
  {
   "cell_type": "code",
   "execution_count": 13,
   "metadata": {},
   "outputs": [
    {
     "name": "stdout",
     "output_type": "stream",
     "text": [
      "23 8\n",
      "4.912654885736052 5.968707559985366\n"
     ]
    }
   ],
   "source": [
    "print(DF['send'], DF['chinese'])\n",
    "print(IDF('send'), IDF('chinese'))"
   ]
  },
  {
   "cell_type": "markdown",
   "metadata": {},
   "source": [
    "### TfIdf"
   ]
  },
  {
   "cell_type": "code",
   "execution_count": 14,
   "metadata": {},
   "outputs": [],
   "source": [
    "TfIdf = {}\n",
    "for k, bow in TF.items():\n",
    "    TfIdf[k] = dict([(token, w * IDF(token)) for token, w in bow.items()])"
   ]
  },
  {
   "cell_type": "code",
   "execution_count": 16,
   "metadata": {},
   "outputs": [
    {
     "data": {
      "text/plain": [
       "[('Bramhoff', 6.0361118262489),\n",
       " ('LC', 6.0361118262489),\n",
       " ('Paderborn', 6.0361118262489),\n",
       " ('1.94', 6.0361118262489),\n",
       " ('ft', 6.0361118262489),\n",
       " ('jumper', 5.516251440828943),\n",
       " ('Indoor', 5.516251440828943),\n",
       " ('6.3', 5.516251440828943),\n",
       " ('Düsseldorf', 5.516251440828943),\n",
       " ('Sabine', 4.996391055408983)]"
      ]
     },
     "execution_count": 16,
     "metadata": {},
     "output_type": "execute_result"
    }
   ],
   "source": [
    "list(sorted(TfIdf[124].items(), key=lambda x: -x[1]))[:10]"
   ]
  },
  {
   "cell_type": "markdown",
   "metadata": {},
   "source": [
    "## Multiword indexing and compound terms selection\n",
    "**Task**: find sequences of n words (called n_grams) that should be counted as a single word during indexing (i.e., New York).\n",
    "\n",
    "**Approch**: use pointwise mutual information to estimate the probability of a n_gram (say a 2_gram in the example) to be a single compound term\n",
    "\n",
    "$$\n",
    "pmi(t_i, t_j) = \\log \\left (\\frac{P(t_i, t_j)}{P(t_i)P(t_j)} \\right ) \n",
    "$$\n",
    "\n",
    "Denoting $f(t)$ the frequency of terms in the corpus, probabilities can be estimated as:\n",
    "\n",
    "$$\n",
    "P(t_i, t_j) = \\frac{f(t_i, t_j)}{\\sum\\limits_{(x, y) \\in corpus}f(x, y)} \n",
    ", P(t_i) = \\frac{f(t_i)}{\\sum\\limits_{t \\in corpus}f(t)}\n",
    "$$"
   ]
  },
  {
   "cell_type": "markdown",
   "metadata": {},
   "source": [
    "#### unigram prebability estimation"
   ]
  },
  {
   "cell_type": "code",
   "execution_count": 17,
   "metadata": {},
   "outputs": [],
   "source": [
    "U, Un = defaultdict(lambda: 0), 0\n",
    "for doc in docs:\n",
    "    for token in tokens(doc):\n",
    "        U[token] += 1\n",
    "        Un += 1"
   ]
  },
  {
   "cell_type": "code",
   "execution_count": 18,
   "metadata": {},
   "outputs": [],
   "source": [
    "p_u = lambda x: U[x] / Un"
   ]
  },
  {
   "cell_type": "code",
   "execution_count": 19,
   "metadata": {},
   "outputs": [
    {
     "name": "stdout",
     "output_type": "stream",
     "text": [
      "98 129076 0.0007592426167529208\n"
     ]
    }
   ],
   "source": [
    "print(U['school'], Un, p_u('school'))"
   ]
  },
  {
   "cell_type": "markdown",
   "metadata": {},
   "source": [
    "#### bigram probability estimation"
   ]
  },
  {
   "cell_type": "code",
   "execution_count": 20,
   "metadata": {},
   "outputs": [],
   "source": [
    "B, Bn = defaultdict(lambda: 0), 0\n",
    "for doc in docs:\n",
    "    for a, b in nltk.ngrams(tokens(doc), 2):\n",
    "        B[(a, b)] += 1\n",
    "        Bn += 1"
   ]
  },
  {
   "cell_type": "code",
   "execution_count": 21,
   "metadata": {},
   "outputs": [],
   "source": [
    "p_b = lambda x, y: B[(x, y)] / Bn"
   ]
  },
  {
   "cell_type": "code",
   "execution_count": 22,
   "metadata": {},
   "outputs": [
    {
     "name": "stdout",
     "output_type": "stream",
     "text": [
      "204 125948 0.0016197160733000921\n"
     ]
    }
   ],
   "source": [
    "print(B[('New', 'York')], Bn, p_b('New', 'York'))"
   ]
  },
  {
   "cell_type": "markdown",
   "metadata": {},
   "source": [
    "#### Pmi"
   ]
  },
  {
   "cell_type": "code",
   "execution_count": 23,
   "metadata": {},
   "outputs": [],
   "source": [
    "PMI = {}\n",
    "for (a, b), _ in B.items():\n",
    "    PMI[(a, b)] = np.log(p_b(a, b) / (p_u(a) * p_u(b)))"
   ]
  },
  {
   "cell_type": "code",
   "execution_count": 24,
   "metadata": {},
   "outputs": [
    {
     "name": "stdout",
     "output_type": "stream",
     "text": [
      "Glaucium stigma 11.792688911965513 1 1\n",
      "stigma lobe 11.792688911965513 1 1\n",
      "lactucoide Himalayan 11.792688911965513 1 1\n",
      "subgroup Rhaetian 11.792688911965513 1 1\n",
      "belltower campanile 11.792688911965513 1 1\n",
      "triassic sedimentary 11.792688911965513 1 1\n",
      "illustrious forebear 11.792688911965513 1 1\n",
      "Mayora Rengifo 11.792688911965513 1 1\n",
      "UT Cajamarca 11.792688911965513 1 1\n",
      "physalaemus maculiventris 11.792688911965513 1 1\n"
     ]
    }
   ],
   "source": [
    "for (a, b), p in sorted(PMI.items(), key=lambda x: -x[1])[:10]:\n",
    "    print(a, b, p, U[a], U[b])"
   ]
  },
  {
   "cell_type": "markdown",
   "metadata": {},
   "source": [
    "#### Use a threshold on the miminum number of occurrences requested"
   ]
  },
  {
   "cell_type": "code",
   "execution_count": 25,
   "metadata": {},
   "outputs": [],
   "source": [
    "PMI, th = {}, 5\n",
    "for (a, b), _ in B.items():\n",
    "    if U[a] > th and U[b] > th:\n",
    "        PMI[(a, b)] = np.log(p_b(a, b) / (p_u(a) * p_u(b)))"
   ]
  },
  {
   "cell_type": "code",
   "execution_count": 26,
   "metadata": {},
   "outputs": [
    {
     "name": "stdout",
     "output_type": "stream",
     "text": [
      "Hong Kong 10.000929442737458 6 6\n",
      "Franche Comté 10.000929442737458 6 6\n",
      "Fissurellidae keyhole 9.8467787629102 6 7\n",
      "Serbian Cyrillic 9.818607885943504 6 6\n",
      "Northwest Territories 9.713247370285677 8 7\n",
      "Singles Chart 9.664457206116245 7 6\n",
      "Pearl Jam 9.664457206116245 7 6\n",
      "Pyramidellidae pyram 9.595464334629295 8 9\n",
      "Terebridae auger 9.595464334629295 9 9\n",
      "Buenos Aires 9.490103818971468 10 10\n"
     ]
    }
   ],
   "source": [
    "for (a, b), p in sorted(PMI.items(), key=lambda x: -x[1])[:10]:\n",
    "    print(a, b, p, U[a], U[b])"
   ]
  },
  {
   "cell_type": "markdown",
   "metadata": {},
   "source": [
    "### Embed bigrams in tokenization"
   ]
  },
  {
   "cell_type": "code",
   "execution_count": 27,
   "metadata": {},
   "outputs": [],
   "source": [
    "def pmi_tokenizer(doc, perc=95):\n",
    "    bigram = []\n",
    "    words = []\n",
    "    tks = tokens(doc)\n",
    "    th = np.percentile(list(PMI.values()), perc)\n",
    "    for (a, b) in nltk.ngrams(tks, 2):\n",
    "        if (a, b) in PMI.keys() and PMI[(a, b)] > th:\n",
    "            if len(bigram) == 0:\n",
    "                bigram += [a, b]\n",
    "            else:\n",
    "                bigram.append(b)\n",
    "        else:\n",
    "            if len(bigram) > 0:\n",
    "                words.append(\" \".join(bigram))\n",
    "                bigram = []\n",
    "            else:\n",
    "                words.append(a)\n",
    "    if tks[-1] != words[-1].split()[-1]:\n",
    "        words.append(tks[-1])\n",
    "    return words"
   ]
  },
  {
   "cell_type": "code",
   "execution_count": 28,
   "metadata": {},
   "outputs": [],
   "source": [
    "pmi_tokens = lambda doc: pmi_tokenizer(doc, perc=90)"
   ]
  },
  {
   "cell_type": "code",
   "execution_count": 44,
   "metadata": {},
   "outputs": [
    {
     "name": "stdout",
     "output_type": "stream",
     "text": [
      "['model', 'China', 'Special', 'Administrative', 'Regions', 'SARs', 'Hong', 'Kong', 'Macau', 'like']\n",
      "['Regions', 'SARs', 'Hong Kong', 'Macau', 'like', 'Basic', 'Law', '기본법', 'Kibonpŏp', 'chinese']\n"
     ]
    }
   ],
   "source": [
    "print(tokens(docs[180])[40:50])\n",
    "print(pmi_tokens(docs[180])[40:50])"
   ]
  },
  {
   "cell_type": "markdown",
   "metadata": {},
   "source": [
    "### Term-document matrix"
   ]
  },
  {
   "cell_type": "code",
   "execution_count": 45,
   "metadata": {},
   "outputs": [],
   "source": [
    "M = pd.DataFrame(TfIdf)\n",
    "M.fillna(0, inplace=True)"
   ]
  },
  {
   "cell_type": "code",
   "execution_count": 46,
   "metadata": {},
   "outputs": [
    {
     "data": {
      "text/plain": [
       "(24808, 3128)"
      ]
     },
     "execution_count": 46,
     "metadata": {},
     "output_type": "execute_result"
    }
   ],
   "source": [
    "M.shape"
   ]
  },
  {
   "cell_type": "code",
   "execution_count": 47,
   "metadata": {},
   "outputs": [
    {
     "data": {
      "text/html": [
       "<div>\n",
       "<style scoped>\n",
       "    .dataframe tbody tr th:only-of-type {\n",
       "        vertical-align: middle;\n",
       "    }\n",
       "\n",
       "    .dataframe tbody tr th {\n",
       "        vertical-align: top;\n",
       "    }\n",
       "\n",
       "    .dataframe thead th {\n",
       "        text-align: right;\n",
       "    }\n",
       "</style>\n",
       "<table border=\"1\" class=\"dataframe\">\n",
       "  <thead>\n",
       "    <tr style=\"text-align: right;\">\n",
       "      <th></th>\n",
       "      <th>0</th>\n",
       "      <th>1</th>\n",
       "      <th>2</th>\n",
       "      <th>3</th>\n",
       "      <th>4</th>\n",
       "      <th>5</th>\n",
       "      <th>6</th>\n",
       "      <th>7</th>\n",
       "      <th>8</th>\n",
       "      <th>9</th>\n",
       "      <th>...</th>\n",
       "      <th>3118</th>\n",
       "      <th>3119</th>\n",
       "      <th>3120</th>\n",
       "      <th>3121</th>\n",
       "      <th>3122</th>\n",
       "      <th>3123</th>\n",
       "      <th>3124</th>\n",
       "      <th>3125</th>\n",
       "      <th>3126</th>\n",
       "      <th>3127</th>\n",
       "    </tr>\n",
       "  </thead>\n",
       "  <tbody>\n",
       "    <tr>\n",
       "      <td>South</td>\n",
       "      <td>3.347669</td>\n",
       "      <td>0.0</td>\n",
       "      <td>0.0</td>\n",
       "      <td>0.000000</td>\n",
       "      <td>0.0</td>\n",
       "      <td>0.0</td>\n",
       "      <td>0.0</td>\n",
       "      <td>0.0</td>\n",
       "      <td>0.0</td>\n",
       "      <td>0.0</td>\n",
       "      <td>...</td>\n",
       "      <td>0.0</td>\n",
       "      <td>0.0</td>\n",
       "      <td>0.0</td>\n",
       "      <td>0.0</td>\n",
       "      <td>0.0</td>\n",
       "      <td>3.347669</td>\n",
       "      <td>0.0</td>\n",
       "      <td>0.0</td>\n",
       "      <td>0.0</td>\n",
       "      <td>0.0</td>\n",
       "    </tr>\n",
       "    <tr>\n",
       "      <td>Carolina</td>\n",
       "      <td>4.912655</td>\n",
       "      <td>0.0</td>\n",
       "      <td>0.0</td>\n",
       "      <td>0.000000</td>\n",
       "      <td>0.0</td>\n",
       "      <td>0.0</td>\n",
       "      <td>0.0</td>\n",
       "      <td>0.0</td>\n",
       "      <td>0.0</td>\n",
       "      <td>0.0</td>\n",
       "      <td>...</td>\n",
       "      <td>0.0</td>\n",
       "      <td>0.0</td>\n",
       "      <td>0.0</td>\n",
       "      <td>0.0</td>\n",
       "      <td>0.0</td>\n",
       "      <td>0.000000</td>\n",
       "      <td>0.0</td>\n",
       "      <td>0.0</td>\n",
       "      <td>0.0</td>\n",
       "      <td>0.0</td>\n",
       "    </tr>\n",
       "    <tr>\n",
       "      <td>Great</td>\n",
       "      <td>3.956670</td>\n",
       "      <td>0.0</td>\n",
       "      <td>0.0</td>\n",
       "      <td>0.000000</td>\n",
       "      <td>0.0</td>\n",
       "      <td>0.0</td>\n",
       "      <td>0.0</td>\n",
       "      <td>0.0</td>\n",
       "      <td>0.0</td>\n",
       "      <td>0.0</td>\n",
       "      <td>...</td>\n",
       "      <td>0.0</td>\n",
       "      <td>0.0</td>\n",
       "      <td>0.0</td>\n",
       "      <td>0.0</td>\n",
       "      <td>0.0</td>\n",
       "      <td>0.000000</td>\n",
       "      <td>0.0</td>\n",
       "      <td>0.0</td>\n",
       "      <td>0.0</td>\n",
       "      <td>0.0</td>\n",
       "    </tr>\n",
       "    <tr>\n",
       "      <td>Falls</td>\n",
       "      <td>4.476531</td>\n",
       "      <td>0.0</td>\n",
       "      <td>0.0</td>\n",
       "      <td>0.000000</td>\n",
       "      <td>0.0</td>\n",
       "      <td>0.0</td>\n",
       "      <td>0.0</td>\n",
       "      <td>0.0</td>\n",
       "      <td>0.0</td>\n",
       "      <td>0.0</td>\n",
       "      <td>...</td>\n",
       "      <td>0.0</td>\n",
       "      <td>0.0</td>\n",
       "      <td>0.0</td>\n",
       "      <td>0.0</td>\n",
       "      <td>0.0</td>\n",
       "      <td>0.000000</td>\n",
       "      <td>0.0</td>\n",
       "      <td>0.0</td>\n",
       "      <td>0.0</td>\n",
       "      <td>0.0</td>\n",
       "    </tr>\n",
       "    <tr>\n",
       "      <td>town</td>\n",
       "      <td>2.567382</td>\n",
       "      <td>0.0</td>\n",
       "      <td>0.0</td>\n",
       "      <td>2.282118</td>\n",
       "      <td>0.0</td>\n",
       "      <td>0.0</td>\n",
       "      <td>0.0</td>\n",
       "      <td>0.0</td>\n",
       "      <td>0.0</td>\n",
       "      <td>0.0</td>\n",
       "      <td>...</td>\n",
       "      <td>0.0</td>\n",
       "      <td>0.0</td>\n",
       "      <td>0.0</td>\n",
       "      <td>0.0</td>\n",
       "      <td>0.0</td>\n",
       "      <td>0.000000</td>\n",
       "      <td>0.0</td>\n",
       "      <td>0.0</td>\n",
       "      <td>0.0</td>\n",
       "      <td>0.0</td>\n",
       "    </tr>\n",
       "  </tbody>\n",
       "</table>\n",
       "<p>5 rows × 3128 columns</p>\n",
       "</div>"
      ],
      "text/plain": [
       "              0     1     2         3     4     5     6     7     8     9     \\\n",
       "South     3.347669   0.0   0.0  0.000000   0.0   0.0   0.0   0.0   0.0   0.0   \n",
       "Carolina  4.912655   0.0   0.0  0.000000   0.0   0.0   0.0   0.0   0.0   0.0   \n",
       "Great     3.956670   0.0   0.0  0.000000   0.0   0.0   0.0   0.0   0.0   0.0   \n",
       "Falls     4.476531   0.0   0.0  0.000000   0.0   0.0   0.0   0.0   0.0   0.0   \n",
       "town      2.567382   0.0   0.0  2.282118   0.0   0.0   0.0   0.0   0.0   0.0   \n",
       "\n",
       "          ...  3118  3119  3120  3121  3122      3123  3124  3125  3126  3127  \n",
       "South     ...   0.0   0.0   0.0   0.0   0.0  3.347669   0.0   0.0   0.0   0.0  \n",
       "Carolina  ...   0.0   0.0   0.0   0.0   0.0  0.000000   0.0   0.0   0.0   0.0  \n",
       "Great     ...   0.0   0.0   0.0   0.0   0.0  0.000000   0.0   0.0   0.0   0.0  \n",
       "Falls     ...   0.0   0.0   0.0   0.0   0.0  0.000000   0.0   0.0   0.0   0.0  \n",
       "town      ...   0.0   0.0   0.0   0.0   0.0  0.000000   0.0   0.0   0.0   0.0  \n",
       "\n",
       "[5 rows x 3128 columns]"
      ]
     },
     "execution_count": 47,
     "metadata": {},
     "output_type": "execute_result"
    }
   ],
   "source": [
    "M.head()"
   ]
  },
  {
   "cell_type": "code",
   "execution_count": 48,
   "metadata": {},
   "outputs": [
    {
     "data": {
      "text/html": [
       "<div>\n",
       "<style scoped>\n",
       "    .dataframe tbody tr th:only-of-type {\n",
       "        vertical-align: middle;\n",
       "    }\n",
       "\n",
       "    .dataframe tbody tr th {\n",
       "        vertical-align: top;\n",
       "    }\n",
       "\n",
       "    .dataframe thead th {\n",
       "        text-align: right;\n",
       "    }\n",
       "</style>\n",
       "<table border=\"1\" class=\"dataframe\">\n",
       "  <thead>\n",
       "    <tr style=\"text-align: right;\">\n",
       "      <th></th>\n",
       "      <th>South</th>\n",
       "      <th>Carolina</th>\n",
       "      <th>Great</th>\n",
       "      <th>Falls</th>\n",
       "      <th>town</th>\n",
       "      <th>Chester</th>\n",
       "      <th>County</th>\n",
       "      <th>United</th>\n",
       "      <th>States</th>\n",
       "      <th>locate</th>\n",
       "      <th>...</th>\n",
       "      <th>Masoala</th>\n",
       "      <th>kona</th>\n",
       "      <th>palm</th>\n",
       "      <th>few</th>\n",
       "      <th>Ochil</th>\n",
       "      <th>Jamestown</th>\n",
       "      <th>Steuben</th>\n",
       "      <th>Morehouse</th>\n",
       "      <th>Artanovsky</th>\n",
       "      <th>225</th>\n",
       "    </tr>\n",
       "  </thead>\n",
       "  <tbody>\n",
       "    <tr>\n",
       "      <td>0</td>\n",
       "      <td>3.347669</td>\n",
       "      <td>4.912655</td>\n",
       "      <td>3.95667</td>\n",
       "      <td>4.476531</td>\n",
       "      <td>2.567382</td>\n",
       "      <td>4.1124</td>\n",
       "      <td>1.698243</td>\n",
       "      <td>1.546273</td>\n",
       "      <td>1.733683</td>\n",
       "      <td>1.938238</td>\n",
       "      <td>...</td>\n",
       "      <td>0.0</td>\n",
       "      <td>0.0</td>\n",
       "      <td>0.0</td>\n",
       "      <td>0.0</td>\n",
       "      <td>0.0</td>\n",
       "      <td>0.0</td>\n",
       "      <td>0.0</td>\n",
       "      <td>0.0</td>\n",
       "      <td>0.0</td>\n",
       "      <td>0.0</td>\n",
       "    </tr>\n",
       "    <tr>\n",
       "      <td>1</td>\n",
       "      <td>0.000000</td>\n",
       "      <td>0.000000</td>\n",
       "      <td>0.00000</td>\n",
       "      <td>0.000000</td>\n",
       "      <td>0.000000</td>\n",
       "      <td>0.0000</td>\n",
       "      <td>0.000000</td>\n",
       "      <td>0.000000</td>\n",
       "      <td>0.000000</td>\n",
       "      <td>0.000000</td>\n",
       "      <td>...</td>\n",
       "      <td>0.0</td>\n",
       "      <td>0.0</td>\n",
       "      <td>0.0</td>\n",
       "      <td>0.0</td>\n",
       "      <td>0.0</td>\n",
       "      <td>0.0</td>\n",
       "      <td>0.0</td>\n",
       "      <td>0.0</td>\n",
       "      <td>0.0</td>\n",
       "      <td>0.0</td>\n",
       "    </tr>\n",
       "    <tr>\n",
       "      <td>2</td>\n",
       "      <td>0.000000</td>\n",
       "      <td>0.000000</td>\n",
       "      <td>0.00000</td>\n",
       "      <td>0.000000</td>\n",
       "      <td>0.000000</td>\n",
       "      <td>0.0000</td>\n",
       "      <td>0.000000</td>\n",
       "      <td>0.000000</td>\n",
       "      <td>0.000000</td>\n",
       "      <td>0.000000</td>\n",
       "      <td>...</td>\n",
       "      <td>0.0</td>\n",
       "      <td>0.0</td>\n",
       "      <td>0.0</td>\n",
       "      <td>0.0</td>\n",
       "      <td>0.0</td>\n",
       "      <td>0.0</td>\n",
       "      <td>0.0</td>\n",
       "      <td>0.0</td>\n",
       "      <td>0.0</td>\n",
       "      <td>0.0</td>\n",
       "    </tr>\n",
       "    <tr>\n",
       "      <td>3</td>\n",
       "      <td>0.000000</td>\n",
       "      <td>0.000000</td>\n",
       "      <td>0.00000</td>\n",
       "      <td>0.000000</td>\n",
       "      <td>2.282118</td>\n",
       "      <td>0.0000</td>\n",
       "      <td>1.509549</td>\n",
       "      <td>1.374465</td>\n",
       "      <td>1.541051</td>\n",
       "      <td>1.722878</td>\n",
       "      <td>...</td>\n",
       "      <td>0.0</td>\n",
       "      <td>0.0</td>\n",
       "      <td>0.0</td>\n",
       "      <td>0.0</td>\n",
       "      <td>0.0</td>\n",
       "      <td>0.0</td>\n",
       "      <td>0.0</td>\n",
       "      <td>0.0</td>\n",
       "      <td>0.0</td>\n",
       "      <td>0.0</td>\n",
       "    </tr>\n",
       "    <tr>\n",
       "      <td>4</td>\n",
       "      <td>0.000000</td>\n",
       "      <td>0.000000</td>\n",
       "      <td>0.00000</td>\n",
       "      <td>0.000000</td>\n",
       "      <td>0.000000</td>\n",
       "      <td>0.0000</td>\n",
       "      <td>0.000000</td>\n",
       "      <td>0.000000</td>\n",
       "      <td>0.000000</td>\n",
       "      <td>0.000000</td>\n",
       "      <td>...</td>\n",
       "      <td>0.0</td>\n",
       "      <td>0.0</td>\n",
       "      <td>0.0</td>\n",
       "      <td>0.0</td>\n",
       "      <td>0.0</td>\n",
       "      <td>0.0</td>\n",
       "      <td>0.0</td>\n",
       "      <td>0.0</td>\n",
       "      <td>0.0</td>\n",
       "      <td>0.0</td>\n",
       "    </tr>\n",
       "  </tbody>\n",
       "</table>\n",
       "<p>5 rows × 24808 columns</p>\n",
       "</div>"
      ],
      "text/plain": [
       "      South  Carolina    Great     Falls      town  Chester    County  \\\n",
       "0  3.347669  4.912655  3.95667  4.476531  2.567382   4.1124  1.698243   \n",
       "1  0.000000  0.000000  0.00000  0.000000  0.000000   0.0000  0.000000   \n",
       "2  0.000000  0.000000  0.00000  0.000000  0.000000   0.0000  0.000000   \n",
       "3  0.000000  0.000000  0.00000  0.000000  2.282118   0.0000  1.509549   \n",
       "4  0.000000  0.000000  0.00000  0.000000  0.000000   0.0000  0.000000   \n",
       "\n",
       "     United    States    locate  ...  Masoala  kona  palm  few  Ochil  \\\n",
       "0  1.546273  1.733683  1.938238  ...      0.0   0.0   0.0  0.0    0.0   \n",
       "1  0.000000  0.000000  0.000000  ...      0.0   0.0   0.0  0.0    0.0   \n",
       "2  0.000000  0.000000  0.000000  ...      0.0   0.0   0.0  0.0    0.0   \n",
       "3  1.374465  1.541051  1.722878  ...      0.0   0.0   0.0  0.0    0.0   \n",
       "4  0.000000  0.000000  0.000000  ...      0.0   0.0   0.0  0.0    0.0   \n",
       "\n",
       "   Jamestown  Steuben  Morehouse  Artanovsky  225  \n",
       "0        0.0      0.0        0.0         0.0  0.0  \n",
       "1        0.0      0.0        0.0         0.0  0.0  \n",
       "2        0.0      0.0        0.0         0.0  0.0  \n",
       "3        0.0      0.0        0.0         0.0  0.0  \n",
       "4        0.0      0.0        0.0         0.0  0.0  \n",
       "\n",
       "[5 rows x 24808 columns]"
      ]
     },
     "execution_count": 48,
     "metadata": {},
     "output_type": "execute_result"
    }
   ],
   "source": [
    "M.T.head()"
   ]
  },
  {
   "cell_type": "markdown",
   "metadata": {},
   "source": [
    "## Text processing with scikit-learn\n",
    "A tutorial on scikit-learn text processing is available [here](https://scikit-learn.org/stable/tutorial/text_analytics/working_with_text_data.html)"
   ]
  },
  {
   "cell_type": "code",
   "execution_count": 49,
   "metadata": {},
   "outputs": [],
   "source": [
    "from sklearn.feature_extraction.text import CountVectorizer\n",
    "from sklearn.feature_extraction.text import TfidfTransformer"
   ]
  },
  {
   "cell_type": "markdown",
   "metadata": {},
   "source": [
    "Scikit-learn text facilities expect to work with text as strings instead of pre-tokenized text. Thus, we create a pseudo-text by exploiting our previous tokenizers and creating pseudo words for bigrams."
   ]
  },
  {
   "cell_type": "code",
   "execution_count": 50,
   "metadata": {},
   "outputs": [],
   "source": [
    "pseudo_docs = [\" \".join([x.replace(' ', '_') for x in pmi_tokens(d)]) for d in docs]"
   ]
  },
  {
   "cell_type": "code",
   "execution_count": 51,
   "metadata": {},
   "outputs": [
    {
     "data": {
      "text/plain": [
       "'Sinŭiju Special Administrative Region special administrative region SAR North Korea proclaim 2002 de facto operation 2014 border China establish September 2002 area include part Sinŭiju surround area attempt introduce market economic_directly_govern_case directly_govern Cities special administrative region model China Special Administrative Regions SARs Hong_Kong Macau like Basic Law 기본법 Kibonpŏp chinese dutch businessman Yang Bin appoint governor SPA Presidium 2002 formally assume post arrest_chinese_authority_sentence 18 year prison_tax evasion economic_crime north korean_authority soon announce development sinŭiju SAR continue SAR administration_Commission Foreign Economic Cooperation Promotion plan SAR abandon April 2008 SAR reform_effect widely believe North Korea_abandon_project governor_arrest Julie Sa 沙日香 appoint governor 2004'"
      ]
     },
     "execution_count": 51,
     "metadata": {},
     "output_type": "execute_result"
    }
   ],
   "source": [
    "pseudo_docs[180]"
   ]
  },
  {
   "cell_type": "code",
   "execution_count": 52,
   "metadata": {},
   "outputs": [],
   "source": [
    "V = CountVectorizer()"
   ]
  },
  {
   "cell_type": "code",
   "execution_count": 53,
   "metadata": {},
   "outputs": [],
   "source": [
    "C = V.fit_transform(pseudo_docs)"
   ]
  },
  {
   "cell_type": "code",
   "execution_count": 54,
   "metadata": {},
   "outputs": [
    {
     "data": {
      "text/plain": [
       "<3128x25779 sparse matrix of type '<class 'numpy.int64'>'\n",
       "\twith 96325 stored elements in Compressed Sparse Row format>"
      ]
     },
     "execution_count": 54,
     "metadata": {},
     "output_type": "execute_result"
    }
   ],
   "source": [
    "C"
   ]
  },
  {
   "cell_type": "code",
   "execution_count": 55,
   "metadata": {},
   "outputs": [
    {
     "data": {
      "text/plain": [
       "array([[0, 0, 0, ..., 0, 0, 0],\n",
       "       [0, 0, 0, ..., 0, 0, 0],\n",
       "       [0, 0, 0, ..., 0, 0, 0],\n",
       "       ...,\n",
       "       [0, 0, 0, ..., 0, 0, 0],\n",
       "       [0, 0, 0, ..., 0, 0, 0],\n",
       "       [0, 0, 0, ..., 0, 0, 0]])"
      ]
     },
     "execution_count": 55,
     "metadata": {},
     "output_type": "execute_result"
    }
   ],
   "source": [
    "C.toarray()"
   ]
  },
  {
   "cell_type": "markdown",
   "metadata": {},
   "source": [
    "#### Map matrix columns on words"
   ]
  },
  {
   "cell_type": "code",
   "execution_count": 59,
   "metadata": {},
   "outputs": [
    {
     "data": {
      "text/plain": [
       "11514"
      ]
     },
     "execution_count": 59,
     "metadata": {},
     "output_type": "execute_result"
    }
   ],
   "source": [
    "V.vocabulary_.get('hong_kong')"
   ]
  },
  {
   "cell_type": "code",
   "execution_count": 61,
   "metadata": {},
   "outputs": [
    {
     "data": {
      "text/plain": [
       "(array([ 180, 1418, 1792, 2749]), array([0, 0, 0, 0]))"
      ]
     },
     "execution_count": 61,
     "metadata": {},
     "output_type": "execute_result"
    }
   ],
   "source": [
    "np.nonzero(C[:,11514].toarray())"
   ]
  },
  {
   "cell_type": "code",
   "execution_count": 62,
   "metadata": {},
   "outputs": [
    {
     "data": {
      "text/plain": [
       "1"
      ]
     },
     "execution_count": 62,
     "metadata": {},
     "output_type": "execute_result"
    }
   ],
   "source": [
    "C[180, 11514]"
   ]
  },
  {
   "cell_type": "markdown",
   "metadata": {},
   "source": [
    "### TfIdf"
   ]
  },
  {
   "cell_type": "code",
   "execution_count": 63,
   "metadata": {},
   "outputs": [],
   "source": [
    "tf_idf = TfidfTransformer(use_idf=True)\n",
    "X = tf_idf.fit_transform(C)"
   ]
  },
  {
   "cell_type": "code",
   "execution_count": 64,
   "metadata": {},
   "outputs": [
    {
     "data": {
      "text/plain": [
       "<3128x25779 sparse matrix of type '<class 'numpy.float64'>'\n",
       "\twith 96325 stored elements in Compressed Sparse Row format>"
      ]
     },
     "execution_count": 64,
     "metadata": {},
     "output_type": "execute_result"
    }
   ],
   "source": [
    "X"
   ]
  },
  {
   "cell_type": "code",
   "execution_count": 65,
   "metadata": {},
   "outputs": [
    {
     "data": {
      "text/plain": [
       "array([[0., 0., 0., ..., 0., 0., 0.],\n",
       "       [0., 0., 0., ..., 0., 0., 0.],\n",
       "       [0., 0., 0., ..., 0., 0., 0.],\n",
       "       ...,\n",
       "       [0., 0., 0., ..., 0., 0., 0.],\n",
       "       [0., 0., 0., ..., 0., 0., 0.],\n",
       "       [0., 0., 0., ..., 0., 0., 0.]])"
      ]
     },
     "execution_count": 65,
     "metadata": {},
     "output_type": "execute_result"
    }
   ],
   "source": [
    "X.toarray()"
   ]
  },
  {
   "cell_type": "code",
   "execution_count": 66,
   "metadata": {},
   "outputs": [
    {
     "data": {
      "text/plain": [
       "0.08535316687415362"
      ]
     },
     "execution_count": 66,
     "metadata": {},
     "output_type": "execute_result"
    }
   ],
   "source": [
    "X[180, 11514]"
   ]
  },
  {
   "cell_type": "code",
   "execution_count": null,
   "metadata": {},
   "outputs": [],
   "source": []
  }
 ],
 "metadata": {
  "kernelspec": {
   "display_name": "Python 3",
   "language": "python",
   "name": "python3"
  },
  "language_info": {
   "codemirror_mode": {
    "name": "ipython",
    "version": 3
   },
   "file_extension": ".py",
   "mimetype": "text/x-python",
   "name": "python",
   "nbconvert_exporter": "python",
   "pygments_lexer": "ipython3",
   "version": "3.7.4"
  }
 },
 "nbformat": 4,
 "nbformat_minor": 2
}
